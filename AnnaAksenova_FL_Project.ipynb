{
  "nbformat": 4,
  "nbformat_minor": 0,
  "metadata": {
    "colab": {
      "provenance": []
    },
    "kernelspec": {
      "name": "python3",
      "display_name": "Python 3"
    },
    "language_info": {
      "name": "python"
    },
    "widgets": {
      "application/vnd.jupyter.widget-state+json": {
        "c51ffbdf5a0543638e4ba39b684c4ec8": {
          "model_module": "@jupyter-widgets/controls",
          "model_name": "HBoxModel",
          "model_module_version": "1.5.0",
          "state": {
            "_dom_classes": [],
            "_model_module": "@jupyter-widgets/controls",
            "_model_module_version": "1.5.0",
            "_model_name": "HBoxModel",
            "_view_count": null,
            "_view_module": "@jupyter-widgets/controls",
            "_view_module_version": "1.5.0",
            "_view_name": "HBoxView",
            "box_style": "",
            "children": [
              "IPY_MODEL_3d1e4f2e772b42fd9baa15c84d9ac52c",
              "IPY_MODEL_350f1cd3ecb44477b6e87cf96dd47123",
              "IPY_MODEL_efab04760a784fc9b94eb74bc86b8f21"
            ],
            "layout": "IPY_MODEL_43ca528461a04a039291bf57314c9ffc"
          }
        },
        "3d1e4f2e772b42fd9baa15c84d9ac52c": {
          "model_module": "@jupyter-widgets/controls",
          "model_name": "HTMLModel",
          "model_module_version": "1.5.0",
          "state": {
            "_dom_classes": [],
            "_model_module": "@jupyter-widgets/controls",
            "_model_module_version": "1.5.0",
            "_model_name": "HTMLModel",
            "_view_count": null,
            "_view_module": "@jupyter-widgets/controls",
            "_view_module_version": "1.5.0",
            "_view_name": "HTMLView",
            "description": "",
            "description_tooltip": null,
            "layout": "IPY_MODEL_18e05a4eb1cf471788d3c3ce4befa34e",
            "placeholder": "​",
            "style": "IPY_MODEL_5ad55d7b99ee406199e2adc6d1bd616d",
            "value": "100%"
          }
        },
        "350f1cd3ecb44477b6e87cf96dd47123": {
          "model_module": "@jupyter-widgets/controls",
          "model_name": "FloatProgressModel",
          "model_module_version": "1.5.0",
          "state": {
            "_dom_classes": [],
            "_model_module": "@jupyter-widgets/controls",
            "_model_module_version": "1.5.0",
            "_model_name": "FloatProgressModel",
            "_view_count": null,
            "_view_module": "@jupyter-widgets/controls",
            "_view_module_version": "1.5.0",
            "_view_name": "ProgressView",
            "bar_style": "success",
            "description": "",
            "description_tooltip": null,
            "layout": "IPY_MODEL_a91057be522f45eb98db61df95b6a781",
            "max": 5,
            "min": 0,
            "orientation": "horizontal",
            "style": "IPY_MODEL_f79ba6e96afd436cbaa2de0dc257420e",
            "value": 5
          }
        },
        "efab04760a784fc9b94eb74bc86b8f21": {
          "model_module": "@jupyter-widgets/controls",
          "model_name": "HTMLModel",
          "model_module_version": "1.5.0",
          "state": {
            "_dom_classes": [],
            "_model_module": "@jupyter-widgets/controls",
            "_model_module_version": "1.5.0",
            "_model_name": "HTMLModel",
            "_view_count": null,
            "_view_module": "@jupyter-widgets/controls",
            "_view_module_version": "1.5.0",
            "_view_name": "HTMLView",
            "description": "",
            "description_tooltip": null,
            "layout": "IPY_MODEL_5b969a9f26cd45448c6a6dbf445a12da",
            "placeholder": "​",
            "style": "IPY_MODEL_0cd0823d944a492ebd6ff43725b0bbfc",
            "value": " 5/5 [00:32&lt;00:00,  6.27s/it]"
          }
        },
        "43ca528461a04a039291bf57314c9ffc": {
          "model_module": "@jupyter-widgets/base",
          "model_name": "LayoutModel",
          "model_module_version": "1.2.0",
          "state": {
            "_model_module": "@jupyter-widgets/base",
            "_model_module_version": "1.2.0",
            "_model_name": "LayoutModel",
            "_view_count": null,
            "_view_module": "@jupyter-widgets/base",
            "_view_module_version": "1.2.0",
            "_view_name": "LayoutView",
            "align_content": null,
            "align_items": null,
            "align_self": null,
            "border": null,
            "bottom": null,
            "display": null,
            "flex": null,
            "flex_flow": null,
            "grid_area": null,
            "grid_auto_columns": null,
            "grid_auto_flow": null,
            "grid_auto_rows": null,
            "grid_column": null,
            "grid_gap": null,
            "grid_row": null,
            "grid_template_areas": null,
            "grid_template_columns": null,
            "grid_template_rows": null,
            "height": null,
            "justify_content": null,
            "justify_items": null,
            "left": null,
            "margin": null,
            "max_height": null,
            "max_width": null,
            "min_height": null,
            "min_width": null,
            "object_fit": null,
            "object_position": null,
            "order": null,
            "overflow": null,
            "overflow_x": null,
            "overflow_y": null,
            "padding": null,
            "right": null,
            "top": null,
            "visibility": null,
            "width": null
          }
        },
        "18e05a4eb1cf471788d3c3ce4befa34e": {
          "model_module": "@jupyter-widgets/base",
          "model_name": "LayoutModel",
          "model_module_version": "1.2.0",
          "state": {
            "_model_module": "@jupyter-widgets/base",
            "_model_module_version": "1.2.0",
            "_model_name": "LayoutModel",
            "_view_count": null,
            "_view_module": "@jupyter-widgets/base",
            "_view_module_version": "1.2.0",
            "_view_name": "LayoutView",
            "align_content": null,
            "align_items": null,
            "align_self": null,
            "border": null,
            "bottom": null,
            "display": null,
            "flex": null,
            "flex_flow": null,
            "grid_area": null,
            "grid_auto_columns": null,
            "grid_auto_flow": null,
            "grid_auto_rows": null,
            "grid_column": null,
            "grid_gap": null,
            "grid_row": null,
            "grid_template_areas": null,
            "grid_template_columns": null,
            "grid_template_rows": null,
            "height": null,
            "justify_content": null,
            "justify_items": null,
            "left": null,
            "margin": null,
            "max_height": null,
            "max_width": null,
            "min_height": null,
            "min_width": null,
            "object_fit": null,
            "object_position": null,
            "order": null,
            "overflow": null,
            "overflow_x": null,
            "overflow_y": null,
            "padding": null,
            "right": null,
            "top": null,
            "visibility": null,
            "width": null
          }
        },
        "5ad55d7b99ee406199e2adc6d1bd616d": {
          "model_module": "@jupyter-widgets/controls",
          "model_name": "DescriptionStyleModel",
          "model_module_version": "1.5.0",
          "state": {
            "_model_module": "@jupyter-widgets/controls",
            "_model_module_version": "1.5.0",
            "_model_name": "DescriptionStyleModel",
            "_view_count": null,
            "_view_module": "@jupyter-widgets/base",
            "_view_module_version": "1.2.0",
            "_view_name": "StyleView",
            "description_width": ""
          }
        },
        "a91057be522f45eb98db61df95b6a781": {
          "model_module": "@jupyter-widgets/base",
          "model_name": "LayoutModel",
          "model_module_version": "1.2.0",
          "state": {
            "_model_module": "@jupyter-widgets/base",
            "_model_module_version": "1.2.0",
            "_model_name": "LayoutModel",
            "_view_count": null,
            "_view_module": "@jupyter-widgets/base",
            "_view_module_version": "1.2.0",
            "_view_name": "LayoutView",
            "align_content": null,
            "align_items": null,
            "align_self": null,
            "border": null,
            "bottom": null,
            "display": null,
            "flex": null,
            "flex_flow": null,
            "grid_area": null,
            "grid_auto_columns": null,
            "grid_auto_flow": null,
            "grid_auto_rows": null,
            "grid_column": null,
            "grid_gap": null,
            "grid_row": null,
            "grid_template_areas": null,
            "grid_template_columns": null,
            "grid_template_rows": null,
            "height": null,
            "justify_content": null,
            "justify_items": null,
            "left": null,
            "margin": null,
            "max_height": null,
            "max_width": null,
            "min_height": null,
            "min_width": null,
            "object_fit": null,
            "object_position": null,
            "order": null,
            "overflow": null,
            "overflow_x": null,
            "overflow_y": null,
            "padding": null,
            "right": null,
            "top": null,
            "visibility": null,
            "width": null
          }
        },
        "f79ba6e96afd436cbaa2de0dc257420e": {
          "model_module": "@jupyter-widgets/controls",
          "model_name": "ProgressStyleModel",
          "model_module_version": "1.5.0",
          "state": {
            "_model_module": "@jupyter-widgets/controls",
            "_model_module_version": "1.5.0",
            "_model_name": "ProgressStyleModel",
            "_view_count": null,
            "_view_module": "@jupyter-widgets/base",
            "_view_module_version": "1.2.0",
            "_view_name": "StyleView",
            "bar_color": null,
            "description_width": ""
          }
        },
        "5b969a9f26cd45448c6a6dbf445a12da": {
          "model_module": "@jupyter-widgets/base",
          "model_name": "LayoutModel",
          "model_module_version": "1.2.0",
          "state": {
            "_model_module": "@jupyter-widgets/base",
            "_model_module_version": "1.2.0",
            "_model_name": "LayoutModel",
            "_view_count": null,
            "_view_module": "@jupyter-widgets/base",
            "_view_module_version": "1.2.0",
            "_view_name": "LayoutView",
            "align_content": null,
            "align_items": null,
            "align_self": null,
            "border": null,
            "bottom": null,
            "display": null,
            "flex": null,
            "flex_flow": null,
            "grid_area": null,
            "grid_auto_columns": null,
            "grid_auto_flow": null,
            "grid_auto_rows": null,
            "grid_column": null,
            "grid_gap": null,
            "grid_row": null,
            "grid_template_areas": null,
            "grid_template_columns": null,
            "grid_template_rows": null,
            "height": null,
            "justify_content": null,
            "justify_items": null,
            "left": null,
            "margin": null,
            "max_height": null,
            "max_width": null,
            "min_height": null,
            "min_width": null,
            "object_fit": null,
            "object_position": null,
            "order": null,
            "overflow": null,
            "overflow_x": null,
            "overflow_y": null,
            "padding": null,
            "right": null,
            "top": null,
            "visibility": null,
            "width": null
          }
        },
        "0cd0823d944a492ebd6ff43725b0bbfc": {
          "model_module": "@jupyter-widgets/controls",
          "model_name": "DescriptionStyleModel",
          "model_module_version": "1.5.0",
          "state": {
            "_model_module": "@jupyter-widgets/controls",
            "_model_module_version": "1.5.0",
            "_model_name": "DescriptionStyleModel",
            "_view_count": null,
            "_view_module": "@jupyter-widgets/base",
            "_view_module_version": "1.2.0",
            "_view_name": "StyleView",
            "description_width": ""
          }
        },
        "1819233db6f34a7d9245c0f7d2d6d67b": {
          "model_module": "@jupyter-widgets/controls",
          "model_name": "HBoxModel",
          "model_module_version": "1.5.0",
          "state": {
            "_dom_classes": [],
            "_model_module": "@jupyter-widgets/controls",
            "_model_module_version": "1.5.0",
            "_model_name": "HBoxModel",
            "_view_count": null,
            "_view_module": "@jupyter-widgets/controls",
            "_view_module_version": "1.5.0",
            "_view_name": "HBoxView",
            "box_style": "",
            "children": [
              "IPY_MODEL_328d2c9391a04fde882435755ea951eb",
              "IPY_MODEL_1040f29e1c6841daa04dead95c66a739",
              "IPY_MODEL_94830ab29f5a44f1927a4f11108e3d1f"
            ],
            "layout": "IPY_MODEL_fca61c9647a846138f5968ced5c8559a"
          }
        },
        "328d2c9391a04fde882435755ea951eb": {
          "model_module": "@jupyter-widgets/controls",
          "model_name": "HTMLModel",
          "model_module_version": "1.5.0",
          "state": {
            "_dom_classes": [],
            "_model_module": "@jupyter-widgets/controls",
            "_model_module_version": "1.5.0",
            "_model_name": "HTMLModel",
            "_view_count": null,
            "_view_module": "@jupyter-widgets/controls",
            "_view_module_version": "1.5.0",
            "_view_name": "HTMLView",
            "description": "",
            "description_tooltip": null,
            "layout": "IPY_MODEL_41f9a13ad8c74845bb9a3bba51dfb311",
            "placeholder": "​",
            "style": "IPY_MODEL_8fe72102b6614e0ea7fb622362a5be71",
            "value": "config.json: 100%"
          }
        },
        "1040f29e1c6841daa04dead95c66a739": {
          "model_module": "@jupyter-widgets/controls",
          "model_name": "FloatProgressModel",
          "model_module_version": "1.5.0",
          "state": {
            "_dom_classes": [],
            "_model_module": "@jupyter-widgets/controls",
            "_model_module_version": "1.5.0",
            "_model_name": "FloatProgressModel",
            "_view_count": null,
            "_view_module": "@jupyter-widgets/controls",
            "_view_module_version": "1.5.0",
            "_view_name": "ProgressView",
            "bar_style": "success",
            "description": "",
            "description_tooltip": null,
            "layout": "IPY_MODEL_b23d900bb8d1402f90903fdb8d5182a1",
            "max": 840,
            "min": 0,
            "orientation": "horizontal",
            "style": "IPY_MODEL_4093da88e887421c89e6089b7d7ce456",
            "value": 840
          }
        },
        "94830ab29f5a44f1927a4f11108e3d1f": {
          "model_module": "@jupyter-widgets/controls",
          "model_name": "HTMLModel",
          "model_module_version": "1.5.0",
          "state": {
            "_dom_classes": [],
            "_model_module": "@jupyter-widgets/controls",
            "_model_module_version": "1.5.0",
            "_model_name": "HTMLModel",
            "_view_count": null,
            "_view_module": "@jupyter-widgets/controls",
            "_view_module_version": "1.5.0",
            "_view_name": "HTMLView",
            "description": "",
            "description_tooltip": null,
            "layout": "IPY_MODEL_07da8eaf0ff4473596a456a6337ba2f9",
            "placeholder": "​",
            "style": "IPY_MODEL_3a613f8a55ba4b519fbb06aa3d10d3e2",
            "value": " 840/840 [00:00&lt;00:00, 41.3kB/s]"
          }
        },
        "fca61c9647a846138f5968ced5c8559a": {
          "model_module": "@jupyter-widgets/base",
          "model_name": "LayoutModel",
          "model_module_version": "1.2.0",
          "state": {
            "_model_module": "@jupyter-widgets/base",
            "_model_module_version": "1.2.0",
            "_model_name": "LayoutModel",
            "_view_count": null,
            "_view_module": "@jupyter-widgets/base",
            "_view_module_version": "1.2.0",
            "_view_name": "LayoutView",
            "align_content": null,
            "align_items": null,
            "align_self": null,
            "border": null,
            "bottom": null,
            "display": null,
            "flex": null,
            "flex_flow": null,
            "grid_area": null,
            "grid_auto_columns": null,
            "grid_auto_flow": null,
            "grid_auto_rows": null,
            "grid_column": null,
            "grid_gap": null,
            "grid_row": null,
            "grid_template_areas": null,
            "grid_template_columns": null,
            "grid_template_rows": null,
            "height": null,
            "justify_content": null,
            "justify_items": null,
            "left": null,
            "margin": null,
            "max_height": null,
            "max_width": null,
            "min_height": null,
            "min_width": null,
            "object_fit": null,
            "object_position": null,
            "order": null,
            "overflow": null,
            "overflow_x": null,
            "overflow_y": null,
            "padding": null,
            "right": null,
            "top": null,
            "visibility": null,
            "width": null
          }
        },
        "41f9a13ad8c74845bb9a3bba51dfb311": {
          "model_module": "@jupyter-widgets/base",
          "model_name": "LayoutModel",
          "model_module_version": "1.2.0",
          "state": {
            "_model_module": "@jupyter-widgets/base",
            "_model_module_version": "1.2.0",
            "_model_name": "LayoutModel",
            "_view_count": null,
            "_view_module": "@jupyter-widgets/base",
            "_view_module_version": "1.2.0",
            "_view_name": "LayoutView",
            "align_content": null,
            "align_items": null,
            "align_self": null,
            "border": null,
            "bottom": null,
            "display": null,
            "flex": null,
            "flex_flow": null,
            "grid_area": null,
            "grid_auto_columns": null,
            "grid_auto_flow": null,
            "grid_auto_rows": null,
            "grid_column": null,
            "grid_gap": null,
            "grid_row": null,
            "grid_template_areas": null,
            "grid_template_columns": null,
            "grid_template_rows": null,
            "height": null,
            "justify_content": null,
            "justify_items": null,
            "left": null,
            "margin": null,
            "max_height": null,
            "max_width": null,
            "min_height": null,
            "min_width": null,
            "object_fit": null,
            "object_position": null,
            "order": null,
            "overflow": null,
            "overflow_x": null,
            "overflow_y": null,
            "padding": null,
            "right": null,
            "top": null,
            "visibility": null,
            "width": null
          }
        },
        "8fe72102b6614e0ea7fb622362a5be71": {
          "model_module": "@jupyter-widgets/controls",
          "model_name": "DescriptionStyleModel",
          "model_module_version": "1.5.0",
          "state": {
            "_model_module": "@jupyter-widgets/controls",
            "_model_module_version": "1.5.0",
            "_model_name": "DescriptionStyleModel",
            "_view_count": null,
            "_view_module": "@jupyter-widgets/base",
            "_view_module_version": "1.2.0",
            "_view_name": "StyleView",
            "description_width": ""
          }
        },
        "b23d900bb8d1402f90903fdb8d5182a1": {
          "model_module": "@jupyter-widgets/base",
          "model_name": "LayoutModel",
          "model_module_version": "1.2.0",
          "state": {
            "_model_module": "@jupyter-widgets/base",
            "_model_module_version": "1.2.0",
            "_model_name": "LayoutModel",
            "_view_count": null,
            "_view_module": "@jupyter-widgets/base",
            "_view_module_version": "1.2.0",
            "_view_name": "LayoutView",
            "align_content": null,
            "align_items": null,
            "align_self": null,
            "border": null,
            "bottom": null,
            "display": null,
            "flex": null,
            "flex_flow": null,
            "grid_area": null,
            "grid_auto_columns": null,
            "grid_auto_flow": null,
            "grid_auto_rows": null,
            "grid_column": null,
            "grid_gap": null,
            "grid_row": null,
            "grid_template_areas": null,
            "grid_template_columns": null,
            "grid_template_rows": null,
            "height": null,
            "justify_content": null,
            "justify_items": null,
            "left": null,
            "margin": null,
            "max_height": null,
            "max_width": null,
            "min_height": null,
            "min_width": null,
            "object_fit": null,
            "object_position": null,
            "order": null,
            "overflow": null,
            "overflow_x": null,
            "overflow_y": null,
            "padding": null,
            "right": null,
            "top": null,
            "visibility": null,
            "width": null
          }
        },
        "4093da88e887421c89e6089b7d7ce456": {
          "model_module": "@jupyter-widgets/controls",
          "model_name": "ProgressStyleModel",
          "model_module_version": "1.5.0",
          "state": {
            "_model_module": "@jupyter-widgets/controls",
            "_model_module_version": "1.5.0",
            "_model_name": "ProgressStyleModel",
            "_view_count": null,
            "_view_module": "@jupyter-widgets/base",
            "_view_module_version": "1.2.0",
            "_view_name": "StyleView",
            "bar_color": null,
            "description_width": ""
          }
        },
        "07da8eaf0ff4473596a456a6337ba2f9": {
          "model_module": "@jupyter-widgets/base",
          "model_name": "LayoutModel",
          "model_module_version": "1.2.0",
          "state": {
            "_model_module": "@jupyter-widgets/base",
            "_model_module_version": "1.2.0",
            "_model_name": "LayoutModel",
            "_view_count": null,
            "_view_module": "@jupyter-widgets/base",
            "_view_module_version": "1.2.0",
            "_view_name": "LayoutView",
            "align_content": null,
            "align_items": null,
            "align_self": null,
            "border": null,
            "bottom": null,
            "display": null,
            "flex": null,
            "flex_flow": null,
            "grid_area": null,
            "grid_auto_columns": null,
            "grid_auto_flow": null,
            "grid_auto_rows": null,
            "grid_column": null,
            "grid_gap": null,
            "grid_row": null,
            "grid_template_areas": null,
            "grid_template_columns": null,
            "grid_template_rows": null,
            "height": null,
            "justify_content": null,
            "justify_items": null,
            "left": null,
            "margin": null,
            "max_height": null,
            "max_width": null,
            "min_height": null,
            "min_width": null,
            "object_fit": null,
            "object_position": null,
            "order": null,
            "overflow": null,
            "overflow_x": null,
            "overflow_y": null,
            "padding": null,
            "right": null,
            "top": null,
            "visibility": null,
            "width": null
          }
        },
        "3a613f8a55ba4b519fbb06aa3d10d3e2": {
          "model_module": "@jupyter-widgets/controls",
          "model_name": "DescriptionStyleModel",
          "model_module_version": "1.5.0",
          "state": {
            "_model_module": "@jupyter-widgets/controls",
            "_model_module_version": "1.5.0",
            "_model_name": "DescriptionStyleModel",
            "_view_count": null,
            "_view_module": "@jupyter-widgets/base",
            "_view_module_version": "1.2.0",
            "_view_name": "StyleView",
            "description_width": ""
          }
        },
        "247504952c154c75b5c660c1744a90d6": {
          "model_module": "@jupyter-widgets/controls",
          "model_name": "HBoxModel",
          "model_module_version": "1.5.0",
          "state": {
            "_dom_classes": [],
            "_model_module": "@jupyter-widgets/controls",
            "_model_module_version": "1.5.0",
            "_model_name": "HBoxModel",
            "_view_count": null,
            "_view_module": "@jupyter-widgets/controls",
            "_view_module_version": "1.5.0",
            "_view_name": "HBoxView",
            "box_style": "",
            "children": [
              "IPY_MODEL_f9f7381d223f431db077a6908ef29a6f",
              "IPY_MODEL_aeb9b3a229e14813a9944f6f03dad33b",
              "IPY_MODEL_5bbac15ed9b8421e9cca984845e76e69"
            ],
            "layout": "IPY_MODEL_cfdfe0cf7371420d9709d898ecaad2fe"
          }
        },
        "f9f7381d223f431db077a6908ef29a6f": {
          "model_module": "@jupyter-widgets/controls",
          "model_name": "HTMLModel",
          "model_module_version": "1.5.0",
          "state": {
            "_dom_classes": [],
            "_model_module": "@jupyter-widgets/controls",
            "_model_module_version": "1.5.0",
            "_model_name": "HTMLModel",
            "_view_count": null,
            "_view_module": "@jupyter-widgets/controls",
            "_view_module_version": "1.5.0",
            "_view_name": "HTMLView",
            "description": "",
            "description_tooltip": null,
            "layout": "IPY_MODEL_222f287b8731455d9309b32c479c9b7c",
            "placeholder": "​",
            "style": "IPY_MODEL_5c9d2c9b24934b5689ef6f62e703834e",
            "value": "pytorch_model.bin: 100%"
          }
        },
        "aeb9b3a229e14813a9944f6f03dad33b": {
          "model_module": "@jupyter-widgets/controls",
          "model_name": "FloatProgressModel",
          "model_module_version": "1.5.0",
          "state": {
            "_dom_classes": [],
            "_model_module": "@jupyter-widgets/controls",
            "_model_module_version": "1.5.0",
            "_model_name": "FloatProgressModel",
            "_view_count": null,
            "_view_module": "@jupyter-widgets/controls",
            "_view_module_version": "1.5.0",
            "_view_name": "ProgressView",
            "bar_style": "success",
            "description": "",
            "description_tooltip": null,
            "layout": "IPY_MODEL_6dcbb8dffd6740e6a441ace0021790ca",
            "max": 55649156,
            "min": 0,
            "orientation": "horizontal",
            "style": "IPY_MODEL_b0df105613ae432a8b9aca57c3341476",
            "value": 55649156
          }
        },
        "5bbac15ed9b8421e9cca984845e76e69": {
          "model_module": "@jupyter-widgets/controls",
          "model_name": "HTMLModel",
          "model_module_version": "1.5.0",
          "state": {
            "_dom_classes": [],
            "_model_module": "@jupyter-widgets/controls",
            "_model_module_version": "1.5.0",
            "_model_name": "HTMLModel",
            "_view_count": null,
            "_view_module": "@jupyter-widgets/controls",
            "_view_module_version": "1.5.0",
            "_view_name": "HTMLView",
            "description": "",
            "description_tooltip": null,
            "layout": "IPY_MODEL_13361fa3fa7d4023beb6afb4be5a7910",
            "placeholder": "​",
            "style": "IPY_MODEL_f492082f43f14584951dd8b667d498a9",
            "value": " 55.6M/55.6M [00:00&lt;00:00, 105MB/s]"
          }
        },
        "cfdfe0cf7371420d9709d898ecaad2fe": {
          "model_module": "@jupyter-widgets/base",
          "model_name": "LayoutModel",
          "model_module_version": "1.2.0",
          "state": {
            "_model_module": "@jupyter-widgets/base",
            "_model_module_version": "1.2.0",
            "_model_name": "LayoutModel",
            "_view_count": null,
            "_view_module": "@jupyter-widgets/base",
            "_view_module_version": "1.2.0",
            "_view_name": "LayoutView",
            "align_content": null,
            "align_items": null,
            "align_self": null,
            "border": null,
            "bottom": null,
            "display": null,
            "flex": null,
            "flex_flow": null,
            "grid_area": null,
            "grid_auto_columns": null,
            "grid_auto_flow": null,
            "grid_auto_rows": null,
            "grid_column": null,
            "grid_gap": null,
            "grid_row": null,
            "grid_template_areas": null,
            "grid_template_columns": null,
            "grid_template_rows": null,
            "height": null,
            "justify_content": null,
            "justify_items": null,
            "left": null,
            "margin": null,
            "max_height": null,
            "max_width": null,
            "min_height": null,
            "min_width": null,
            "object_fit": null,
            "object_position": null,
            "order": null,
            "overflow": null,
            "overflow_x": null,
            "overflow_y": null,
            "padding": null,
            "right": null,
            "top": null,
            "visibility": null,
            "width": null
          }
        },
        "222f287b8731455d9309b32c479c9b7c": {
          "model_module": "@jupyter-widgets/base",
          "model_name": "LayoutModel",
          "model_module_version": "1.2.0",
          "state": {
            "_model_module": "@jupyter-widgets/base",
            "_model_module_version": "1.2.0",
            "_model_name": "LayoutModel",
            "_view_count": null,
            "_view_module": "@jupyter-widgets/base",
            "_view_module_version": "1.2.0",
            "_view_name": "LayoutView",
            "align_content": null,
            "align_items": null,
            "align_self": null,
            "border": null,
            "bottom": null,
            "display": null,
            "flex": null,
            "flex_flow": null,
            "grid_area": null,
            "grid_auto_columns": null,
            "grid_auto_flow": null,
            "grid_auto_rows": null,
            "grid_column": null,
            "grid_gap": null,
            "grid_row": null,
            "grid_template_areas": null,
            "grid_template_columns": null,
            "grid_template_rows": null,
            "height": null,
            "justify_content": null,
            "justify_items": null,
            "left": null,
            "margin": null,
            "max_height": null,
            "max_width": null,
            "min_height": null,
            "min_width": null,
            "object_fit": null,
            "object_position": null,
            "order": null,
            "overflow": null,
            "overflow_x": null,
            "overflow_y": null,
            "padding": null,
            "right": null,
            "top": null,
            "visibility": null,
            "width": null
          }
        },
        "5c9d2c9b24934b5689ef6f62e703834e": {
          "model_module": "@jupyter-widgets/controls",
          "model_name": "DescriptionStyleModel",
          "model_module_version": "1.5.0",
          "state": {
            "_model_module": "@jupyter-widgets/controls",
            "_model_module_version": "1.5.0",
            "_model_name": "DescriptionStyleModel",
            "_view_count": null,
            "_view_module": "@jupyter-widgets/base",
            "_view_module_version": "1.2.0",
            "_view_name": "StyleView",
            "description_width": ""
          }
        },
        "6dcbb8dffd6740e6a441ace0021790ca": {
          "model_module": "@jupyter-widgets/base",
          "model_name": "LayoutModel",
          "model_module_version": "1.2.0",
          "state": {
            "_model_module": "@jupyter-widgets/base",
            "_model_module_version": "1.2.0",
            "_model_name": "LayoutModel",
            "_view_count": null,
            "_view_module": "@jupyter-widgets/base",
            "_view_module_version": "1.2.0",
            "_view_name": "LayoutView",
            "align_content": null,
            "align_items": null,
            "align_self": null,
            "border": null,
            "bottom": null,
            "display": null,
            "flex": null,
            "flex_flow": null,
            "grid_area": null,
            "grid_auto_columns": null,
            "grid_auto_flow": null,
            "grid_auto_rows": null,
            "grid_column": null,
            "grid_gap": null,
            "grid_row": null,
            "grid_template_areas": null,
            "grid_template_columns": null,
            "grid_template_rows": null,
            "height": null,
            "justify_content": null,
            "justify_items": null,
            "left": null,
            "margin": null,
            "max_height": null,
            "max_width": null,
            "min_height": null,
            "min_width": null,
            "object_fit": null,
            "object_position": null,
            "order": null,
            "overflow": null,
            "overflow_x": null,
            "overflow_y": null,
            "padding": null,
            "right": null,
            "top": null,
            "visibility": null,
            "width": null
          }
        },
        "b0df105613ae432a8b9aca57c3341476": {
          "model_module": "@jupyter-widgets/controls",
          "model_name": "ProgressStyleModel",
          "model_module_version": "1.5.0",
          "state": {
            "_model_module": "@jupyter-widgets/controls",
            "_model_module_version": "1.5.0",
            "_model_name": "ProgressStyleModel",
            "_view_count": null,
            "_view_module": "@jupyter-widgets/base",
            "_view_module_version": "1.2.0",
            "_view_name": "StyleView",
            "bar_color": null,
            "description_width": ""
          }
        },
        "13361fa3fa7d4023beb6afb4be5a7910": {
          "model_module": "@jupyter-widgets/base",
          "model_name": "LayoutModel",
          "model_module_version": "1.2.0",
          "state": {
            "_model_module": "@jupyter-widgets/base",
            "_model_module_version": "1.2.0",
            "_model_name": "LayoutModel",
            "_view_count": null,
            "_view_module": "@jupyter-widgets/base",
            "_view_module_version": "1.2.0",
            "_view_name": "LayoutView",
            "align_content": null,
            "align_items": null,
            "align_self": null,
            "border": null,
            "bottom": null,
            "display": null,
            "flex": null,
            "flex_flow": null,
            "grid_area": null,
            "grid_auto_columns": null,
            "grid_auto_flow": null,
            "grid_auto_rows": null,
            "grid_column": null,
            "grid_gap": null,
            "grid_row": null,
            "grid_template_areas": null,
            "grid_template_columns": null,
            "grid_template_rows": null,
            "height": null,
            "justify_content": null,
            "justify_items": null,
            "left": null,
            "margin": null,
            "max_height": null,
            "max_width": null,
            "min_height": null,
            "min_width": null,
            "object_fit": null,
            "object_position": null,
            "order": null,
            "overflow": null,
            "overflow_x": null,
            "overflow_y": null,
            "padding": null,
            "right": null,
            "top": null,
            "visibility": null,
            "width": null
          }
        },
        "f492082f43f14584951dd8b667d498a9": {
          "model_module": "@jupyter-widgets/controls",
          "model_name": "DescriptionStyleModel",
          "model_module_version": "1.5.0",
          "state": {
            "_model_module": "@jupyter-widgets/controls",
            "_model_module_version": "1.5.0",
            "_model_name": "DescriptionStyleModel",
            "_view_count": null,
            "_view_module": "@jupyter-widgets/base",
            "_view_module_version": "1.2.0",
            "_view_name": "StyleView",
            "description_width": ""
          }
        },
        "27e28257c4ec40aa94d3957629b39d08": {
          "model_module": "@jupyter-widgets/controls",
          "model_name": "HBoxModel",
          "model_module_version": "1.5.0",
          "state": {
            "_dom_classes": [],
            "_model_module": "@jupyter-widgets/controls",
            "_model_module_version": "1.5.0",
            "_model_name": "HBoxModel",
            "_view_count": null,
            "_view_module": "@jupyter-widgets/controls",
            "_view_module_version": "1.5.0",
            "_view_name": "HBoxView",
            "box_style": "",
            "children": [
              "IPY_MODEL_067edb458d1547daaf6f39f736903e91",
              "IPY_MODEL_2fd245dea67e4a4da18e5d065161d215",
              "IPY_MODEL_e885ab31c01b4df6afd4a7fe667e76e6"
            ],
            "layout": "IPY_MODEL_ff70e1e1f06146d080b93540a1510323"
          }
        },
        "067edb458d1547daaf6f39f736903e91": {
          "model_module": "@jupyter-widgets/controls",
          "model_name": "HTMLModel",
          "model_module_version": "1.5.0",
          "state": {
            "_dom_classes": [],
            "_model_module": "@jupyter-widgets/controls",
            "_model_module_version": "1.5.0",
            "_model_name": "HTMLModel",
            "_view_count": null,
            "_view_module": "@jupyter-widgets/controls",
            "_view_module_version": "1.5.0",
            "_view_name": "HTMLView",
            "description": "",
            "description_tooltip": null,
            "layout": "IPY_MODEL_718df14f982e44d8a670a4022cb1b9f2",
            "placeholder": "​",
            "style": "IPY_MODEL_960a1bd947e34362b8e4d4fe791c175d",
            "value": "tokenizer_config.json: 100%"
          }
        },
        "2fd245dea67e4a4da18e5d065161d215": {
          "model_module": "@jupyter-widgets/controls",
          "model_name": "FloatProgressModel",
          "model_module_version": "1.5.0",
          "state": {
            "_dom_classes": [],
            "_model_module": "@jupyter-widgets/controls",
            "_model_module_version": "1.5.0",
            "_model_name": "FloatProgressModel",
            "_view_count": null,
            "_view_module": "@jupyter-widgets/controls",
            "_view_module_version": "1.5.0",
            "_view_name": "ProgressView",
            "bar_style": "success",
            "description": "",
            "description_tooltip": null,
            "layout": "IPY_MODEL_802bb1a160024d4c863af05138e35ff2",
            "max": 320,
            "min": 0,
            "orientation": "horizontal",
            "style": "IPY_MODEL_890b5e40e5464c878ea0d45642624c03",
            "value": 320
          }
        },
        "e885ab31c01b4df6afd4a7fe667e76e6": {
          "model_module": "@jupyter-widgets/controls",
          "model_name": "HTMLModel",
          "model_module_version": "1.5.0",
          "state": {
            "_dom_classes": [],
            "_model_module": "@jupyter-widgets/controls",
            "_model_module_version": "1.5.0",
            "_model_name": "HTMLModel",
            "_view_count": null,
            "_view_module": "@jupyter-widgets/controls",
            "_view_module_version": "1.5.0",
            "_view_name": "HTMLView",
            "description": "",
            "description_tooltip": null,
            "layout": "IPY_MODEL_00646a308d784bb3af3883a1cab2b7bd",
            "placeholder": "​",
            "style": "IPY_MODEL_b2a10699be8a4361bed933366ca0c2cf",
            "value": " 320/320 [00:00&lt;00:00, 18.1kB/s]"
          }
        },
        "ff70e1e1f06146d080b93540a1510323": {
          "model_module": "@jupyter-widgets/base",
          "model_name": "LayoutModel",
          "model_module_version": "1.2.0",
          "state": {
            "_model_module": "@jupyter-widgets/base",
            "_model_module_version": "1.2.0",
            "_model_name": "LayoutModel",
            "_view_count": null,
            "_view_module": "@jupyter-widgets/base",
            "_view_module_version": "1.2.0",
            "_view_name": "LayoutView",
            "align_content": null,
            "align_items": null,
            "align_self": null,
            "border": null,
            "bottom": null,
            "display": null,
            "flex": null,
            "flex_flow": null,
            "grid_area": null,
            "grid_auto_columns": null,
            "grid_auto_flow": null,
            "grid_auto_rows": null,
            "grid_column": null,
            "grid_gap": null,
            "grid_row": null,
            "grid_template_areas": null,
            "grid_template_columns": null,
            "grid_template_rows": null,
            "height": null,
            "justify_content": null,
            "justify_items": null,
            "left": null,
            "margin": null,
            "max_height": null,
            "max_width": null,
            "min_height": null,
            "min_width": null,
            "object_fit": null,
            "object_position": null,
            "order": null,
            "overflow": null,
            "overflow_x": null,
            "overflow_y": null,
            "padding": null,
            "right": null,
            "top": null,
            "visibility": null,
            "width": null
          }
        },
        "718df14f982e44d8a670a4022cb1b9f2": {
          "model_module": "@jupyter-widgets/base",
          "model_name": "LayoutModel",
          "model_module_version": "1.2.0",
          "state": {
            "_model_module": "@jupyter-widgets/base",
            "_model_module_version": "1.2.0",
            "_model_name": "LayoutModel",
            "_view_count": null,
            "_view_module": "@jupyter-widgets/base",
            "_view_module_version": "1.2.0",
            "_view_name": "LayoutView",
            "align_content": null,
            "align_items": null,
            "align_self": null,
            "border": null,
            "bottom": null,
            "display": null,
            "flex": null,
            "flex_flow": null,
            "grid_area": null,
            "grid_auto_columns": null,
            "grid_auto_flow": null,
            "grid_auto_rows": null,
            "grid_column": null,
            "grid_gap": null,
            "grid_row": null,
            "grid_template_areas": null,
            "grid_template_columns": null,
            "grid_template_rows": null,
            "height": null,
            "justify_content": null,
            "justify_items": null,
            "left": null,
            "margin": null,
            "max_height": null,
            "max_width": null,
            "min_height": null,
            "min_width": null,
            "object_fit": null,
            "object_position": null,
            "order": null,
            "overflow": null,
            "overflow_x": null,
            "overflow_y": null,
            "padding": null,
            "right": null,
            "top": null,
            "visibility": null,
            "width": null
          }
        },
        "960a1bd947e34362b8e4d4fe791c175d": {
          "model_module": "@jupyter-widgets/controls",
          "model_name": "DescriptionStyleModel",
          "model_module_version": "1.5.0",
          "state": {
            "_model_module": "@jupyter-widgets/controls",
            "_model_module_version": "1.5.0",
            "_model_name": "DescriptionStyleModel",
            "_view_count": null,
            "_view_module": "@jupyter-widgets/base",
            "_view_module_version": "1.2.0",
            "_view_name": "StyleView",
            "description_width": ""
          }
        },
        "802bb1a160024d4c863af05138e35ff2": {
          "model_module": "@jupyter-widgets/base",
          "model_name": "LayoutModel",
          "model_module_version": "1.2.0",
          "state": {
            "_model_module": "@jupyter-widgets/base",
            "_model_module_version": "1.2.0",
            "_model_name": "LayoutModel",
            "_view_count": null,
            "_view_module": "@jupyter-widgets/base",
            "_view_module_version": "1.2.0",
            "_view_name": "LayoutView",
            "align_content": null,
            "align_items": null,
            "align_self": null,
            "border": null,
            "bottom": null,
            "display": null,
            "flex": null,
            "flex_flow": null,
            "grid_area": null,
            "grid_auto_columns": null,
            "grid_auto_flow": null,
            "grid_auto_rows": null,
            "grid_column": null,
            "grid_gap": null,
            "grid_row": null,
            "grid_template_areas": null,
            "grid_template_columns": null,
            "grid_template_rows": null,
            "height": null,
            "justify_content": null,
            "justify_items": null,
            "left": null,
            "margin": null,
            "max_height": null,
            "max_width": null,
            "min_height": null,
            "min_width": null,
            "object_fit": null,
            "object_position": null,
            "order": null,
            "overflow": null,
            "overflow_x": null,
            "overflow_y": null,
            "padding": null,
            "right": null,
            "top": null,
            "visibility": null,
            "width": null
          }
        },
        "890b5e40e5464c878ea0d45642624c03": {
          "model_module": "@jupyter-widgets/controls",
          "model_name": "ProgressStyleModel",
          "model_module_version": "1.5.0",
          "state": {
            "_model_module": "@jupyter-widgets/controls",
            "_model_module_version": "1.5.0",
            "_model_name": "ProgressStyleModel",
            "_view_count": null,
            "_view_module": "@jupyter-widgets/base",
            "_view_module_version": "1.2.0",
            "_view_name": "StyleView",
            "bar_color": null,
            "description_width": ""
          }
        },
        "00646a308d784bb3af3883a1cab2b7bd": {
          "model_module": "@jupyter-widgets/base",
          "model_name": "LayoutModel",
          "model_module_version": "1.2.0",
          "state": {
            "_model_module": "@jupyter-widgets/base",
            "_model_module_version": "1.2.0",
            "_model_name": "LayoutModel",
            "_view_count": null,
            "_view_module": "@jupyter-widgets/base",
            "_view_module_version": "1.2.0",
            "_view_name": "LayoutView",
            "align_content": null,
            "align_items": null,
            "align_self": null,
            "border": null,
            "bottom": null,
            "display": null,
            "flex": null,
            "flex_flow": null,
            "grid_area": null,
            "grid_auto_columns": null,
            "grid_auto_flow": null,
            "grid_auto_rows": null,
            "grid_column": null,
            "grid_gap": null,
            "grid_row": null,
            "grid_template_areas": null,
            "grid_template_columns": null,
            "grid_template_rows": null,
            "height": null,
            "justify_content": null,
            "justify_items": null,
            "left": null,
            "margin": null,
            "max_height": null,
            "max_width": null,
            "min_height": null,
            "min_width": null,
            "object_fit": null,
            "object_position": null,
            "order": null,
            "overflow": null,
            "overflow_x": null,
            "overflow_y": null,
            "padding": null,
            "right": null,
            "top": null,
            "visibility": null,
            "width": null
          }
        },
        "b2a10699be8a4361bed933366ca0c2cf": {
          "model_module": "@jupyter-widgets/controls",
          "model_name": "DescriptionStyleModel",
          "model_module_version": "1.5.0",
          "state": {
            "_model_module": "@jupyter-widgets/controls",
            "_model_module_version": "1.5.0",
            "_model_name": "DescriptionStyleModel",
            "_view_count": null,
            "_view_module": "@jupyter-widgets/base",
            "_view_module_version": "1.2.0",
            "_view_name": "StyleView",
            "description_width": ""
          }
        },
        "f87b28c992114c66976c467df28a346f": {
          "model_module": "@jupyter-widgets/controls",
          "model_name": "HBoxModel",
          "model_module_version": "1.5.0",
          "state": {
            "_dom_classes": [],
            "_model_module": "@jupyter-widgets/controls",
            "_model_module_version": "1.5.0",
            "_model_name": "HBoxModel",
            "_view_count": null,
            "_view_module": "@jupyter-widgets/controls",
            "_view_module_version": "1.5.0",
            "_view_name": "HBoxView",
            "box_style": "",
            "children": [
              "IPY_MODEL_30a9588ef0504bd1b1aa991e2bc60c30",
              "IPY_MODEL_f0c59860345247bfbbe6da19a1531443",
              "IPY_MODEL_9d8a5f39732e4ebbb30c96d35bbb72d1"
            ],
            "layout": "IPY_MODEL_1f9501165cc54025b264df1a78bf3e40"
          }
        },
        "30a9588ef0504bd1b1aa991e2bc60c30": {
          "model_module": "@jupyter-widgets/controls",
          "model_name": "HTMLModel",
          "model_module_version": "1.5.0",
          "state": {
            "_dom_classes": [],
            "_model_module": "@jupyter-widgets/controls",
            "_model_module_version": "1.5.0",
            "_model_name": "HTMLModel",
            "_view_count": null,
            "_view_module": "@jupyter-widgets/controls",
            "_view_module_version": "1.5.0",
            "_view_name": "HTMLView",
            "description": "",
            "description_tooltip": null,
            "layout": "IPY_MODEL_9f13ff5038c4482b862486a6c859ff8b",
            "placeholder": "​",
            "style": "IPY_MODEL_c0b4ea63e3294bcf936afc4808201d6e",
            "value": "vocab.txt: 100%"
          }
        },
        "f0c59860345247bfbbe6da19a1531443": {
          "model_module": "@jupyter-widgets/controls",
          "model_name": "FloatProgressModel",
          "model_module_version": "1.5.0",
          "state": {
            "_dom_classes": [],
            "_model_module": "@jupyter-widgets/controls",
            "_model_module_version": "1.5.0",
            "_model_name": "FloatProgressModel",
            "_view_count": null,
            "_view_module": "@jupyter-widgets/controls",
            "_view_module_version": "1.5.0",
            "_view_name": "ProgressView",
            "bar_style": "success",
            "description": "",
            "description_tooltip": null,
            "layout": "IPY_MODEL_1e9067ef162e45499568f8e9706754c1",
            "max": 213450,
            "min": 0,
            "orientation": "horizontal",
            "style": "IPY_MODEL_ae06f5efd6d948e28faea15594027d20",
            "value": 213450
          }
        },
        "9d8a5f39732e4ebbb30c96d35bbb72d1": {
          "model_module": "@jupyter-widgets/controls",
          "model_name": "HTMLModel",
          "model_module_version": "1.5.0",
          "state": {
            "_dom_classes": [],
            "_model_module": "@jupyter-widgets/controls",
            "_model_module_version": "1.5.0",
            "_model_name": "HTMLModel",
            "_view_count": null,
            "_view_module": "@jupyter-widgets/controls",
            "_view_module_version": "1.5.0",
            "_view_name": "HTMLView",
            "description": "",
            "description_tooltip": null,
            "layout": "IPY_MODEL_6c32c8028e5a4a66a4715d2aa865ed42",
            "placeholder": "​",
            "style": "IPY_MODEL_460ae39fece1420e9839abd7975d984a",
            "value": " 213k/213k [00:00&lt;00:00, 8.75MB/s]"
          }
        },
        "1f9501165cc54025b264df1a78bf3e40": {
          "model_module": "@jupyter-widgets/base",
          "model_name": "LayoutModel",
          "model_module_version": "1.2.0",
          "state": {
            "_model_module": "@jupyter-widgets/base",
            "_model_module_version": "1.2.0",
            "_model_name": "LayoutModel",
            "_view_count": null,
            "_view_module": "@jupyter-widgets/base",
            "_view_module_version": "1.2.0",
            "_view_name": "LayoutView",
            "align_content": null,
            "align_items": null,
            "align_self": null,
            "border": null,
            "bottom": null,
            "display": null,
            "flex": null,
            "flex_flow": null,
            "grid_area": null,
            "grid_auto_columns": null,
            "grid_auto_flow": null,
            "grid_auto_rows": null,
            "grid_column": null,
            "grid_gap": null,
            "grid_row": null,
            "grid_template_areas": null,
            "grid_template_columns": null,
            "grid_template_rows": null,
            "height": null,
            "justify_content": null,
            "justify_items": null,
            "left": null,
            "margin": null,
            "max_height": null,
            "max_width": null,
            "min_height": null,
            "min_width": null,
            "object_fit": null,
            "object_position": null,
            "order": null,
            "overflow": null,
            "overflow_x": null,
            "overflow_y": null,
            "padding": null,
            "right": null,
            "top": null,
            "visibility": null,
            "width": null
          }
        },
        "9f13ff5038c4482b862486a6c859ff8b": {
          "model_module": "@jupyter-widgets/base",
          "model_name": "LayoutModel",
          "model_module_version": "1.2.0",
          "state": {
            "_model_module": "@jupyter-widgets/base",
            "_model_module_version": "1.2.0",
            "_model_name": "LayoutModel",
            "_view_count": null,
            "_view_module": "@jupyter-widgets/base",
            "_view_module_version": "1.2.0",
            "_view_name": "LayoutView",
            "align_content": null,
            "align_items": null,
            "align_self": null,
            "border": null,
            "bottom": null,
            "display": null,
            "flex": null,
            "flex_flow": null,
            "grid_area": null,
            "grid_auto_columns": null,
            "grid_auto_flow": null,
            "grid_auto_rows": null,
            "grid_column": null,
            "grid_gap": null,
            "grid_row": null,
            "grid_template_areas": null,
            "grid_template_columns": null,
            "grid_template_rows": null,
            "height": null,
            "justify_content": null,
            "justify_items": null,
            "left": null,
            "margin": null,
            "max_height": null,
            "max_width": null,
            "min_height": null,
            "min_width": null,
            "object_fit": null,
            "object_position": null,
            "order": null,
            "overflow": null,
            "overflow_x": null,
            "overflow_y": null,
            "padding": null,
            "right": null,
            "top": null,
            "visibility": null,
            "width": null
          }
        },
        "c0b4ea63e3294bcf936afc4808201d6e": {
          "model_module": "@jupyter-widgets/controls",
          "model_name": "DescriptionStyleModel",
          "model_module_version": "1.5.0",
          "state": {
            "_model_module": "@jupyter-widgets/controls",
            "_model_module_version": "1.5.0",
            "_model_name": "DescriptionStyleModel",
            "_view_count": null,
            "_view_module": "@jupyter-widgets/base",
            "_view_module_version": "1.2.0",
            "_view_name": "StyleView",
            "description_width": ""
          }
        },
        "1e9067ef162e45499568f8e9706754c1": {
          "model_module": "@jupyter-widgets/base",
          "model_name": "LayoutModel",
          "model_module_version": "1.2.0",
          "state": {
            "_model_module": "@jupyter-widgets/base",
            "_model_module_version": "1.2.0",
            "_model_name": "LayoutModel",
            "_view_count": null,
            "_view_module": "@jupyter-widgets/base",
            "_view_module_version": "1.2.0",
            "_view_name": "LayoutView",
            "align_content": null,
            "align_items": null,
            "align_self": null,
            "border": null,
            "bottom": null,
            "display": null,
            "flex": null,
            "flex_flow": null,
            "grid_area": null,
            "grid_auto_columns": null,
            "grid_auto_flow": null,
            "grid_auto_rows": null,
            "grid_column": null,
            "grid_gap": null,
            "grid_row": null,
            "grid_template_areas": null,
            "grid_template_columns": null,
            "grid_template_rows": null,
            "height": null,
            "justify_content": null,
            "justify_items": null,
            "left": null,
            "margin": null,
            "max_height": null,
            "max_width": null,
            "min_height": null,
            "min_width": null,
            "object_fit": null,
            "object_position": null,
            "order": null,
            "overflow": null,
            "overflow_x": null,
            "overflow_y": null,
            "padding": null,
            "right": null,
            "top": null,
            "visibility": null,
            "width": null
          }
        },
        "ae06f5efd6d948e28faea15594027d20": {
          "model_module": "@jupyter-widgets/controls",
          "model_name": "ProgressStyleModel",
          "model_module_version": "1.5.0",
          "state": {
            "_model_module": "@jupyter-widgets/controls",
            "_model_module_version": "1.5.0",
            "_model_name": "ProgressStyleModel",
            "_view_count": null,
            "_view_module": "@jupyter-widgets/base",
            "_view_module_version": "1.2.0",
            "_view_name": "StyleView",
            "bar_color": null,
            "description_width": ""
          }
        },
        "6c32c8028e5a4a66a4715d2aa865ed42": {
          "model_module": "@jupyter-widgets/base",
          "model_name": "LayoutModel",
          "model_module_version": "1.2.0",
          "state": {
            "_model_module": "@jupyter-widgets/base",
            "_model_module_version": "1.2.0",
            "_model_name": "LayoutModel",
            "_view_count": null,
            "_view_module": "@jupyter-widgets/base",
            "_view_module_version": "1.2.0",
            "_view_name": "LayoutView",
            "align_content": null,
            "align_items": null,
            "align_self": null,
            "border": null,
            "bottom": null,
            "display": null,
            "flex": null,
            "flex_flow": null,
            "grid_area": null,
            "grid_auto_columns": null,
            "grid_auto_flow": null,
            "grid_auto_rows": null,
            "grid_column": null,
            "grid_gap": null,
            "grid_row": null,
            "grid_template_areas": null,
            "grid_template_columns": null,
            "grid_template_rows": null,
            "height": null,
            "justify_content": null,
            "justify_items": null,
            "left": null,
            "margin": null,
            "max_height": null,
            "max_width": null,
            "min_height": null,
            "min_width": null,
            "object_fit": null,
            "object_position": null,
            "order": null,
            "overflow": null,
            "overflow_x": null,
            "overflow_y": null,
            "padding": null,
            "right": null,
            "top": null,
            "visibility": null,
            "width": null
          }
        },
        "460ae39fece1420e9839abd7975d984a": {
          "model_module": "@jupyter-widgets/controls",
          "model_name": "DescriptionStyleModel",
          "model_module_version": "1.5.0",
          "state": {
            "_model_module": "@jupyter-widgets/controls",
            "_model_module_version": "1.5.0",
            "_model_name": "DescriptionStyleModel",
            "_view_count": null,
            "_view_module": "@jupyter-widgets/base",
            "_view_module_version": "1.2.0",
            "_view_name": "StyleView",
            "description_width": ""
          }
        },
        "4be619f2eb604630b4429ce333e59e9c": {
          "model_module": "@jupyter-widgets/controls",
          "model_name": "HBoxModel",
          "model_module_version": "1.5.0",
          "state": {
            "_dom_classes": [],
            "_model_module": "@jupyter-widgets/controls",
            "_model_module_version": "1.5.0",
            "_model_name": "HBoxModel",
            "_view_count": null,
            "_view_module": "@jupyter-widgets/controls",
            "_view_module_version": "1.5.0",
            "_view_name": "HBoxView",
            "box_style": "",
            "children": [
              "IPY_MODEL_b38decde5beb4cd99e5fcb41d455382a",
              "IPY_MODEL_590277fa9cef4108bbeb1d757d513243",
              "IPY_MODEL_a0190c7bb7964529bc4c5b489f8410e2"
            ],
            "layout": "IPY_MODEL_7b8f5d0424ab4501970b137a6d31260e"
          }
        },
        "b38decde5beb4cd99e5fcb41d455382a": {
          "model_module": "@jupyter-widgets/controls",
          "model_name": "HTMLModel",
          "model_module_version": "1.5.0",
          "state": {
            "_dom_classes": [],
            "_model_module": "@jupyter-widgets/controls",
            "_model_module_version": "1.5.0",
            "_model_name": "HTMLModel",
            "_view_count": null,
            "_view_module": "@jupyter-widgets/controls",
            "_view_module_version": "1.5.0",
            "_view_name": "HTMLView",
            "description": "",
            "description_tooltip": null,
            "layout": "IPY_MODEL_b7757b6cca2743c7978398978f572228",
            "placeholder": "​",
            "style": "IPY_MODEL_9a884f425bb84b94a273275b8b0cf76c",
            "value": "tokenizer.json: 100%"
          }
        },
        "590277fa9cef4108bbeb1d757d513243": {
          "model_module": "@jupyter-widgets/controls",
          "model_name": "FloatProgressModel",
          "model_module_version": "1.5.0",
          "state": {
            "_dom_classes": [],
            "_model_module": "@jupyter-widgets/controls",
            "_model_module_version": "1.5.0",
            "_model_name": "FloatProgressModel",
            "_view_count": null,
            "_view_module": "@jupyter-widgets/controls",
            "_view_module_version": "1.5.0",
            "_view_name": "ProgressView",
            "bar_style": "success",
            "description": "",
            "description_tooltip": null,
            "layout": "IPY_MODEL_a280452277e8450683cbbfae8d553fef",
            "max": 668923,
            "min": 0,
            "orientation": "horizontal",
            "style": "IPY_MODEL_334d2a4c8d044db1bcac566362151127",
            "value": 668923
          }
        },
        "a0190c7bb7964529bc4c5b489f8410e2": {
          "model_module": "@jupyter-widgets/controls",
          "model_name": "HTMLModel",
          "model_module_version": "1.5.0",
          "state": {
            "_dom_classes": [],
            "_model_module": "@jupyter-widgets/controls",
            "_model_module_version": "1.5.0",
            "_model_name": "HTMLModel",
            "_view_count": null,
            "_view_module": "@jupyter-widgets/controls",
            "_view_module_version": "1.5.0",
            "_view_name": "HTMLView",
            "description": "",
            "description_tooltip": null,
            "layout": "IPY_MODEL_b62ac2321a354889965448edce2b4c5e",
            "placeholder": "​",
            "style": "IPY_MODEL_e9779e30c1ff481cb17529064d1caeac",
            "value": " 669k/669k [00:00&lt;00:00, 18.7MB/s]"
          }
        },
        "7b8f5d0424ab4501970b137a6d31260e": {
          "model_module": "@jupyter-widgets/base",
          "model_name": "LayoutModel",
          "model_module_version": "1.2.0",
          "state": {
            "_model_module": "@jupyter-widgets/base",
            "_model_module_version": "1.2.0",
            "_model_name": "LayoutModel",
            "_view_count": null,
            "_view_module": "@jupyter-widgets/base",
            "_view_module_version": "1.2.0",
            "_view_name": "LayoutView",
            "align_content": null,
            "align_items": null,
            "align_self": null,
            "border": null,
            "bottom": null,
            "display": null,
            "flex": null,
            "flex_flow": null,
            "grid_area": null,
            "grid_auto_columns": null,
            "grid_auto_flow": null,
            "grid_auto_rows": null,
            "grid_column": null,
            "grid_gap": null,
            "grid_row": null,
            "grid_template_areas": null,
            "grid_template_columns": null,
            "grid_template_rows": null,
            "height": null,
            "justify_content": null,
            "justify_items": null,
            "left": null,
            "margin": null,
            "max_height": null,
            "max_width": null,
            "min_height": null,
            "min_width": null,
            "object_fit": null,
            "object_position": null,
            "order": null,
            "overflow": null,
            "overflow_x": null,
            "overflow_y": null,
            "padding": null,
            "right": null,
            "top": null,
            "visibility": null,
            "width": null
          }
        },
        "b7757b6cca2743c7978398978f572228": {
          "model_module": "@jupyter-widgets/base",
          "model_name": "LayoutModel",
          "model_module_version": "1.2.0",
          "state": {
            "_model_module": "@jupyter-widgets/base",
            "_model_module_version": "1.2.0",
            "_model_name": "LayoutModel",
            "_view_count": null,
            "_view_module": "@jupyter-widgets/base",
            "_view_module_version": "1.2.0",
            "_view_name": "LayoutView",
            "align_content": null,
            "align_items": null,
            "align_self": null,
            "border": null,
            "bottom": null,
            "display": null,
            "flex": null,
            "flex_flow": null,
            "grid_area": null,
            "grid_auto_columns": null,
            "grid_auto_flow": null,
            "grid_auto_rows": null,
            "grid_column": null,
            "grid_gap": null,
            "grid_row": null,
            "grid_template_areas": null,
            "grid_template_columns": null,
            "grid_template_rows": null,
            "height": null,
            "justify_content": null,
            "justify_items": null,
            "left": null,
            "margin": null,
            "max_height": null,
            "max_width": null,
            "min_height": null,
            "min_width": null,
            "object_fit": null,
            "object_position": null,
            "order": null,
            "overflow": null,
            "overflow_x": null,
            "overflow_y": null,
            "padding": null,
            "right": null,
            "top": null,
            "visibility": null,
            "width": null
          }
        },
        "9a884f425bb84b94a273275b8b0cf76c": {
          "model_module": "@jupyter-widgets/controls",
          "model_name": "DescriptionStyleModel",
          "model_module_version": "1.5.0",
          "state": {
            "_model_module": "@jupyter-widgets/controls",
            "_model_module_version": "1.5.0",
            "_model_name": "DescriptionStyleModel",
            "_view_count": null,
            "_view_module": "@jupyter-widgets/base",
            "_view_module_version": "1.2.0",
            "_view_name": "StyleView",
            "description_width": ""
          }
        },
        "a280452277e8450683cbbfae8d553fef": {
          "model_module": "@jupyter-widgets/base",
          "model_name": "LayoutModel",
          "model_module_version": "1.2.0",
          "state": {
            "_model_module": "@jupyter-widgets/base",
            "_model_module_version": "1.2.0",
            "_model_name": "LayoutModel",
            "_view_count": null,
            "_view_module": "@jupyter-widgets/base",
            "_view_module_version": "1.2.0",
            "_view_name": "LayoutView",
            "align_content": null,
            "align_items": null,
            "align_self": null,
            "border": null,
            "bottom": null,
            "display": null,
            "flex": null,
            "flex_flow": null,
            "grid_area": null,
            "grid_auto_columns": null,
            "grid_auto_flow": null,
            "grid_auto_rows": null,
            "grid_column": null,
            "grid_gap": null,
            "grid_row": null,
            "grid_template_areas": null,
            "grid_template_columns": null,
            "grid_template_rows": null,
            "height": null,
            "justify_content": null,
            "justify_items": null,
            "left": null,
            "margin": null,
            "max_height": null,
            "max_width": null,
            "min_height": null,
            "min_width": null,
            "object_fit": null,
            "object_position": null,
            "order": null,
            "overflow": null,
            "overflow_x": null,
            "overflow_y": null,
            "padding": null,
            "right": null,
            "top": null,
            "visibility": null,
            "width": null
          }
        },
        "334d2a4c8d044db1bcac566362151127": {
          "model_module": "@jupyter-widgets/controls",
          "model_name": "ProgressStyleModel",
          "model_module_version": "1.5.0",
          "state": {
            "_model_module": "@jupyter-widgets/controls",
            "_model_module_version": "1.5.0",
            "_model_name": "ProgressStyleModel",
            "_view_count": null,
            "_view_module": "@jupyter-widgets/base",
            "_view_module_version": "1.2.0",
            "_view_name": "StyleView",
            "bar_color": null,
            "description_width": ""
          }
        },
        "b62ac2321a354889965448edce2b4c5e": {
          "model_module": "@jupyter-widgets/base",
          "model_name": "LayoutModel",
          "model_module_version": "1.2.0",
          "state": {
            "_model_module": "@jupyter-widgets/base",
            "_model_module_version": "1.2.0",
            "_model_name": "LayoutModel",
            "_view_count": null,
            "_view_module": "@jupyter-widgets/base",
            "_view_module_version": "1.2.0",
            "_view_name": "LayoutView",
            "align_content": null,
            "align_items": null,
            "align_self": null,
            "border": null,
            "bottom": null,
            "display": null,
            "flex": null,
            "flex_flow": null,
            "grid_area": null,
            "grid_auto_columns": null,
            "grid_auto_flow": null,
            "grid_auto_rows": null,
            "grid_column": null,
            "grid_gap": null,
            "grid_row": null,
            "grid_template_areas": null,
            "grid_template_columns": null,
            "grid_template_rows": null,
            "height": null,
            "justify_content": null,
            "justify_items": null,
            "left": null,
            "margin": null,
            "max_height": null,
            "max_width": null,
            "min_height": null,
            "min_width": null,
            "object_fit": null,
            "object_position": null,
            "order": null,
            "overflow": null,
            "overflow_x": null,
            "overflow_y": null,
            "padding": null,
            "right": null,
            "top": null,
            "visibility": null,
            "width": null
          }
        },
        "e9779e30c1ff481cb17529064d1caeac": {
          "model_module": "@jupyter-widgets/controls",
          "model_name": "DescriptionStyleModel",
          "model_module_version": "1.5.0",
          "state": {
            "_model_module": "@jupyter-widgets/controls",
            "_model_module_version": "1.5.0",
            "_model_name": "DescriptionStyleModel",
            "_view_count": null,
            "_view_module": "@jupyter-widgets/base",
            "_view_module_version": "1.2.0",
            "_view_name": "StyleView",
            "description_width": ""
          }
        },
        "0b0b25470c154ecfb42afacc8e182301": {
          "model_module": "@jupyter-widgets/controls",
          "model_name": "HBoxModel",
          "model_module_version": "1.5.0",
          "state": {
            "_dom_classes": [],
            "_model_module": "@jupyter-widgets/controls",
            "_model_module_version": "1.5.0",
            "_model_name": "HBoxModel",
            "_view_count": null,
            "_view_module": "@jupyter-widgets/controls",
            "_view_module_version": "1.5.0",
            "_view_name": "HBoxView",
            "box_style": "",
            "children": [
              "IPY_MODEL_e6687a0f648a435ebb809e16e74141ec",
              "IPY_MODEL_02cbdce5ae7a4437b402566d2e5b95dd",
              "IPY_MODEL_177ef13572484505a7b18186b5e2f23c"
            ],
            "layout": "IPY_MODEL_5c9c9ed3d04a4b45a4df93fc7395c4b0"
          }
        },
        "e6687a0f648a435ebb809e16e74141ec": {
          "model_module": "@jupyter-widgets/controls",
          "model_name": "HTMLModel",
          "model_module_version": "1.5.0",
          "state": {
            "_dom_classes": [],
            "_model_module": "@jupyter-widgets/controls",
            "_model_module_version": "1.5.0",
            "_model_name": "HTMLModel",
            "_view_count": null,
            "_view_module": "@jupyter-widgets/controls",
            "_view_module_version": "1.5.0",
            "_view_name": "HTMLView",
            "description": "",
            "description_tooltip": null,
            "layout": "IPY_MODEL_883ab7869e004e8899b99437df93fa97",
            "placeholder": "​",
            "style": "IPY_MODEL_cc87c261573741e6ac63d8e7753017b6",
            "value": "special_tokens_map.json: 100%"
          }
        },
        "02cbdce5ae7a4437b402566d2e5b95dd": {
          "model_module": "@jupyter-widgets/controls",
          "model_name": "FloatProgressModel",
          "model_module_version": "1.5.0",
          "state": {
            "_dom_classes": [],
            "_model_module": "@jupyter-widgets/controls",
            "_model_module_version": "1.5.0",
            "_model_name": "FloatProgressModel",
            "_view_count": null,
            "_view_module": "@jupyter-widgets/controls",
            "_view_module_version": "1.5.0",
            "_view_name": "ProgressView",
            "bar_style": "success",
            "description": "",
            "description_tooltip": null,
            "layout": "IPY_MODEL_1a556e950175433097ada97226bea950",
            "max": 112,
            "min": 0,
            "orientation": "horizontal",
            "style": "IPY_MODEL_d0c1899ca67b494ab818891ca1e5c0a0",
            "value": 112
          }
        },
        "177ef13572484505a7b18186b5e2f23c": {
          "model_module": "@jupyter-widgets/controls",
          "model_name": "HTMLModel",
          "model_module_version": "1.5.0",
          "state": {
            "_dom_classes": [],
            "_model_module": "@jupyter-widgets/controls",
            "_model_module_version": "1.5.0",
            "_model_name": "HTMLModel",
            "_view_count": null,
            "_view_module": "@jupyter-widgets/controls",
            "_view_module_version": "1.5.0",
            "_view_name": "HTMLView",
            "description": "",
            "description_tooltip": null,
            "layout": "IPY_MODEL_565b60cf2bdf4ca58aa654f7a673af58",
            "placeholder": "​",
            "style": "IPY_MODEL_46af28b03f6b43ef8f7f6e269dfdc53a",
            "value": " 112/112 [00:00&lt;00:00, 5.27kB/s]"
          }
        },
        "5c9c9ed3d04a4b45a4df93fc7395c4b0": {
          "model_module": "@jupyter-widgets/base",
          "model_name": "LayoutModel",
          "model_module_version": "1.2.0",
          "state": {
            "_model_module": "@jupyter-widgets/base",
            "_model_module_version": "1.2.0",
            "_model_name": "LayoutModel",
            "_view_count": null,
            "_view_module": "@jupyter-widgets/base",
            "_view_module_version": "1.2.0",
            "_view_name": "LayoutView",
            "align_content": null,
            "align_items": null,
            "align_self": null,
            "border": null,
            "bottom": null,
            "display": null,
            "flex": null,
            "flex_flow": null,
            "grid_area": null,
            "grid_auto_columns": null,
            "grid_auto_flow": null,
            "grid_auto_rows": null,
            "grid_column": null,
            "grid_gap": null,
            "grid_row": null,
            "grid_template_areas": null,
            "grid_template_columns": null,
            "grid_template_rows": null,
            "height": null,
            "justify_content": null,
            "justify_items": null,
            "left": null,
            "margin": null,
            "max_height": null,
            "max_width": null,
            "min_height": null,
            "min_width": null,
            "object_fit": null,
            "object_position": null,
            "order": null,
            "overflow": null,
            "overflow_x": null,
            "overflow_y": null,
            "padding": null,
            "right": null,
            "top": null,
            "visibility": null,
            "width": null
          }
        },
        "883ab7869e004e8899b99437df93fa97": {
          "model_module": "@jupyter-widgets/base",
          "model_name": "LayoutModel",
          "model_module_version": "1.2.0",
          "state": {
            "_model_module": "@jupyter-widgets/base",
            "_model_module_version": "1.2.0",
            "_model_name": "LayoutModel",
            "_view_count": null,
            "_view_module": "@jupyter-widgets/base",
            "_view_module_version": "1.2.0",
            "_view_name": "LayoutView",
            "align_content": null,
            "align_items": null,
            "align_self": null,
            "border": null,
            "bottom": null,
            "display": null,
            "flex": null,
            "flex_flow": null,
            "grid_area": null,
            "grid_auto_columns": null,
            "grid_auto_flow": null,
            "grid_auto_rows": null,
            "grid_column": null,
            "grid_gap": null,
            "grid_row": null,
            "grid_template_areas": null,
            "grid_template_columns": null,
            "grid_template_rows": null,
            "height": null,
            "justify_content": null,
            "justify_items": null,
            "left": null,
            "margin": null,
            "max_height": null,
            "max_width": null,
            "min_height": null,
            "min_width": null,
            "object_fit": null,
            "object_position": null,
            "order": null,
            "overflow": null,
            "overflow_x": null,
            "overflow_y": null,
            "padding": null,
            "right": null,
            "top": null,
            "visibility": null,
            "width": null
          }
        },
        "cc87c261573741e6ac63d8e7753017b6": {
          "model_module": "@jupyter-widgets/controls",
          "model_name": "DescriptionStyleModel",
          "model_module_version": "1.5.0",
          "state": {
            "_model_module": "@jupyter-widgets/controls",
            "_model_module_version": "1.5.0",
            "_model_name": "DescriptionStyleModel",
            "_view_count": null,
            "_view_module": "@jupyter-widgets/base",
            "_view_module_version": "1.2.0",
            "_view_name": "StyleView",
            "description_width": ""
          }
        },
        "1a556e950175433097ada97226bea950": {
          "model_module": "@jupyter-widgets/base",
          "model_name": "LayoutModel",
          "model_module_version": "1.2.0",
          "state": {
            "_model_module": "@jupyter-widgets/base",
            "_model_module_version": "1.2.0",
            "_model_name": "LayoutModel",
            "_view_count": null,
            "_view_module": "@jupyter-widgets/base",
            "_view_module_version": "1.2.0",
            "_view_name": "LayoutView",
            "align_content": null,
            "align_items": null,
            "align_self": null,
            "border": null,
            "bottom": null,
            "display": null,
            "flex": null,
            "flex_flow": null,
            "grid_area": null,
            "grid_auto_columns": null,
            "grid_auto_flow": null,
            "grid_auto_rows": null,
            "grid_column": null,
            "grid_gap": null,
            "grid_row": null,
            "grid_template_areas": null,
            "grid_template_columns": null,
            "grid_template_rows": null,
            "height": null,
            "justify_content": null,
            "justify_items": null,
            "left": null,
            "margin": null,
            "max_height": null,
            "max_width": null,
            "min_height": null,
            "min_width": null,
            "object_fit": null,
            "object_position": null,
            "order": null,
            "overflow": null,
            "overflow_x": null,
            "overflow_y": null,
            "padding": null,
            "right": null,
            "top": null,
            "visibility": null,
            "width": null
          }
        },
        "d0c1899ca67b494ab818891ca1e5c0a0": {
          "model_module": "@jupyter-widgets/controls",
          "model_name": "ProgressStyleModel",
          "model_module_version": "1.5.0",
          "state": {
            "_model_module": "@jupyter-widgets/controls",
            "_model_module_version": "1.5.0",
            "_model_name": "ProgressStyleModel",
            "_view_count": null,
            "_view_module": "@jupyter-widgets/base",
            "_view_module_version": "1.2.0",
            "_view_name": "StyleView",
            "bar_color": null,
            "description_width": ""
          }
        },
        "565b60cf2bdf4ca58aa654f7a673af58": {
          "model_module": "@jupyter-widgets/base",
          "model_name": "LayoutModel",
          "model_module_version": "1.2.0",
          "state": {
            "_model_module": "@jupyter-widgets/base",
            "_model_module_version": "1.2.0",
            "_model_name": "LayoutModel",
            "_view_count": null,
            "_view_module": "@jupyter-widgets/base",
            "_view_module_version": "1.2.0",
            "_view_name": "LayoutView",
            "align_content": null,
            "align_items": null,
            "align_self": null,
            "border": null,
            "bottom": null,
            "display": null,
            "flex": null,
            "flex_flow": null,
            "grid_area": null,
            "grid_auto_columns": null,
            "grid_auto_flow": null,
            "grid_auto_rows": null,
            "grid_column": null,
            "grid_gap": null,
            "grid_row": null,
            "grid_template_areas": null,
            "grid_template_columns": null,
            "grid_template_rows": null,
            "height": null,
            "justify_content": null,
            "justify_items": null,
            "left": null,
            "margin": null,
            "max_height": null,
            "max_width": null,
            "min_height": null,
            "min_width": null,
            "object_fit": null,
            "object_position": null,
            "order": null,
            "overflow": null,
            "overflow_x": null,
            "overflow_y": null,
            "padding": null,
            "right": null,
            "top": null,
            "visibility": null,
            "width": null
          }
        },
        "46af28b03f6b43ef8f7f6e269dfdc53a": {
          "model_module": "@jupyter-widgets/controls",
          "model_name": "DescriptionStyleModel",
          "model_module_version": "1.5.0",
          "state": {
            "_model_module": "@jupyter-widgets/controls",
            "_model_module_version": "1.5.0",
            "_model_name": "DescriptionStyleModel",
            "_view_count": null,
            "_view_module": "@jupyter-widgets/base",
            "_view_module_version": "1.2.0",
            "_view_name": "StyleView",
            "description_width": ""
          }
        },
        "2e0097c7311f4aa0bd7d2f51e88620c9": {
          "model_module": "@jupyter-widgets/controls",
          "model_name": "HBoxModel",
          "model_module_version": "1.5.0",
          "state": {
            "_dom_classes": [],
            "_model_module": "@jupyter-widgets/controls",
            "_model_module_version": "1.5.0",
            "_model_name": "HBoxModel",
            "_view_count": null,
            "_view_module": "@jupyter-widgets/controls",
            "_view_module_version": "1.5.0",
            "_view_name": "HBoxView",
            "box_style": "",
            "children": [
              "IPY_MODEL_aaf9e8b24efb4aae9fd84e7e2d0f2831",
              "IPY_MODEL_c49f36cdf1524a47b6292ea767c7a2e8",
              "IPY_MODEL_00047f44bd15481f9b0524eff29145b5"
            ],
            "layout": "IPY_MODEL_3c418567521d4f9c95a5a1c63976ac15"
          }
        },
        "aaf9e8b24efb4aae9fd84e7e2d0f2831": {
          "model_module": "@jupyter-widgets/controls",
          "model_name": "HTMLModel",
          "model_module_version": "1.5.0",
          "state": {
            "_dom_classes": [],
            "_model_module": "@jupyter-widgets/controls",
            "_model_module_version": "1.5.0",
            "_model_name": "HTMLModel",
            "_view_count": null,
            "_view_module": "@jupyter-widgets/controls",
            "_view_module_version": "1.5.0",
            "_view_name": "HTMLView",
            "description": "",
            "description_tooltip": null,
            "layout": "IPY_MODEL_ef6d488561404de4b9b10b46f1d9cca0",
            "placeholder": "​",
            "style": "IPY_MODEL_087953150dd84cf4ae782bbcb6fc71fc",
            "value": "100%"
          }
        },
        "c49f36cdf1524a47b6292ea767c7a2e8": {
          "model_module": "@jupyter-widgets/controls",
          "model_name": "FloatProgressModel",
          "model_module_version": "1.5.0",
          "state": {
            "_dom_classes": [],
            "_model_module": "@jupyter-widgets/controls",
            "_model_module_version": "1.5.0",
            "_model_name": "FloatProgressModel",
            "_view_count": null,
            "_view_module": "@jupyter-widgets/controls",
            "_view_module_version": "1.5.0",
            "_view_name": "ProgressView",
            "bar_style": "success",
            "description": "",
            "description_tooltip": null,
            "layout": "IPY_MODEL_95657a7b279042ceb50550059ef77901",
            "max": 5,
            "min": 0,
            "orientation": "horizontal",
            "style": "IPY_MODEL_7e222ffe98754afe85a15022b3df42ca",
            "value": 5
          }
        },
        "00047f44bd15481f9b0524eff29145b5": {
          "model_module": "@jupyter-widgets/controls",
          "model_name": "HTMLModel",
          "model_module_version": "1.5.0",
          "state": {
            "_dom_classes": [],
            "_model_module": "@jupyter-widgets/controls",
            "_model_module_version": "1.5.0",
            "_model_name": "HTMLModel",
            "_view_count": null,
            "_view_module": "@jupyter-widgets/controls",
            "_view_module_version": "1.5.0",
            "_view_name": "HTMLView",
            "description": "",
            "description_tooltip": null,
            "layout": "IPY_MODEL_1b6622abefbd48de9e0eacf12ea53576",
            "placeholder": "​",
            "style": "IPY_MODEL_f15554c6a81141a59b43794839d60f71",
            "value": " 5/5 [03:18&lt;00:00, 39.59s/it]"
          }
        },
        "3c418567521d4f9c95a5a1c63976ac15": {
          "model_module": "@jupyter-widgets/base",
          "model_name": "LayoutModel",
          "model_module_version": "1.2.0",
          "state": {
            "_model_module": "@jupyter-widgets/base",
            "_model_module_version": "1.2.0",
            "_model_name": "LayoutModel",
            "_view_count": null,
            "_view_module": "@jupyter-widgets/base",
            "_view_module_version": "1.2.0",
            "_view_name": "LayoutView",
            "align_content": null,
            "align_items": null,
            "align_self": null,
            "border": null,
            "bottom": null,
            "display": null,
            "flex": null,
            "flex_flow": null,
            "grid_area": null,
            "grid_auto_columns": null,
            "grid_auto_flow": null,
            "grid_auto_rows": null,
            "grid_column": null,
            "grid_gap": null,
            "grid_row": null,
            "grid_template_areas": null,
            "grid_template_columns": null,
            "grid_template_rows": null,
            "height": null,
            "justify_content": null,
            "justify_items": null,
            "left": null,
            "margin": null,
            "max_height": null,
            "max_width": null,
            "min_height": null,
            "min_width": null,
            "object_fit": null,
            "object_position": null,
            "order": null,
            "overflow": null,
            "overflow_x": null,
            "overflow_y": null,
            "padding": null,
            "right": null,
            "top": null,
            "visibility": null,
            "width": null
          }
        },
        "ef6d488561404de4b9b10b46f1d9cca0": {
          "model_module": "@jupyter-widgets/base",
          "model_name": "LayoutModel",
          "model_module_version": "1.2.0",
          "state": {
            "_model_module": "@jupyter-widgets/base",
            "_model_module_version": "1.2.0",
            "_model_name": "LayoutModel",
            "_view_count": null,
            "_view_module": "@jupyter-widgets/base",
            "_view_module_version": "1.2.0",
            "_view_name": "LayoutView",
            "align_content": null,
            "align_items": null,
            "align_self": null,
            "border": null,
            "bottom": null,
            "display": null,
            "flex": null,
            "flex_flow": null,
            "grid_area": null,
            "grid_auto_columns": null,
            "grid_auto_flow": null,
            "grid_auto_rows": null,
            "grid_column": null,
            "grid_gap": null,
            "grid_row": null,
            "grid_template_areas": null,
            "grid_template_columns": null,
            "grid_template_rows": null,
            "height": null,
            "justify_content": null,
            "justify_items": null,
            "left": null,
            "margin": null,
            "max_height": null,
            "max_width": null,
            "min_height": null,
            "min_width": null,
            "object_fit": null,
            "object_position": null,
            "order": null,
            "overflow": null,
            "overflow_x": null,
            "overflow_y": null,
            "padding": null,
            "right": null,
            "top": null,
            "visibility": null,
            "width": null
          }
        },
        "087953150dd84cf4ae782bbcb6fc71fc": {
          "model_module": "@jupyter-widgets/controls",
          "model_name": "DescriptionStyleModel",
          "model_module_version": "1.5.0",
          "state": {
            "_model_module": "@jupyter-widgets/controls",
            "_model_module_version": "1.5.0",
            "_model_name": "DescriptionStyleModel",
            "_view_count": null,
            "_view_module": "@jupyter-widgets/base",
            "_view_module_version": "1.2.0",
            "_view_name": "StyleView",
            "description_width": ""
          }
        },
        "95657a7b279042ceb50550059ef77901": {
          "model_module": "@jupyter-widgets/base",
          "model_name": "LayoutModel",
          "model_module_version": "1.2.0",
          "state": {
            "_model_module": "@jupyter-widgets/base",
            "_model_module_version": "1.2.0",
            "_model_name": "LayoutModel",
            "_view_count": null,
            "_view_module": "@jupyter-widgets/base",
            "_view_module_version": "1.2.0",
            "_view_name": "LayoutView",
            "align_content": null,
            "align_items": null,
            "align_self": null,
            "border": null,
            "bottom": null,
            "display": null,
            "flex": null,
            "flex_flow": null,
            "grid_area": null,
            "grid_auto_columns": null,
            "grid_auto_flow": null,
            "grid_auto_rows": null,
            "grid_column": null,
            "grid_gap": null,
            "grid_row": null,
            "grid_template_areas": null,
            "grid_template_columns": null,
            "grid_template_rows": null,
            "height": null,
            "justify_content": null,
            "justify_items": null,
            "left": null,
            "margin": null,
            "max_height": null,
            "max_width": null,
            "min_height": null,
            "min_width": null,
            "object_fit": null,
            "object_position": null,
            "order": null,
            "overflow": null,
            "overflow_x": null,
            "overflow_y": null,
            "padding": null,
            "right": null,
            "top": null,
            "visibility": null,
            "width": null
          }
        },
        "7e222ffe98754afe85a15022b3df42ca": {
          "model_module": "@jupyter-widgets/controls",
          "model_name": "ProgressStyleModel",
          "model_module_version": "1.5.0",
          "state": {
            "_model_module": "@jupyter-widgets/controls",
            "_model_module_version": "1.5.0",
            "_model_name": "ProgressStyleModel",
            "_view_count": null,
            "_view_module": "@jupyter-widgets/base",
            "_view_module_version": "1.2.0",
            "_view_name": "StyleView",
            "bar_color": null,
            "description_width": ""
          }
        },
        "1b6622abefbd48de9e0eacf12ea53576": {
          "model_module": "@jupyter-widgets/base",
          "model_name": "LayoutModel",
          "model_module_version": "1.2.0",
          "state": {
            "_model_module": "@jupyter-widgets/base",
            "_model_module_version": "1.2.0",
            "_model_name": "LayoutModel",
            "_view_count": null,
            "_view_module": "@jupyter-widgets/base",
            "_view_module_version": "1.2.0",
            "_view_name": "LayoutView",
            "align_content": null,
            "align_items": null,
            "align_self": null,
            "border": null,
            "bottom": null,
            "display": null,
            "flex": null,
            "flex_flow": null,
            "grid_area": null,
            "grid_auto_columns": null,
            "grid_auto_flow": null,
            "grid_auto_rows": null,
            "grid_column": null,
            "grid_gap": null,
            "grid_row": null,
            "grid_template_areas": null,
            "grid_template_columns": null,
            "grid_template_rows": null,
            "height": null,
            "justify_content": null,
            "justify_items": null,
            "left": null,
            "margin": null,
            "max_height": null,
            "max_width": null,
            "min_height": null,
            "min_width": null,
            "object_fit": null,
            "object_position": null,
            "order": null,
            "overflow": null,
            "overflow_x": null,
            "overflow_y": null,
            "padding": null,
            "right": null,
            "top": null,
            "visibility": null,
            "width": null
          }
        },
        "f15554c6a81141a59b43794839d60f71": {
          "model_module": "@jupyter-widgets/controls",
          "model_name": "DescriptionStyleModel",
          "model_module_version": "1.5.0",
          "state": {
            "_model_module": "@jupyter-widgets/controls",
            "_model_module_version": "1.5.0",
            "_model_name": "DescriptionStyleModel",
            "_view_count": null,
            "_view_module": "@jupyter-widgets/base",
            "_view_module_version": "1.2.0",
            "_view_name": "StyleView",
            "description_width": ""
          }
        },
        "73ec0906925749189e1b5deb5c84c604": {
          "model_module": "@jupyter-widgets/controls",
          "model_name": "HBoxModel",
          "model_module_version": "1.5.0",
          "state": {
            "_dom_classes": [],
            "_model_module": "@jupyter-widgets/controls",
            "_model_module_version": "1.5.0",
            "_model_name": "HBoxModel",
            "_view_count": null,
            "_view_module": "@jupyter-widgets/controls",
            "_view_module_version": "1.5.0",
            "_view_name": "HBoxView",
            "box_style": "",
            "children": [
              "IPY_MODEL_f12615d35a6146d6a2bcf624cb013907",
              "IPY_MODEL_a3e9df614f1c4045bd461a79710230ba",
              "IPY_MODEL_f5d9794376e8464f88bb59054c412fcb"
            ],
            "layout": "IPY_MODEL_6e83cc4f8975482e86cecc3a0ec1cd8d"
          }
        },
        "f12615d35a6146d6a2bcf624cb013907": {
          "model_module": "@jupyter-widgets/controls",
          "model_name": "HTMLModel",
          "model_module_version": "1.5.0",
          "state": {
            "_dom_classes": [],
            "_model_module": "@jupyter-widgets/controls",
            "_model_module_version": "1.5.0",
            "_model_name": "HTMLModel",
            "_view_count": null,
            "_view_module": "@jupyter-widgets/controls",
            "_view_module_version": "1.5.0",
            "_view_name": "HTMLView",
            "description": "",
            "description_tooltip": null,
            "layout": "IPY_MODEL_a111bb0132864a3cba9865d52b5632fd",
            "placeholder": "​",
            "style": "IPY_MODEL_52390fac08ef446bbc25d57370ef6c67",
            "value": "100%"
          }
        },
        "a3e9df614f1c4045bd461a79710230ba": {
          "model_module": "@jupyter-widgets/controls",
          "model_name": "FloatProgressModel",
          "model_module_version": "1.5.0",
          "state": {
            "_dom_classes": [],
            "_model_module": "@jupyter-widgets/controls",
            "_model_module_version": "1.5.0",
            "_model_name": "FloatProgressModel",
            "_view_count": null,
            "_view_module": "@jupyter-widgets/controls",
            "_view_module_version": "1.5.0",
            "_view_name": "ProgressView",
            "bar_style": "success",
            "description": "",
            "description_tooltip": null,
            "layout": "IPY_MODEL_c7d09c36feca4b40a8c07a3f6ec25603",
            "max": 5,
            "min": 0,
            "orientation": "horizontal",
            "style": "IPY_MODEL_3cedc1835ee34c099d9f2c2b8ee44104",
            "value": 5
          }
        },
        "f5d9794376e8464f88bb59054c412fcb": {
          "model_module": "@jupyter-widgets/controls",
          "model_name": "HTMLModel",
          "model_module_version": "1.5.0",
          "state": {
            "_dom_classes": [],
            "_model_module": "@jupyter-widgets/controls",
            "_model_module_version": "1.5.0",
            "_model_name": "HTMLModel",
            "_view_count": null,
            "_view_module": "@jupyter-widgets/controls",
            "_view_module_version": "1.5.0",
            "_view_name": "HTMLView",
            "description": "",
            "description_tooltip": null,
            "layout": "IPY_MODEL_9cf68d8b85e746df8546e9ea24870e5f",
            "placeholder": "​",
            "style": "IPY_MODEL_6537f81281d848489b9ff783896fdd12",
            "value": " 5/5 [00:00&lt;00:00, 140.94it/s]"
          }
        },
        "6e83cc4f8975482e86cecc3a0ec1cd8d": {
          "model_module": "@jupyter-widgets/base",
          "model_name": "LayoutModel",
          "model_module_version": "1.2.0",
          "state": {
            "_model_module": "@jupyter-widgets/base",
            "_model_module_version": "1.2.0",
            "_model_name": "LayoutModel",
            "_view_count": null,
            "_view_module": "@jupyter-widgets/base",
            "_view_module_version": "1.2.0",
            "_view_name": "LayoutView",
            "align_content": null,
            "align_items": null,
            "align_self": null,
            "border": null,
            "bottom": null,
            "display": null,
            "flex": null,
            "flex_flow": null,
            "grid_area": null,
            "grid_auto_columns": null,
            "grid_auto_flow": null,
            "grid_auto_rows": null,
            "grid_column": null,
            "grid_gap": null,
            "grid_row": null,
            "grid_template_areas": null,
            "grid_template_columns": null,
            "grid_template_rows": null,
            "height": null,
            "justify_content": null,
            "justify_items": null,
            "left": null,
            "margin": null,
            "max_height": null,
            "max_width": null,
            "min_height": null,
            "min_width": null,
            "object_fit": null,
            "object_position": null,
            "order": null,
            "overflow": null,
            "overflow_x": null,
            "overflow_y": null,
            "padding": null,
            "right": null,
            "top": null,
            "visibility": null,
            "width": null
          }
        },
        "a111bb0132864a3cba9865d52b5632fd": {
          "model_module": "@jupyter-widgets/base",
          "model_name": "LayoutModel",
          "model_module_version": "1.2.0",
          "state": {
            "_model_module": "@jupyter-widgets/base",
            "_model_module_version": "1.2.0",
            "_model_name": "LayoutModel",
            "_view_count": null,
            "_view_module": "@jupyter-widgets/base",
            "_view_module_version": "1.2.0",
            "_view_name": "LayoutView",
            "align_content": null,
            "align_items": null,
            "align_self": null,
            "border": null,
            "bottom": null,
            "display": null,
            "flex": null,
            "flex_flow": null,
            "grid_area": null,
            "grid_auto_columns": null,
            "grid_auto_flow": null,
            "grid_auto_rows": null,
            "grid_column": null,
            "grid_gap": null,
            "grid_row": null,
            "grid_template_areas": null,
            "grid_template_columns": null,
            "grid_template_rows": null,
            "height": null,
            "justify_content": null,
            "justify_items": null,
            "left": null,
            "margin": null,
            "max_height": null,
            "max_width": null,
            "min_height": null,
            "min_width": null,
            "object_fit": null,
            "object_position": null,
            "order": null,
            "overflow": null,
            "overflow_x": null,
            "overflow_y": null,
            "padding": null,
            "right": null,
            "top": null,
            "visibility": null,
            "width": null
          }
        },
        "52390fac08ef446bbc25d57370ef6c67": {
          "model_module": "@jupyter-widgets/controls",
          "model_name": "DescriptionStyleModel",
          "model_module_version": "1.5.0",
          "state": {
            "_model_module": "@jupyter-widgets/controls",
            "_model_module_version": "1.5.0",
            "_model_name": "DescriptionStyleModel",
            "_view_count": null,
            "_view_module": "@jupyter-widgets/base",
            "_view_module_version": "1.2.0",
            "_view_name": "StyleView",
            "description_width": ""
          }
        },
        "c7d09c36feca4b40a8c07a3f6ec25603": {
          "model_module": "@jupyter-widgets/base",
          "model_name": "LayoutModel",
          "model_module_version": "1.2.0",
          "state": {
            "_model_module": "@jupyter-widgets/base",
            "_model_module_version": "1.2.0",
            "_model_name": "LayoutModel",
            "_view_count": null,
            "_view_module": "@jupyter-widgets/base",
            "_view_module_version": "1.2.0",
            "_view_name": "LayoutView",
            "align_content": null,
            "align_items": null,
            "align_self": null,
            "border": null,
            "bottom": null,
            "display": null,
            "flex": null,
            "flex_flow": null,
            "grid_area": null,
            "grid_auto_columns": null,
            "grid_auto_flow": null,
            "grid_auto_rows": null,
            "grid_column": null,
            "grid_gap": null,
            "grid_row": null,
            "grid_template_areas": null,
            "grid_template_columns": null,
            "grid_template_rows": null,
            "height": null,
            "justify_content": null,
            "justify_items": null,
            "left": null,
            "margin": null,
            "max_height": null,
            "max_width": null,
            "min_height": null,
            "min_width": null,
            "object_fit": null,
            "object_position": null,
            "order": null,
            "overflow": null,
            "overflow_x": null,
            "overflow_y": null,
            "padding": null,
            "right": null,
            "top": null,
            "visibility": null,
            "width": null
          }
        },
        "3cedc1835ee34c099d9f2c2b8ee44104": {
          "model_module": "@jupyter-widgets/controls",
          "model_name": "ProgressStyleModel",
          "model_module_version": "1.5.0",
          "state": {
            "_model_module": "@jupyter-widgets/controls",
            "_model_module_version": "1.5.0",
            "_model_name": "ProgressStyleModel",
            "_view_count": null,
            "_view_module": "@jupyter-widgets/base",
            "_view_module_version": "1.2.0",
            "_view_name": "StyleView",
            "bar_color": null,
            "description_width": ""
          }
        },
        "9cf68d8b85e746df8546e9ea24870e5f": {
          "model_module": "@jupyter-widgets/base",
          "model_name": "LayoutModel",
          "model_module_version": "1.2.0",
          "state": {
            "_model_module": "@jupyter-widgets/base",
            "_model_module_version": "1.2.0",
            "_model_name": "LayoutModel",
            "_view_count": null,
            "_view_module": "@jupyter-widgets/base",
            "_view_module_version": "1.2.0",
            "_view_name": "LayoutView",
            "align_content": null,
            "align_items": null,
            "align_self": null,
            "border": null,
            "bottom": null,
            "display": null,
            "flex": null,
            "flex_flow": null,
            "grid_area": null,
            "grid_auto_columns": null,
            "grid_auto_flow": null,
            "grid_auto_rows": null,
            "grid_column": null,
            "grid_gap": null,
            "grid_row": null,
            "grid_template_areas": null,
            "grid_template_columns": null,
            "grid_template_rows": null,
            "height": null,
            "justify_content": null,
            "justify_items": null,
            "left": null,
            "margin": null,
            "max_height": null,
            "max_width": null,
            "min_height": null,
            "min_width": null,
            "object_fit": null,
            "object_position": null,
            "order": null,
            "overflow": null,
            "overflow_x": null,
            "overflow_y": null,
            "padding": null,
            "right": null,
            "top": null,
            "visibility": null,
            "width": null
          }
        },
        "6537f81281d848489b9ff783896fdd12": {
          "model_module": "@jupyter-widgets/controls",
          "model_name": "DescriptionStyleModel",
          "model_module_version": "1.5.0",
          "state": {
            "_model_module": "@jupyter-widgets/controls",
            "_model_module_version": "1.5.0",
            "_model_name": "DescriptionStyleModel",
            "_view_count": null,
            "_view_module": "@jupyter-widgets/base",
            "_view_module_version": "1.2.0",
            "_view_name": "StyleView",
            "description_width": ""
          }
        },
        "965366d18f7744d88064b2aebdb678b9": {
          "model_module": "@jupyter-widgets/controls",
          "model_name": "HBoxModel",
          "model_module_version": "1.5.0",
          "state": {
            "_dom_classes": [],
            "_model_module": "@jupyter-widgets/controls",
            "_model_module_version": "1.5.0",
            "_model_name": "HBoxModel",
            "_view_count": null,
            "_view_module": "@jupyter-widgets/controls",
            "_view_module_version": "1.5.0",
            "_view_name": "HBoxView",
            "box_style": "",
            "children": [
              "IPY_MODEL_4d07965c5d43431ea141adf879425005",
              "IPY_MODEL_1bc5be04948e411481d40f23b4ec8581",
              "IPY_MODEL_386394c0147445e4ad0769c5c7346996"
            ],
            "layout": "IPY_MODEL_f8e922937e6640c598cfa9e65ab0802e"
          }
        },
        "4d07965c5d43431ea141adf879425005": {
          "model_module": "@jupyter-widgets/controls",
          "model_name": "HTMLModel",
          "model_module_version": "1.5.0",
          "state": {
            "_dom_classes": [],
            "_model_module": "@jupyter-widgets/controls",
            "_model_module_version": "1.5.0",
            "_model_name": "HTMLModel",
            "_view_count": null,
            "_view_module": "@jupyter-widgets/controls",
            "_view_module_version": "1.5.0",
            "_view_name": "HTMLView",
            "description": "",
            "description_tooltip": null,
            "layout": "IPY_MODEL_b54c7f4100de4a5ba9114d2ec9dd2476",
            "placeholder": "​",
            "style": "IPY_MODEL_7992fa256f6741608037e7a56ceaf21b",
            "value": "100%"
          }
        },
        "1bc5be04948e411481d40f23b4ec8581": {
          "model_module": "@jupyter-widgets/controls",
          "model_name": "FloatProgressModel",
          "model_module_version": "1.5.0",
          "state": {
            "_dom_classes": [],
            "_model_module": "@jupyter-widgets/controls",
            "_model_module_version": "1.5.0",
            "_model_name": "FloatProgressModel",
            "_view_count": null,
            "_view_module": "@jupyter-widgets/controls",
            "_view_module_version": "1.5.0",
            "_view_name": "ProgressView",
            "bar_style": "success",
            "description": "",
            "description_tooltip": null,
            "layout": "IPY_MODEL_d5d85aa449cb427ba8274c699c5c41df",
            "max": 5,
            "min": 0,
            "orientation": "horizontal",
            "style": "IPY_MODEL_030f8a3f4c0341879c47d312df314ed1",
            "value": 5
          }
        },
        "386394c0147445e4ad0769c5c7346996": {
          "model_module": "@jupyter-widgets/controls",
          "model_name": "HTMLModel",
          "model_module_version": "1.5.0",
          "state": {
            "_dom_classes": [],
            "_model_module": "@jupyter-widgets/controls",
            "_model_module_version": "1.5.0",
            "_model_name": "HTMLModel",
            "_view_count": null,
            "_view_module": "@jupyter-widgets/controls",
            "_view_module_version": "1.5.0",
            "_view_name": "HTMLView",
            "description": "",
            "description_tooltip": null,
            "layout": "IPY_MODEL_76bc3a0634a14ac9a7a22f5864de19bd",
            "placeholder": "​",
            "style": "IPY_MODEL_ba11c74f90ac4e2cbd42f9820de11ec1",
            "value": " 5/5 [00:01&lt;00:00,  4.14it/s]"
          }
        },
        "f8e922937e6640c598cfa9e65ab0802e": {
          "model_module": "@jupyter-widgets/base",
          "model_name": "LayoutModel",
          "model_module_version": "1.2.0",
          "state": {
            "_model_module": "@jupyter-widgets/base",
            "_model_module_version": "1.2.0",
            "_model_name": "LayoutModel",
            "_view_count": null,
            "_view_module": "@jupyter-widgets/base",
            "_view_module_version": "1.2.0",
            "_view_name": "LayoutView",
            "align_content": null,
            "align_items": null,
            "align_self": null,
            "border": null,
            "bottom": null,
            "display": null,
            "flex": null,
            "flex_flow": null,
            "grid_area": null,
            "grid_auto_columns": null,
            "grid_auto_flow": null,
            "grid_auto_rows": null,
            "grid_column": null,
            "grid_gap": null,
            "grid_row": null,
            "grid_template_areas": null,
            "grid_template_columns": null,
            "grid_template_rows": null,
            "height": null,
            "justify_content": null,
            "justify_items": null,
            "left": null,
            "margin": null,
            "max_height": null,
            "max_width": null,
            "min_height": null,
            "min_width": null,
            "object_fit": null,
            "object_position": null,
            "order": null,
            "overflow": null,
            "overflow_x": null,
            "overflow_y": null,
            "padding": null,
            "right": null,
            "top": null,
            "visibility": null,
            "width": null
          }
        },
        "b54c7f4100de4a5ba9114d2ec9dd2476": {
          "model_module": "@jupyter-widgets/base",
          "model_name": "LayoutModel",
          "model_module_version": "1.2.0",
          "state": {
            "_model_module": "@jupyter-widgets/base",
            "_model_module_version": "1.2.0",
            "_model_name": "LayoutModel",
            "_view_count": null,
            "_view_module": "@jupyter-widgets/base",
            "_view_module_version": "1.2.0",
            "_view_name": "LayoutView",
            "align_content": null,
            "align_items": null,
            "align_self": null,
            "border": null,
            "bottom": null,
            "display": null,
            "flex": null,
            "flex_flow": null,
            "grid_area": null,
            "grid_auto_columns": null,
            "grid_auto_flow": null,
            "grid_auto_rows": null,
            "grid_column": null,
            "grid_gap": null,
            "grid_row": null,
            "grid_template_areas": null,
            "grid_template_columns": null,
            "grid_template_rows": null,
            "height": null,
            "justify_content": null,
            "justify_items": null,
            "left": null,
            "margin": null,
            "max_height": null,
            "max_width": null,
            "min_height": null,
            "min_width": null,
            "object_fit": null,
            "object_position": null,
            "order": null,
            "overflow": null,
            "overflow_x": null,
            "overflow_y": null,
            "padding": null,
            "right": null,
            "top": null,
            "visibility": null,
            "width": null
          }
        },
        "7992fa256f6741608037e7a56ceaf21b": {
          "model_module": "@jupyter-widgets/controls",
          "model_name": "DescriptionStyleModel",
          "model_module_version": "1.5.0",
          "state": {
            "_model_module": "@jupyter-widgets/controls",
            "_model_module_version": "1.5.0",
            "_model_name": "DescriptionStyleModel",
            "_view_count": null,
            "_view_module": "@jupyter-widgets/base",
            "_view_module_version": "1.2.0",
            "_view_name": "StyleView",
            "description_width": ""
          }
        },
        "d5d85aa449cb427ba8274c699c5c41df": {
          "model_module": "@jupyter-widgets/base",
          "model_name": "LayoutModel",
          "model_module_version": "1.2.0",
          "state": {
            "_model_module": "@jupyter-widgets/base",
            "_model_module_version": "1.2.0",
            "_model_name": "LayoutModel",
            "_view_count": null,
            "_view_module": "@jupyter-widgets/base",
            "_view_module_version": "1.2.0",
            "_view_name": "LayoutView",
            "align_content": null,
            "align_items": null,
            "align_self": null,
            "border": null,
            "bottom": null,
            "display": null,
            "flex": null,
            "flex_flow": null,
            "grid_area": null,
            "grid_auto_columns": null,
            "grid_auto_flow": null,
            "grid_auto_rows": null,
            "grid_column": null,
            "grid_gap": null,
            "grid_row": null,
            "grid_template_areas": null,
            "grid_template_columns": null,
            "grid_template_rows": null,
            "height": null,
            "justify_content": null,
            "justify_items": null,
            "left": null,
            "margin": null,
            "max_height": null,
            "max_width": null,
            "min_height": null,
            "min_width": null,
            "object_fit": null,
            "object_position": null,
            "order": null,
            "overflow": null,
            "overflow_x": null,
            "overflow_y": null,
            "padding": null,
            "right": null,
            "top": null,
            "visibility": null,
            "width": null
          }
        },
        "030f8a3f4c0341879c47d312df314ed1": {
          "model_module": "@jupyter-widgets/controls",
          "model_name": "ProgressStyleModel",
          "model_module_version": "1.5.0",
          "state": {
            "_model_module": "@jupyter-widgets/controls",
            "_model_module_version": "1.5.0",
            "_model_name": "ProgressStyleModel",
            "_view_count": null,
            "_view_module": "@jupyter-widgets/base",
            "_view_module_version": "1.2.0",
            "_view_name": "StyleView",
            "bar_color": null,
            "description_width": ""
          }
        },
        "76bc3a0634a14ac9a7a22f5864de19bd": {
          "model_module": "@jupyter-widgets/base",
          "model_name": "LayoutModel",
          "model_module_version": "1.2.0",
          "state": {
            "_model_module": "@jupyter-widgets/base",
            "_model_module_version": "1.2.0",
            "_model_name": "LayoutModel",
            "_view_count": null,
            "_view_module": "@jupyter-widgets/base",
            "_view_module_version": "1.2.0",
            "_view_name": "LayoutView",
            "align_content": null,
            "align_items": null,
            "align_self": null,
            "border": null,
            "bottom": null,
            "display": null,
            "flex": null,
            "flex_flow": null,
            "grid_area": null,
            "grid_auto_columns": null,
            "grid_auto_flow": null,
            "grid_auto_rows": null,
            "grid_column": null,
            "grid_gap": null,
            "grid_row": null,
            "grid_template_areas": null,
            "grid_template_columns": null,
            "grid_template_rows": null,
            "height": null,
            "justify_content": null,
            "justify_items": null,
            "left": null,
            "margin": null,
            "max_height": null,
            "max_width": null,
            "min_height": null,
            "min_width": null,
            "object_fit": null,
            "object_position": null,
            "order": null,
            "overflow": null,
            "overflow_x": null,
            "overflow_y": null,
            "padding": null,
            "right": null,
            "top": null,
            "visibility": null,
            "width": null
          }
        },
        "ba11c74f90ac4e2cbd42f9820de11ec1": {
          "model_module": "@jupyter-widgets/controls",
          "model_name": "DescriptionStyleModel",
          "model_module_version": "1.5.0",
          "state": {
            "_model_module": "@jupyter-widgets/controls",
            "_model_module_version": "1.5.0",
            "_model_name": "DescriptionStyleModel",
            "_view_count": null,
            "_view_module": "@jupyter-widgets/base",
            "_view_module_version": "1.2.0",
            "_view_name": "StyleView",
            "description_width": ""
          }
        },
        "a8fffe158faa45b0af3be3196d3586ee": {
          "model_module": "@jupyter-widgets/controls",
          "model_name": "HBoxModel",
          "model_module_version": "1.5.0",
          "state": {
            "_dom_classes": [],
            "_model_module": "@jupyter-widgets/controls",
            "_model_module_version": "1.5.0",
            "_model_name": "HBoxModel",
            "_view_count": null,
            "_view_module": "@jupyter-widgets/controls",
            "_view_module_version": "1.5.0",
            "_view_name": "HBoxView",
            "box_style": "",
            "children": [
              "IPY_MODEL_3588987b19bb49beb5eca7d561847253",
              "IPY_MODEL_0ffbe48a70bd4c06bcb81c286f77e2b0",
              "IPY_MODEL_e05ebef9cc684a55b9f02d6daa038831"
            ],
            "layout": "IPY_MODEL_8d126bfebdbc487db76410bec10d20bd"
          }
        },
        "3588987b19bb49beb5eca7d561847253": {
          "model_module": "@jupyter-widgets/controls",
          "model_name": "HTMLModel",
          "model_module_version": "1.5.0",
          "state": {
            "_dom_classes": [],
            "_model_module": "@jupyter-widgets/controls",
            "_model_module_version": "1.5.0",
            "_model_name": "HTMLModel",
            "_view_count": null,
            "_view_module": "@jupyter-widgets/controls",
            "_view_module_version": "1.5.0",
            "_view_name": "HTMLView",
            "description": "",
            "description_tooltip": null,
            "layout": "IPY_MODEL_b6bd2d7bc0474a448896b1069aa06225",
            "placeholder": "​",
            "style": "IPY_MODEL_353fd6a409234ad3bfa76bc51ffd708a",
            "value": "100%"
          }
        },
        "0ffbe48a70bd4c06bcb81c286f77e2b0": {
          "model_module": "@jupyter-widgets/controls",
          "model_name": "FloatProgressModel",
          "model_module_version": "1.5.0",
          "state": {
            "_dom_classes": [],
            "_model_module": "@jupyter-widgets/controls",
            "_model_module_version": "1.5.0",
            "_model_name": "FloatProgressModel",
            "_view_count": null,
            "_view_module": "@jupyter-widgets/controls",
            "_view_module_version": "1.5.0",
            "_view_name": "ProgressView",
            "bar_style": "success",
            "description": "",
            "description_tooltip": null,
            "layout": "IPY_MODEL_c1b7eb7fdbc24fabab7b715be077bad4",
            "max": 5,
            "min": 0,
            "orientation": "horizontal",
            "style": "IPY_MODEL_1c5c0323c0b64be7ad3e8df47de41c86",
            "value": 5
          }
        },
        "e05ebef9cc684a55b9f02d6daa038831": {
          "model_module": "@jupyter-widgets/controls",
          "model_name": "HTMLModel",
          "model_module_version": "1.5.0",
          "state": {
            "_dom_classes": [],
            "_model_module": "@jupyter-widgets/controls",
            "_model_module_version": "1.5.0",
            "_model_name": "HTMLModel",
            "_view_count": null,
            "_view_module": "@jupyter-widgets/controls",
            "_view_module_version": "1.5.0",
            "_view_name": "HTMLView",
            "description": "",
            "description_tooltip": null,
            "layout": "IPY_MODEL_b2b08b892fdd4205a9bbacb86886f460",
            "placeholder": "​",
            "style": "IPY_MODEL_9b58111abe024169baef85a7f3ff90dd",
            "value": " 5/5 [00:00&lt;00:00, 71.66it/s]"
          }
        },
        "8d126bfebdbc487db76410bec10d20bd": {
          "model_module": "@jupyter-widgets/base",
          "model_name": "LayoutModel",
          "model_module_version": "1.2.0",
          "state": {
            "_model_module": "@jupyter-widgets/base",
            "_model_module_version": "1.2.0",
            "_model_name": "LayoutModel",
            "_view_count": null,
            "_view_module": "@jupyter-widgets/base",
            "_view_module_version": "1.2.0",
            "_view_name": "LayoutView",
            "align_content": null,
            "align_items": null,
            "align_self": null,
            "border": null,
            "bottom": null,
            "display": null,
            "flex": null,
            "flex_flow": null,
            "grid_area": null,
            "grid_auto_columns": null,
            "grid_auto_flow": null,
            "grid_auto_rows": null,
            "grid_column": null,
            "grid_gap": null,
            "grid_row": null,
            "grid_template_areas": null,
            "grid_template_columns": null,
            "grid_template_rows": null,
            "height": null,
            "justify_content": null,
            "justify_items": null,
            "left": null,
            "margin": null,
            "max_height": null,
            "max_width": null,
            "min_height": null,
            "min_width": null,
            "object_fit": null,
            "object_position": null,
            "order": null,
            "overflow": null,
            "overflow_x": null,
            "overflow_y": null,
            "padding": null,
            "right": null,
            "top": null,
            "visibility": null,
            "width": null
          }
        },
        "b6bd2d7bc0474a448896b1069aa06225": {
          "model_module": "@jupyter-widgets/base",
          "model_name": "LayoutModel",
          "model_module_version": "1.2.0",
          "state": {
            "_model_module": "@jupyter-widgets/base",
            "_model_module_version": "1.2.0",
            "_model_name": "LayoutModel",
            "_view_count": null,
            "_view_module": "@jupyter-widgets/base",
            "_view_module_version": "1.2.0",
            "_view_name": "LayoutView",
            "align_content": null,
            "align_items": null,
            "align_self": null,
            "border": null,
            "bottom": null,
            "display": null,
            "flex": null,
            "flex_flow": null,
            "grid_area": null,
            "grid_auto_columns": null,
            "grid_auto_flow": null,
            "grid_auto_rows": null,
            "grid_column": null,
            "grid_gap": null,
            "grid_row": null,
            "grid_template_areas": null,
            "grid_template_columns": null,
            "grid_template_rows": null,
            "height": null,
            "justify_content": null,
            "justify_items": null,
            "left": null,
            "margin": null,
            "max_height": null,
            "max_width": null,
            "min_height": null,
            "min_width": null,
            "object_fit": null,
            "object_position": null,
            "order": null,
            "overflow": null,
            "overflow_x": null,
            "overflow_y": null,
            "padding": null,
            "right": null,
            "top": null,
            "visibility": null,
            "width": null
          }
        },
        "353fd6a409234ad3bfa76bc51ffd708a": {
          "model_module": "@jupyter-widgets/controls",
          "model_name": "DescriptionStyleModel",
          "model_module_version": "1.5.0",
          "state": {
            "_model_module": "@jupyter-widgets/controls",
            "_model_module_version": "1.5.0",
            "_model_name": "DescriptionStyleModel",
            "_view_count": null,
            "_view_module": "@jupyter-widgets/base",
            "_view_module_version": "1.2.0",
            "_view_name": "StyleView",
            "description_width": ""
          }
        },
        "c1b7eb7fdbc24fabab7b715be077bad4": {
          "model_module": "@jupyter-widgets/base",
          "model_name": "LayoutModel",
          "model_module_version": "1.2.0",
          "state": {
            "_model_module": "@jupyter-widgets/base",
            "_model_module_version": "1.2.0",
            "_model_name": "LayoutModel",
            "_view_count": null,
            "_view_module": "@jupyter-widgets/base",
            "_view_module_version": "1.2.0",
            "_view_name": "LayoutView",
            "align_content": null,
            "align_items": null,
            "align_self": null,
            "border": null,
            "bottom": null,
            "display": null,
            "flex": null,
            "flex_flow": null,
            "grid_area": null,
            "grid_auto_columns": null,
            "grid_auto_flow": null,
            "grid_auto_rows": null,
            "grid_column": null,
            "grid_gap": null,
            "grid_row": null,
            "grid_template_areas": null,
            "grid_template_columns": null,
            "grid_template_rows": null,
            "height": null,
            "justify_content": null,
            "justify_items": null,
            "left": null,
            "margin": null,
            "max_height": null,
            "max_width": null,
            "min_height": null,
            "min_width": null,
            "object_fit": null,
            "object_position": null,
            "order": null,
            "overflow": null,
            "overflow_x": null,
            "overflow_y": null,
            "padding": null,
            "right": null,
            "top": null,
            "visibility": null,
            "width": null
          }
        },
        "1c5c0323c0b64be7ad3e8df47de41c86": {
          "model_module": "@jupyter-widgets/controls",
          "model_name": "ProgressStyleModel",
          "model_module_version": "1.5.0",
          "state": {
            "_model_module": "@jupyter-widgets/controls",
            "_model_module_version": "1.5.0",
            "_model_name": "ProgressStyleModel",
            "_view_count": null,
            "_view_module": "@jupyter-widgets/base",
            "_view_module_version": "1.2.0",
            "_view_name": "StyleView",
            "bar_color": null,
            "description_width": ""
          }
        },
        "b2b08b892fdd4205a9bbacb86886f460": {
          "model_module": "@jupyter-widgets/base",
          "model_name": "LayoutModel",
          "model_module_version": "1.2.0",
          "state": {
            "_model_module": "@jupyter-widgets/base",
            "_model_module_version": "1.2.0",
            "_model_name": "LayoutModel",
            "_view_count": null,
            "_view_module": "@jupyter-widgets/base",
            "_view_module_version": "1.2.0",
            "_view_name": "LayoutView",
            "align_content": null,
            "align_items": null,
            "align_self": null,
            "border": null,
            "bottom": null,
            "display": null,
            "flex": null,
            "flex_flow": null,
            "grid_area": null,
            "grid_auto_columns": null,
            "grid_auto_flow": null,
            "grid_auto_rows": null,
            "grid_column": null,
            "grid_gap": null,
            "grid_row": null,
            "grid_template_areas": null,
            "grid_template_columns": null,
            "grid_template_rows": null,
            "height": null,
            "justify_content": null,
            "justify_items": null,
            "left": null,
            "margin": null,
            "max_height": null,
            "max_width": null,
            "min_height": null,
            "min_width": null,
            "object_fit": null,
            "object_position": null,
            "order": null,
            "overflow": null,
            "overflow_x": null,
            "overflow_y": null,
            "padding": null,
            "right": null,
            "top": null,
            "visibility": null,
            "width": null
          }
        },
        "9b58111abe024169baef85a7f3ff90dd": {
          "model_module": "@jupyter-widgets/controls",
          "model_name": "DescriptionStyleModel",
          "model_module_version": "1.5.0",
          "state": {
            "_model_module": "@jupyter-widgets/controls",
            "_model_module_version": "1.5.0",
            "_model_name": "DescriptionStyleModel",
            "_view_count": null,
            "_view_module": "@jupyter-widgets/base",
            "_view_module_version": "1.2.0",
            "_view_name": "StyleView",
            "description_width": ""
          }
        },
        "e434cc69091d4878b9a9ad475c2ffdc1": {
          "model_module": "@jupyter-widgets/controls",
          "model_name": "HBoxModel",
          "model_module_version": "1.5.0",
          "state": {
            "_dom_classes": [],
            "_model_module": "@jupyter-widgets/controls",
            "_model_module_version": "1.5.0",
            "_model_name": "HBoxModel",
            "_view_count": null,
            "_view_module": "@jupyter-widgets/controls",
            "_view_module_version": "1.5.0",
            "_view_name": "HBoxView",
            "box_style": "",
            "children": [
              "IPY_MODEL_b2f51feeed4e4563b5f39f54747a0979",
              "IPY_MODEL_2473f0511419415cb88484a31f92c4bf",
              "IPY_MODEL_7a8e6d154c68491f912e241724244eaa"
            ],
            "layout": "IPY_MODEL_bd3e62a7506843f8ad0573b12d39bbd7"
          }
        },
        "b2f51feeed4e4563b5f39f54747a0979": {
          "model_module": "@jupyter-widgets/controls",
          "model_name": "HTMLModel",
          "model_module_version": "1.5.0",
          "state": {
            "_dom_classes": [],
            "_model_module": "@jupyter-widgets/controls",
            "_model_module_version": "1.5.0",
            "_model_name": "HTMLModel",
            "_view_count": null,
            "_view_module": "@jupyter-widgets/controls",
            "_view_module_version": "1.5.0",
            "_view_name": "HTMLView",
            "description": "",
            "description_tooltip": null,
            "layout": "IPY_MODEL_f897844b5de34186ad7bf2bdd5460179",
            "placeholder": "​",
            "style": "IPY_MODEL_795fee9456a34beca74620543464baab",
            "value": "100%"
          }
        },
        "2473f0511419415cb88484a31f92c4bf": {
          "model_module": "@jupyter-widgets/controls",
          "model_name": "FloatProgressModel",
          "model_module_version": "1.5.0",
          "state": {
            "_dom_classes": [],
            "_model_module": "@jupyter-widgets/controls",
            "_model_module_version": "1.5.0",
            "_model_name": "FloatProgressModel",
            "_view_count": null,
            "_view_module": "@jupyter-widgets/controls",
            "_view_module_version": "1.5.0",
            "_view_name": "ProgressView",
            "bar_style": "success",
            "description": "",
            "description_tooltip": null,
            "layout": "IPY_MODEL_5a482fbc4c574c9d9da80dbc0e53ed25",
            "max": 5,
            "min": 0,
            "orientation": "horizontal",
            "style": "IPY_MODEL_dd7c0c99e2114e9abf5acb8fcf50d521",
            "value": 5
          }
        },
        "7a8e6d154c68491f912e241724244eaa": {
          "model_module": "@jupyter-widgets/controls",
          "model_name": "HTMLModel",
          "model_module_version": "1.5.0",
          "state": {
            "_dom_classes": [],
            "_model_module": "@jupyter-widgets/controls",
            "_model_module_version": "1.5.0",
            "_model_name": "HTMLModel",
            "_view_count": null,
            "_view_module": "@jupyter-widgets/controls",
            "_view_module_version": "1.5.0",
            "_view_name": "HTMLView",
            "description": "",
            "description_tooltip": null,
            "layout": "IPY_MODEL_dc2df9ba202c4b6a983b891309e250d6",
            "placeholder": "​",
            "style": "IPY_MODEL_9917070916a64e1f806dcd24a4381eb3",
            "value": " 5/5 [00:00&lt;00:00,  7.69it/s]"
          }
        },
        "bd3e62a7506843f8ad0573b12d39bbd7": {
          "model_module": "@jupyter-widgets/base",
          "model_name": "LayoutModel",
          "model_module_version": "1.2.0",
          "state": {
            "_model_module": "@jupyter-widgets/base",
            "_model_module_version": "1.2.0",
            "_model_name": "LayoutModel",
            "_view_count": null,
            "_view_module": "@jupyter-widgets/base",
            "_view_module_version": "1.2.0",
            "_view_name": "LayoutView",
            "align_content": null,
            "align_items": null,
            "align_self": null,
            "border": null,
            "bottom": null,
            "display": null,
            "flex": null,
            "flex_flow": null,
            "grid_area": null,
            "grid_auto_columns": null,
            "grid_auto_flow": null,
            "grid_auto_rows": null,
            "grid_column": null,
            "grid_gap": null,
            "grid_row": null,
            "grid_template_areas": null,
            "grid_template_columns": null,
            "grid_template_rows": null,
            "height": null,
            "justify_content": null,
            "justify_items": null,
            "left": null,
            "margin": null,
            "max_height": null,
            "max_width": null,
            "min_height": null,
            "min_width": null,
            "object_fit": null,
            "object_position": null,
            "order": null,
            "overflow": null,
            "overflow_x": null,
            "overflow_y": null,
            "padding": null,
            "right": null,
            "top": null,
            "visibility": null,
            "width": null
          }
        },
        "f897844b5de34186ad7bf2bdd5460179": {
          "model_module": "@jupyter-widgets/base",
          "model_name": "LayoutModel",
          "model_module_version": "1.2.0",
          "state": {
            "_model_module": "@jupyter-widgets/base",
            "_model_module_version": "1.2.0",
            "_model_name": "LayoutModel",
            "_view_count": null,
            "_view_module": "@jupyter-widgets/base",
            "_view_module_version": "1.2.0",
            "_view_name": "LayoutView",
            "align_content": null,
            "align_items": null,
            "align_self": null,
            "border": null,
            "bottom": null,
            "display": null,
            "flex": null,
            "flex_flow": null,
            "grid_area": null,
            "grid_auto_columns": null,
            "grid_auto_flow": null,
            "grid_auto_rows": null,
            "grid_column": null,
            "grid_gap": null,
            "grid_row": null,
            "grid_template_areas": null,
            "grid_template_columns": null,
            "grid_template_rows": null,
            "height": null,
            "justify_content": null,
            "justify_items": null,
            "left": null,
            "margin": null,
            "max_height": null,
            "max_width": null,
            "min_height": null,
            "min_width": null,
            "object_fit": null,
            "object_position": null,
            "order": null,
            "overflow": null,
            "overflow_x": null,
            "overflow_y": null,
            "padding": null,
            "right": null,
            "top": null,
            "visibility": null,
            "width": null
          }
        },
        "795fee9456a34beca74620543464baab": {
          "model_module": "@jupyter-widgets/controls",
          "model_name": "DescriptionStyleModel",
          "model_module_version": "1.5.0",
          "state": {
            "_model_module": "@jupyter-widgets/controls",
            "_model_module_version": "1.5.0",
            "_model_name": "DescriptionStyleModel",
            "_view_count": null,
            "_view_module": "@jupyter-widgets/base",
            "_view_module_version": "1.2.0",
            "_view_name": "StyleView",
            "description_width": ""
          }
        },
        "5a482fbc4c574c9d9da80dbc0e53ed25": {
          "model_module": "@jupyter-widgets/base",
          "model_name": "LayoutModel",
          "model_module_version": "1.2.0",
          "state": {
            "_model_module": "@jupyter-widgets/base",
            "_model_module_version": "1.2.0",
            "_model_name": "LayoutModel",
            "_view_count": null,
            "_view_module": "@jupyter-widgets/base",
            "_view_module_version": "1.2.0",
            "_view_name": "LayoutView",
            "align_content": null,
            "align_items": null,
            "align_self": null,
            "border": null,
            "bottom": null,
            "display": null,
            "flex": null,
            "flex_flow": null,
            "grid_area": null,
            "grid_auto_columns": null,
            "grid_auto_flow": null,
            "grid_auto_rows": null,
            "grid_column": null,
            "grid_gap": null,
            "grid_row": null,
            "grid_template_areas": null,
            "grid_template_columns": null,
            "grid_template_rows": null,
            "height": null,
            "justify_content": null,
            "justify_items": null,
            "left": null,
            "margin": null,
            "max_height": null,
            "max_width": null,
            "min_height": null,
            "min_width": null,
            "object_fit": null,
            "object_position": null,
            "order": null,
            "overflow": null,
            "overflow_x": null,
            "overflow_y": null,
            "padding": null,
            "right": null,
            "top": null,
            "visibility": null,
            "width": null
          }
        },
        "dd7c0c99e2114e9abf5acb8fcf50d521": {
          "model_module": "@jupyter-widgets/controls",
          "model_name": "ProgressStyleModel",
          "model_module_version": "1.5.0",
          "state": {
            "_model_module": "@jupyter-widgets/controls",
            "_model_module_version": "1.5.0",
            "_model_name": "ProgressStyleModel",
            "_view_count": null,
            "_view_module": "@jupyter-widgets/base",
            "_view_module_version": "1.2.0",
            "_view_name": "StyleView",
            "bar_color": null,
            "description_width": ""
          }
        },
        "dc2df9ba202c4b6a983b891309e250d6": {
          "model_module": "@jupyter-widgets/base",
          "model_name": "LayoutModel",
          "model_module_version": "1.2.0",
          "state": {
            "_model_module": "@jupyter-widgets/base",
            "_model_module_version": "1.2.0",
            "_model_name": "LayoutModel",
            "_view_count": null,
            "_view_module": "@jupyter-widgets/base",
            "_view_module_version": "1.2.0",
            "_view_name": "LayoutView",
            "align_content": null,
            "align_items": null,
            "align_self": null,
            "border": null,
            "bottom": null,
            "display": null,
            "flex": null,
            "flex_flow": null,
            "grid_area": null,
            "grid_auto_columns": null,
            "grid_auto_flow": null,
            "grid_auto_rows": null,
            "grid_column": null,
            "grid_gap": null,
            "grid_row": null,
            "grid_template_areas": null,
            "grid_template_columns": null,
            "grid_template_rows": null,
            "height": null,
            "justify_content": null,
            "justify_items": null,
            "left": null,
            "margin": null,
            "max_height": null,
            "max_width": null,
            "min_height": null,
            "min_width": null,
            "object_fit": null,
            "object_position": null,
            "order": null,
            "overflow": null,
            "overflow_x": null,
            "overflow_y": null,
            "padding": null,
            "right": null,
            "top": null,
            "visibility": null,
            "width": null
          }
        },
        "9917070916a64e1f806dcd24a4381eb3": {
          "model_module": "@jupyter-widgets/controls",
          "model_name": "DescriptionStyleModel",
          "model_module_version": "1.5.0",
          "state": {
            "_model_module": "@jupyter-widgets/controls",
            "_model_module_version": "1.5.0",
            "_model_name": "DescriptionStyleModel",
            "_view_count": null,
            "_view_module": "@jupyter-widgets/base",
            "_view_module_version": "1.2.0",
            "_view_name": "StyleView",
            "description_width": ""
          }
        },
        "47aefa5aed9f4cbf9e4f21853a54c9a0": {
          "model_module": "@jupyter-widgets/controls",
          "model_name": "HBoxModel",
          "model_module_version": "1.5.0",
          "state": {
            "_dom_classes": [],
            "_model_module": "@jupyter-widgets/controls",
            "_model_module_version": "1.5.0",
            "_model_name": "HBoxModel",
            "_view_count": null,
            "_view_module": "@jupyter-widgets/controls",
            "_view_module_version": "1.5.0",
            "_view_name": "HBoxView",
            "box_style": "",
            "children": [
              "IPY_MODEL_e2ba9881efd44ad6a80ea2b050759559",
              "IPY_MODEL_7774cd79629e44f5a619a309dbb8673e",
              "IPY_MODEL_2880e56c379148a89cc4b908a047aef2"
            ],
            "layout": "IPY_MODEL_e61bd321cf114bcfa40d1f0711b7df51"
          }
        },
        "e2ba9881efd44ad6a80ea2b050759559": {
          "model_module": "@jupyter-widgets/controls",
          "model_name": "HTMLModel",
          "model_module_version": "1.5.0",
          "state": {
            "_dom_classes": [],
            "_model_module": "@jupyter-widgets/controls",
            "_model_module_version": "1.5.0",
            "_model_name": "HTMLModel",
            "_view_count": null,
            "_view_module": "@jupyter-widgets/controls",
            "_view_module_version": "1.5.0",
            "_view_name": "HTMLView",
            "description": "",
            "description_tooltip": null,
            "layout": "IPY_MODEL_4a522f8f6ea144acb57192a0c835f5bb",
            "placeholder": "​",
            "style": "IPY_MODEL_d13d367c56834a2aaea5d6b241505bac",
            "value": "100%"
          }
        },
        "7774cd79629e44f5a619a309dbb8673e": {
          "model_module": "@jupyter-widgets/controls",
          "model_name": "FloatProgressModel",
          "model_module_version": "1.5.0",
          "state": {
            "_dom_classes": [],
            "_model_module": "@jupyter-widgets/controls",
            "_model_module_version": "1.5.0",
            "_model_name": "FloatProgressModel",
            "_view_count": null,
            "_view_module": "@jupyter-widgets/controls",
            "_view_module_version": "1.5.0",
            "_view_name": "ProgressView",
            "bar_style": "success",
            "description": "",
            "description_tooltip": null,
            "layout": "IPY_MODEL_574bf88ebf56400c8e1797f3cba98a61",
            "max": 5,
            "min": 0,
            "orientation": "horizontal",
            "style": "IPY_MODEL_02ad2a9b92574f4bbfba8040f54324e1",
            "value": 5
          }
        },
        "2880e56c379148a89cc4b908a047aef2": {
          "model_module": "@jupyter-widgets/controls",
          "model_name": "HTMLModel",
          "model_module_version": "1.5.0",
          "state": {
            "_dom_classes": [],
            "_model_module": "@jupyter-widgets/controls",
            "_model_module_version": "1.5.0",
            "_model_name": "HTMLModel",
            "_view_count": null,
            "_view_module": "@jupyter-widgets/controls",
            "_view_module_version": "1.5.0",
            "_view_name": "HTMLView",
            "description": "",
            "description_tooltip": null,
            "layout": "IPY_MODEL_faf466bf2fa54934a2bb1e8cf10093bd",
            "placeholder": "​",
            "style": "IPY_MODEL_30c8c90ee9cc4935a3f71cd0a72bb935",
            "value": " 5/5 [03:18&lt;00:00, 40.16s/it]"
          }
        },
        "e61bd321cf114bcfa40d1f0711b7df51": {
          "model_module": "@jupyter-widgets/base",
          "model_name": "LayoutModel",
          "model_module_version": "1.2.0",
          "state": {
            "_model_module": "@jupyter-widgets/base",
            "_model_module_version": "1.2.0",
            "_model_name": "LayoutModel",
            "_view_count": null,
            "_view_module": "@jupyter-widgets/base",
            "_view_module_version": "1.2.0",
            "_view_name": "LayoutView",
            "align_content": null,
            "align_items": null,
            "align_self": null,
            "border": null,
            "bottom": null,
            "display": null,
            "flex": null,
            "flex_flow": null,
            "grid_area": null,
            "grid_auto_columns": null,
            "grid_auto_flow": null,
            "grid_auto_rows": null,
            "grid_column": null,
            "grid_gap": null,
            "grid_row": null,
            "grid_template_areas": null,
            "grid_template_columns": null,
            "grid_template_rows": null,
            "height": null,
            "justify_content": null,
            "justify_items": null,
            "left": null,
            "margin": null,
            "max_height": null,
            "max_width": null,
            "min_height": null,
            "min_width": null,
            "object_fit": null,
            "object_position": null,
            "order": null,
            "overflow": null,
            "overflow_x": null,
            "overflow_y": null,
            "padding": null,
            "right": null,
            "top": null,
            "visibility": null,
            "width": null
          }
        },
        "4a522f8f6ea144acb57192a0c835f5bb": {
          "model_module": "@jupyter-widgets/base",
          "model_name": "LayoutModel",
          "model_module_version": "1.2.0",
          "state": {
            "_model_module": "@jupyter-widgets/base",
            "_model_module_version": "1.2.0",
            "_model_name": "LayoutModel",
            "_view_count": null,
            "_view_module": "@jupyter-widgets/base",
            "_view_module_version": "1.2.0",
            "_view_name": "LayoutView",
            "align_content": null,
            "align_items": null,
            "align_self": null,
            "border": null,
            "bottom": null,
            "display": null,
            "flex": null,
            "flex_flow": null,
            "grid_area": null,
            "grid_auto_columns": null,
            "grid_auto_flow": null,
            "grid_auto_rows": null,
            "grid_column": null,
            "grid_gap": null,
            "grid_row": null,
            "grid_template_areas": null,
            "grid_template_columns": null,
            "grid_template_rows": null,
            "height": null,
            "justify_content": null,
            "justify_items": null,
            "left": null,
            "margin": null,
            "max_height": null,
            "max_width": null,
            "min_height": null,
            "min_width": null,
            "object_fit": null,
            "object_position": null,
            "order": null,
            "overflow": null,
            "overflow_x": null,
            "overflow_y": null,
            "padding": null,
            "right": null,
            "top": null,
            "visibility": null,
            "width": null
          }
        },
        "d13d367c56834a2aaea5d6b241505bac": {
          "model_module": "@jupyter-widgets/controls",
          "model_name": "DescriptionStyleModel",
          "model_module_version": "1.5.0",
          "state": {
            "_model_module": "@jupyter-widgets/controls",
            "_model_module_version": "1.5.0",
            "_model_name": "DescriptionStyleModel",
            "_view_count": null,
            "_view_module": "@jupyter-widgets/base",
            "_view_module_version": "1.2.0",
            "_view_name": "StyleView",
            "description_width": ""
          }
        },
        "574bf88ebf56400c8e1797f3cba98a61": {
          "model_module": "@jupyter-widgets/base",
          "model_name": "LayoutModel",
          "model_module_version": "1.2.0",
          "state": {
            "_model_module": "@jupyter-widgets/base",
            "_model_module_version": "1.2.0",
            "_model_name": "LayoutModel",
            "_view_count": null,
            "_view_module": "@jupyter-widgets/base",
            "_view_module_version": "1.2.0",
            "_view_name": "LayoutView",
            "align_content": null,
            "align_items": null,
            "align_self": null,
            "border": null,
            "bottom": null,
            "display": null,
            "flex": null,
            "flex_flow": null,
            "grid_area": null,
            "grid_auto_columns": null,
            "grid_auto_flow": null,
            "grid_auto_rows": null,
            "grid_column": null,
            "grid_gap": null,
            "grid_row": null,
            "grid_template_areas": null,
            "grid_template_columns": null,
            "grid_template_rows": null,
            "height": null,
            "justify_content": null,
            "justify_items": null,
            "left": null,
            "margin": null,
            "max_height": null,
            "max_width": null,
            "min_height": null,
            "min_width": null,
            "object_fit": null,
            "object_position": null,
            "order": null,
            "overflow": null,
            "overflow_x": null,
            "overflow_y": null,
            "padding": null,
            "right": null,
            "top": null,
            "visibility": null,
            "width": null
          }
        },
        "02ad2a9b92574f4bbfba8040f54324e1": {
          "model_module": "@jupyter-widgets/controls",
          "model_name": "ProgressStyleModel",
          "model_module_version": "1.5.0",
          "state": {
            "_model_module": "@jupyter-widgets/controls",
            "_model_module_version": "1.5.0",
            "_model_name": "ProgressStyleModel",
            "_view_count": null,
            "_view_module": "@jupyter-widgets/base",
            "_view_module_version": "1.2.0",
            "_view_name": "StyleView",
            "bar_color": null,
            "description_width": ""
          }
        },
        "faf466bf2fa54934a2bb1e8cf10093bd": {
          "model_module": "@jupyter-widgets/base",
          "model_name": "LayoutModel",
          "model_module_version": "1.2.0",
          "state": {
            "_model_module": "@jupyter-widgets/base",
            "_model_module_version": "1.2.0",
            "_model_name": "LayoutModel",
            "_view_count": null,
            "_view_module": "@jupyter-widgets/base",
            "_view_module_version": "1.2.0",
            "_view_name": "LayoutView",
            "align_content": null,
            "align_items": null,
            "align_self": null,
            "border": null,
            "bottom": null,
            "display": null,
            "flex": null,
            "flex_flow": null,
            "grid_area": null,
            "grid_auto_columns": null,
            "grid_auto_flow": null,
            "grid_auto_rows": null,
            "grid_column": null,
            "grid_gap": null,
            "grid_row": null,
            "grid_template_areas": null,
            "grid_template_columns": null,
            "grid_template_rows": null,
            "height": null,
            "justify_content": null,
            "justify_items": null,
            "left": null,
            "margin": null,
            "max_height": null,
            "max_width": null,
            "min_height": null,
            "min_width": null,
            "object_fit": null,
            "object_position": null,
            "order": null,
            "overflow": null,
            "overflow_x": null,
            "overflow_y": null,
            "padding": null,
            "right": null,
            "top": null,
            "visibility": null,
            "width": null
          }
        },
        "30c8c90ee9cc4935a3f71cd0a72bb935": {
          "model_module": "@jupyter-widgets/controls",
          "model_name": "DescriptionStyleModel",
          "model_module_version": "1.5.0",
          "state": {
            "_model_module": "@jupyter-widgets/controls",
            "_model_module_version": "1.5.0",
            "_model_name": "DescriptionStyleModel",
            "_view_count": null,
            "_view_module": "@jupyter-widgets/base",
            "_view_module_version": "1.2.0",
            "_view_name": "StyleView",
            "description_width": ""
          }
        },
        "9c760b029ca44256b89224e407cd2b48": {
          "model_module": "@jupyter-widgets/controls",
          "model_name": "HBoxModel",
          "model_module_version": "1.5.0",
          "state": {
            "_dom_classes": [],
            "_model_module": "@jupyter-widgets/controls",
            "_model_module_version": "1.5.0",
            "_model_name": "HBoxModel",
            "_view_count": null,
            "_view_module": "@jupyter-widgets/controls",
            "_view_module_version": "1.5.0",
            "_view_name": "HBoxView",
            "box_style": "",
            "children": [
              "IPY_MODEL_b48f4223a749402d9c420063f8506d27",
              "IPY_MODEL_4d5311fb517844d4a4171e6e32d3b7fb",
              "IPY_MODEL_460a6ea098b84a889cbdfb72f92a076e"
            ],
            "layout": "IPY_MODEL_5a71e0241dc640e681fd334d5ff6fa4a"
          }
        },
        "b48f4223a749402d9c420063f8506d27": {
          "model_module": "@jupyter-widgets/controls",
          "model_name": "HTMLModel",
          "model_module_version": "1.5.0",
          "state": {
            "_dom_classes": [],
            "_model_module": "@jupyter-widgets/controls",
            "_model_module_version": "1.5.0",
            "_model_name": "HTMLModel",
            "_view_count": null,
            "_view_module": "@jupyter-widgets/controls",
            "_view_module_version": "1.5.0",
            "_view_name": "HTMLView",
            "description": "",
            "description_tooltip": null,
            "layout": "IPY_MODEL_ddd4f31b6a6e45b0a02ada28a0a5d749",
            "placeholder": "​",
            "style": "IPY_MODEL_16f77fb8d7bd48e383abf7a5f3d2c455",
            "value": "100%"
          }
        },
        "4d5311fb517844d4a4171e6e32d3b7fb": {
          "model_module": "@jupyter-widgets/controls",
          "model_name": "FloatProgressModel",
          "model_module_version": "1.5.0",
          "state": {
            "_dom_classes": [],
            "_model_module": "@jupyter-widgets/controls",
            "_model_module_version": "1.5.0",
            "_model_name": "FloatProgressModel",
            "_view_count": null,
            "_view_module": "@jupyter-widgets/controls",
            "_view_module_version": "1.5.0",
            "_view_name": "ProgressView",
            "bar_style": "success",
            "description": "",
            "description_tooltip": null,
            "layout": "IPY_MODEL_5ee2f58cf9664258ae76a4f66a5b0866",
            "max": 5,
            "min": 0,
            "orientation": "horizontal",
            "style": "IPY_MODEL_1508c60d2099416fa261cb0fe56f9966",
            "value": 5
          }
        },
        "460a6ea098b84a889cbdfb72f92a076e": {
          "model_module": "@jupyter-widgets/controls",
          "model_name": "HTMLModel",
          "model_module_version": "1.5.0",
          "state": {
            "_dom_classes": [],
            "_model_module": "@jupyter-widgets/controls",
            "_model_module_version": "1.5.0",
            "_model_name": "HTMLModel",
            "_view_count": null,
            "_view_module": "@jupyter-widgets/controls",
            "_view_module_version": "1.5.0",
            "_view_name": "HTMLView",
            "description": "",
            "description_tooltip": null,
            "layout": "IPY_MODEL_56dc258513ad4a2db4ac859764774bff",
            "placeholder": "​",
            "style": "IPY_MODEL_887ecd7e6879429290476ee769506c31",
            "value": " 5/5 [00:31&lt;00:00,  6.16s/it]"
          }
        },
        "5a71e0241dc640e681fd334d5ff6fa4a": {
          "model_module": "@jupyter-widgets/base",
          "model_name": "LayoutModel",
          "model_module_version": "1.2.0",
          "state": {
            "_model_module": "@jupyter-widgets/base",
            "_model_module_version": "1.2.0",
            "_model_name": "LayoutModel",
            "_view_count": null,
            "_view_module": "@jupyter-widgets/base",
            "_view_module_version": "1.2.0",
            "_view_name": "LayoutView",
            "align_content": null,
            "align_items": null,
            "align_self": null,
            "border": null,
            "bottom": null,
            "display": null,
            "flex": null,
            "flex_flow": null,
            "grid_area": null,
            "grid_auto_columns": null,
            "grid_auto_flow": null,
            "grid_auto_rows": null,
            "grid_column": null,
            "grid_gap": null,
            "grid_row": null,
            "grid_template_areas": null,
            "grid_template_columns": null,
            "grid_template_rows": null,
            "height": null,
            "justify_content": null,
            "justify_items": null,
            "left": null,
            "margin": null,
            "max_height": null,
            "max_width": null,
            "min_height": null,
            "min_width": null,
            "object_fit": null,
            "object_position": null,
            "order": null,
            "overflow": null,
            "overflow_x": null,
            "overflow_y": null,
            "padding": null,
            "right": null,
            "top": null,
            "visibility": null,
            "width": null
          }
        },
        "ddd4f31b6a6e45b0a02ada28a0a5d749": {
          "model_module": "@jupyter-widgets/base",
          "model_name": "LayoutModel",
          "model_module_version": "1.2.0",
          "state": {
            "_model_module": "@jupyter-widgets/base",
            "_model_module_version": "1.2.0",
            "_model_name": "LayoutModel",
            "_view_count": null,
            "_view_module": "@jupyter-widgets/base",
            "_view_module_version": "1.2.0",
            "_view_name": "LayoutView",
            "align_content": null,
            "align_items": null,
            "align_self": null,
            "border": null,
            "bottom": null,
            "display": null,
            "flex": null,
            "flex_flow": null,
            "grid_area": null,
            "grid_auto_columns": null,
            "grid_auto_flow": null,
            "grid_auto_rows": null,
            "grid_column": null,
            "grid_gap": null,
            "grid_row": null,
            "grid_template_areas": null,
            "grid_template_columns": null,
            "grid_template_rows": null,
            "height": null,
            "justify_content": null,
            "justify_items": null,
            "left": null,
            "margin": null,
            "max_height": null,
            "max_width": null,
            "min_height": null,
            "min_width": null,
            "object_fit": null,
            "object_position": null,
            "order": null,
            "overflow": null,
            "overflow_x": null,
            "overflow_y": null,
            "padding": null,
            "right": null,
            "top": null,
            "visibility": null,
            "width": null
          }
        },
        "16f77fb8d7bd48e383abf7a5f3d2c455": {
          "model_module": "@jupyter-widgets/controls",
          "model_name": "DescriptionStyleModel",
          "model_module_version": "1.5.0",
          "state": {
            "_model_module": "@jupyter-widgets/controls",
            "_model_module_version": "1.5.0",
            "_model_name": "DescriptionStyleModel",
            "_view_count": null,
            "_view_module": "@jupyter-widgets/base",
            "_view_module_version": "1.2.0",
            "_view_name": "StyleView",
            "description_width": ""
          }
        },
        "5ee2f58cf9664258ae76a4f66a5b0866": {
          "model_module": "@jupyter-widgets/base",
          "model_name": "LayoutModel",
          "model_module_version": "1.2.0",
          "state": {
            "_model_module": "@jupyter-widgets/base",
            "_model_module_version": "1.2.0",
            "_model_name": "LayoutModel",
            "_view_count": null,
            "_view_module": "@jupyter-widgets/base",
            "_view_module_version": "1.2.0",
            "_view_name": "LayoutView",
            "align_content": null,
            "align_items": null,
            "align_self": null,
            "border": null,
            "bottom": null,
            "display": null,
            "flex": null,
            "flex_flow": null,
            "grid_area": null,
            "grid_auto_columns": null,
            "grid_auto_flow": null,
            "grid_auto_rows": null,
            "grid_column": null,
            "grid_gap": null,
            "grid_row": null,
            "grid_template_areas": null,
            "grid_template_columns": null,
            "grid_template_rows": null,
            "height": null,
            "justify_content": null,
            "justify_items": null,
            "left": null,
            "margin": null,
            "max_height": null,
            "max_width": null,
            "min_height": null,
            "min_width": null,
            "object_fit": null,
            "object_position": null,
            "order": null,
            "overflow": null,
            "overflow_x": null,
            "overflow_y": null,
            "padding": null,
            "right": null,
            "top": null,
            "visibility": null,
            "width": null
          }
        },
        "1508c60d2099416fa261cb0fe56f9966": {
          "model_module": "@jupyter-widgets/controls",
          "model_name": "ProgressStyleModel",
          "model_module_version": "1.5.0",
          "state": {
            "_model_module": "@jupyter-widgets/controls",
            "_model_module_version": "1.5.0",
            "_model_name": "ProgressStyleModel",
            "_view_count": null,
            "_view_module": "@jupyter-widgets/base",
            "_view_module_version": "1.2.0",
            "_view_name": "StyleView",
            "bar_color": null,
            "description_width": ""
          }
        },
        "56dc258513ad4a2db4ac859764774bff": {
          "model_module": "@jupyter-widgets/base",
          "model_name": "LayoutModel",
          "model_module_version": "1.2.0",
          "state": {
            "_model_module": "@jupyter-widgets/base",
            "_model_module_version": "1.2.0",
            "_model_name": "LayoutModel",
            "_view_count": null,
            "_view_module": "@jupyter-widgets/base",
            "_view_module_version": "1.2.0",
            "_view_name": "LayoutView",
            "align_content": null,
            "align_items": null,
            "align_self": null,
            "border": null,
            "bottom": null,
            "display": null,
            "flex": null,
            "flex_flow": null,
            "grid_area": null,
            "grid_auto_columns": null,
            "grid_auto_flow": null,
            "grid_auto_rows": null,
            "grid_column": null,
            "grid_gap": null,
            "grid_row": null,
            "grid_template_areas": null,
            "grid_template_columns": null,
            "grid_template_rows": null,
            "height": null,
            "justify_content": null,
            "justify_items": null,
            "left": null,
            "margin": null,
            "max_height": null,
            "max_width": null,
            "min_height": null,
            "min_width": null,
            "object_fit": null,
            "object_position": null,
            "order": null,
            "overflow": null,
            "overflow_x": null,
            "overflow_y": null,
            "padding": null,
            "right": null,
            "top": null,
            "visibility": null,
            "width": null
          }
        },
        "887ecd7e6879429290476ee769506c31": {
          "model_module": "@jupyter-widgets/controls",
          "model_name": "DescriptionStyleModel",
          "model_module_version": "1.5.0",
          "state": {
            "_model_module": "@jupyter-widgets/controls",
            "_model_module_version": "1.5.0",
            "_model_name": "DescriptionStyleModel",
            "_view_count": null,
            "_view_module": "@jupyter-widgets/base",
            "_view_module_version": "1.2.0",
            "_view_name": "StyleView",
            "description_width": ""
          }
        }
      }
    }
  },
  "cells": [
    {
      "cell_type": "markdown",
      "source": [
        "# Medical Abstract Classification with Federated Learning\n",
        "\n",
        "\n"
      ],
      "metadata": {
        "id": "ZPvdZz1EsfGz"
      }
    },
    {
      "cell_type": "markdown",
      "source": [
        "This is federated learning course project code. We are going to work with medical text abstracts describing medical conditions."
      ],
      "metadata": {
        "id": "vfbgHHi6WdRi"
      }
    },
    {
      "cell_type": "code",
      "source": [
        "import numpy as np\n",
        "import pandas as pd\n",
        "from sklearn.model_selection import train_test_split\n",
        "from sklearn.metrics import f1_score, log_loss\n",
        "import networkx as nx\n",
        "import torch\n",
        "from tqdm.auto import tqdm\n",
        "from transformers import AutoModel, AutoTokenizer"
      ],
      "metadata": {
        "id": "MiGHm1lGspmg"
      },
      "execution_count": 13,
      "outputs": []
    },
    {
      "cell_type": "code",
      "execution_count": 14,
      "metadata": {
        "id": "rQxE6gPDr__0"
      },
      "outputs": [],
      "source": [
        "df_train = pd.read_csv('https://raw.githubusercontent.com/sebischair/Medical-Abstracts-TC-Corpus/main/medical_tc_train.csv')\n",
        "df_test = pd.read_csv('https://raw.githubusercontent.com/sebischair/Medical-Abstracts-TC-Corpus/main/medical_tc_test.csv')"
      ]
    },
    {
      "cell_type": "code",
      "source": [
        "df_train = df_train[df_train['condition_label'].isin([1, 2])].sample(2000, random_state=15)\n",
        "df_test = df_test[df_test['condition_label'].isin([1, 2])].sample(100, random_state=15)"
      ],
      "metadata": {
        "id": "0wQgn3I2I0pZ"
      },
      "execution_count": 15,
      "outputs": []
    },
    {
      "cell_type": "code",
      "source": [
        "df_train.replace({2:0}, inplace=True)\n",
        "df_test.replace({2:0}, inplace=True)"
      ],
      "metadata": {
        "id": "d9LPcKi-JS64"
      },
      "execution_count": 16,
      "outputs": []
    },
    {
      "cell_type": "code",
      "source": [
        "df_train.head()"
      ],
      "metadata": {
        "colab": {
          "base_uri": "https://localhost:8080/",
          "height": 206
        },
        "id": "_P5UwL4rXAG4",
        "outputId": "b8c8b5fd-b994-463e-8a13-8efbb2136be9"
      },
      "execution_count": 17,
      "outputs": [
        {
          "output_type": "execute_result",
          "data": {
            "text/plain": [
              "      condition_label                                   medical_abstract\n",
              "8456                1  Partial duplication of the face: case report a...\n",
              "2831                1  The t(1;19)(q23;p13) results in consistent fus...\n",
              "1784                1  Retroviral transduction of protein kinase C-ga...\n",
              "9307                1  Vascular abnormalities in epidermal nevus synd...\n",
              "8875                1  Skull base malignancy following long-term sinu..."
            ],
            "text/html": [
              "\n",
              "  <div id=\"df-6ba8b38e-33ae-4678-ae7c-a6f62431310a\" class=\"colab-df-container\">\n",
              "    <div>\n",
              "<style scoped>\n",
              "    .dataframe tbody tr th:only-of-type {\n",
              "        vertical-align: middle;\n",
              "    }\n",
              "\n",
              "    .dataframe tbody tr th {\n",
              "        vertical-align: top;\n",
              "    }\n",
              "\n",
              "    .dataframe thead th {\n",
              "        text-align: right;\n",
              "    }\n",
              "</style>\n",
              "<table border=\"1\" class=\"dataframe\">\n",
              "  <thead>\n",
              "    <tr style=\"text-align: right;\">\n",
              "      <th></th>\n",
              "      <th>condition_label</th>\n",
              "      <th>medical_abstract</th>\n",
              "    </tr>\n",
              "  </thead>\n",
              "  <tbody>\n",
              "    <tr>\n",
              "      <th>8456</th>\n",
              "      <td>1</td>\n",
              "      <td>Partial duplication of the face: case report a...</td>\n",
              "    </tr>\n",
              "    <tr>\n",
              "      <th>2831</th>\n",
              "      <td>1</td>\n",
              "      <td>The t(1;19)(q23;p13) results in consistent fus...</td>\n",
              "    </tr>\n",
              "    <tr>\n",
              "      <th>1784</th>\n",
              "      <td>1</td>\n",
              "      <td>Retroviral transduction of protein kinase C-ga...</td>\n",
              "    </tr>\n",
              "    <tr>\n",
              "      <th>9307</th>\n",
              "      <td>1</td>\n",
              "      <td>Vascular abnormalities in epidermal nevus synd...</td>\n",
              "    </tr>\n",
              "    <tr>\n",
              "      <th>8875</th>\n",
              "      <td>1</td>\n",
              "      <td>Skull base malignancy following long-term sinu...</td>\n",
              "    </tr>\n",
              "  </tbody>\n",
              "</table>\n",
              "</div>\n",
              "    <div class=\"colab-df-buttons\">\n",
              "\n",
              "  <div class=\"colab-df-container\">\n",
              "    <button class=\"colab-df-convert\" onclick=\"convertToInteractive('df-6ba8b38e-33ae-4678-ae7c-a6f62431310a')\"\n",
              "            title=\"Convert this dataframe to an interactive table.\"\n",
              "            style=\"display:none;\">\n",
              "\n",
              "  <svg xmlns=\"http://www.w3.org/2000/svg\" height=\"24px\" viewBox=\"0 -960 960 960\">\n",
              "    <path d=\"M120-120v-720h720v720H120Zm60-500h600v-160H180v160Zm220 220h160v-160H400v160Zm0 220h160v-160H400v160ZM180-400h160v-160H180v160Zm440 0h160v-160H620v160ZM180-180h160v-160H180v160Zm440 0h160v-160H620v160Z\"/>\n",
              "  </svg>\n",
              "    </button>\n",
              "\n",
              "  <style>\n",
              "    .colab-df-container {\n",
              "      display:flex;\n",
              "      gap: 12px;\n",
              "    }\n",
              "\n",
              "    .colab-df-convert {\n",
              "      background-color: #E8F0FE;\n",
              "      border: none;\n",
              "      border-radius: 50%;\n",
              "      cursor: pointer;\n",
              "      display: none;\n",
              "      fill: #1967D2;\n",
              "      height: 32px;\n",
              "      padding: 0 0 0 0;\n",
              "      width: 32px;\n",
              "    }\n",
              "\n",
              "    .colab-df-convert:hover {\n",
              "      background-color: #E2EBFA;\n",
              "      box-shadow: 0px 1px 2px rgba(60, 64, 67, 0.3), 0px 1px 3px 1px rgba(60, 64, 67, 0.15);\n",
              "      fill: #174EA6;\n",
              "    }\n",
              "\n",
              "    .colab-df-buttons div {\n",
              "      margin-bottom: 4px;\n",
              "    }\n",
              "\n",
              "    [theme=dark] .colab-df-convert {\n",
              "      background-color: #3B4455;\n",
              "      fill: #D2E3FC;\n",
              "    }\n",
              "\n",
              "    [theme=dark] .colab-df-convert:hover {\n",
              "      background-color: #434B5C;\n",
              "      box-shadow: 0px 1px 3px 1px rgba(0, 0, 0, 0.15);\n",
              "      filter: drop-shadow(0px 1px 2px rgba(0, 0, 0, 0.3));\n",
              "      fill: #FFFFFF;\n",
              "    }\n",
              "  </style>\n",
              "\n",
              "    <script>\n",
              "      const buttonEl =\n",
              "        document.querySelector('#df-6ba8b38e-33ae-4678-ae7c-a6f62431310a button.colab-df-convert');\n",
              "      buttonEl.style.display =\n",
              "        google.colab.kernel.accessAllowed ? 'block' : 'none';\n",
              "\n",
              "      async function convertToInteractive(key) {\n",
              "        const element = document.querySelector('#df-6ba8b38e-33ae-4678-ae7c-a6f62431310a');\n",
              "        const dataTable =\n",
              "          await google.colab.kernel.invokeFunction('convertToInteractive',\n",
              "                                                    [key], {});\n",
              "        if (!dataTable) return;\n",
              "\n",
              "        const docLinkHtml = 'Like what you see? Visit the ' +\n",
              "          '<a target=\"_blank\" href=https://colab.research.google.com/notebooks/data_table.ipynb>data table notebook</a>'\n",
              "          + ' to learn more about interactive tables.';\n",
              "        element.innerHTML = '';\n",
              "        dataTable['output_type'] = 'display_data';\n",
              "        await google.colab.output.renderOutput(dataTable, element);\n",
              "        const docLink = document.createElement('div');\n",
              "        docLink.innerHTML = docLinkHtml;\n",
              "        element.appendChild(docLink);\n",
              "      }\n",
              "    </script>\n",
              "  </div>\n",
              "\n",
              "\n",
              "<div id=\"df-24f8e023-d2cb-4faf-b1b8-edc8f4dffa22\">\n",
              "  <button class=\"colab-df-quickchart\" onclick=\"quickchart('df-24f8e023-d2cb-4faf-b1b8-edc8f4dffa22')\"\n",
              "            title=\"Suggest charts\"\n",
              "            style=\"display:none;\">\n",
              "\n",
              "<svg xmlns=\"http://www.w3.org/2000/svg\" height=\"24px\"viewBox=\"0 0 24 24\"\n",
              "     width=\"24px\">\n",
              "    <g>\n",
              "        <path d=\"M19 3H5c-1.1 0-2 .9-2 2v14c0 1.1.9 2 2 2h14c1.1 0 2-.9 2-2V5c0-1.1-.9-2-2-2zM9 17H7v-7h2v7zm4 0h-2V7h2v10zm4 0h-2v-4h2v4z\"/>\n",
              "    </g>\n",
              "</svg>\n",
              "  </button>\n",
              "\n",
              "<style>\n",
              "  .colab-df-quickchart {\n",
              "      --bg-color: #E8F0FE;\n",
              "      --fill-color: #1967D2;\n",
              "      --hover-bg-color: #E2EBFA;\n",
              "      --hover-fill-color: #174EA6;\n",
              "      --disabled-fill-color: #AAA;\n",
              "      --disabled-bg-color: #DDD;\n",
              "  }\n",
              "\n",
              "  [theme=dark] .colab-df-quickchart {\n",
              "      --bg-color: #3B4455;\n",
              "      --fill-color: #D2E3FC;\n",
              "      --hover-bg-color: #434B5C;\n",
              "      --hover-fill-color: #FFFFFF;\n",
              "      --disabled-bg-color: #3B4455;\n",
              "      --disabled-fill-color: #666;\n",
              "  }\n",
              "\n",
              "  .colab-df-quickchart {\n",
              "    background-color: var(--bg-color);\n",
              "    border: none;\n",
              "    border-radius: 50%;\n",
              "    cursor: pointer;\n",
              "    display: none;\n",
              "    fill: var(--fill-color);\n",
              "    height: 32px;\n",
              "    padding: 0;\n",
              "    width: 32px;\n",
              "  }\n",
              "\n",
              "  .colab-df-quickchart:hover {\n",
              "    background-color: var(--hover-bg-color);\n",
              "    box-shadow: 0 1px 2px rgba(60, 64, 67, 0.3), 0 1px 3px 1px rgba(60, 64, 67, 0.15);\n",
              "    fill: var(--button-hover-fill-color);\n",
              "  }\n",
              "\n",
              "  .colab-df-quickchart-complete:disabled,\n",
              "  .colab-df-quickchart-complete:disabled:hover {\n",
              "    background-color: var(--disabled-bg-color);\n",
              "    fill: var(--disabled-fill-color);\n",
              "    box-shadow: none;\n",
              "  }\n",
              "\n",
              "  .colab-df-spinner {\n",
              "    border: 2px solid var(--fill-color);\n",
              "    border-color: transparent;\n",
              "    border-bottom-color: var(--fill-color);\n",
              "    animation:\n",
              "      spin 1s steps(1) infinite;\n",
              "  }\n",
              "\n",
              "  @keyframes spin {\n",
              "    0% {\n",
              "      border-color: transparent;\n",
              "      border-bottom-color: var(--fill-color);\n",
              "      border-left-color: var(--fill-color);\n",
              "    }\n",
              "    20% {\n",
              "      border-color: transparent;\n",
              "      border-left-color: var(--fill-color);\n",
              "      border-top-color: var(--fill-color);\n",
              "    }\n",
              "    30% {\n",
              "      border-color: transparent;\n",
              "      border-left-color: var(--fill-color);\n",
              "      border-top-color: var(--fill-color);\n",
              "      border-right-color: var(--fill-color);\n",
              "    }\n",
              "    40% {\n",
              "      border-color: transparent;\n",
              "      border-right-color: var(--fill-color);\n",
              "      border-top-color: var(--fill-color);\n",
              "    }\n",
              "    60% {\n",
              "      border-color: transparent;\n",
              "      border-right-color: var(--fill-color);\n",
              "    }\n",
              "    80% {\n",
              "      border-color: transparent;\n",
              "      border-right-color: var(--fill-color);\n",
              "      border-bottom-color: var(--fill-color);\n",
              "    }\n",
              "    90% {\n",
              "      border-color: transparent;\n",
              "      border-bottom-color: var(--fill-color);\n",
              "    }\n",
              "  }\n",
              "</style>\n",
              "\n",
              "  <script>\n",
              "    async function quickchart(key) {\n",
              "      const quickchartButtonEl =\n",
              "        document.querySelector('#' + key + ' button');\n",
              "      quickchartButtonEl.disabled = true;  // To prevent multiple clicks.\n",
              "      quickchartButtonEl.classList.add('colab-df-spinner');\n",
              "      try {\n",
              "        const charts = await google.colab.kernel.invokeFunction(\n",
              "            'suggestCharts', [key], {});\n",
              "      } catch (error) {\n",
              "        console.error('Error during call to suggestCharts:', error);\n",
              "      }\n",
              "      quickchartButtonEl.classList.remove('colab-df-spinner');\n",
              "      quickchartButtonEl.classList.add('colab-df-quickchart-complete');\n",
              "    }\n",
              "    (() => {\n",
              "      let quickchartButtonEl =\n",
              "        document.querySelector('#df-24f8e023-d2cb-4faf-b1b8-edc8f4dffa22 button');\n",
              "      quickchartButtonEl.style.display =\n",
              "        google.colab.kernel.accessAllowed ? 'block' : 'none';\n",
              "    })();\n",
              "  </script>\n",
              "</div>\n",
              "    </div>\n",
              "  </div>\n"
            ],
            "application/vnd.google.colaboratory.intrinsic+json": {
              "type": "dataframe",
              "variable_name": "df_train",
              "summary": "{\n  \"name\": \"df_train\",\n  \"rows\": 2000,\n  \"fields\": [\n    {\n      \"column\": \"condition_label\",\n      \"properties\": {\n        \"dtype\": \"number\",\n        \"std\": 0,\n        \"min\": 0,\n        \"max\": 1,\n        \"num_unique_values\": 2,\n        \"samples\": [\n          0,\n          1\n        ],\n        \"semantic_type\": \"\",\n        \"description\": \"\"\n      }\n    },\n    {\n      \"column\": \"medical_abstract\",\n      \"properties\": {\n        \"dtype\": \"string\",\n        \"num_unique_values\": 1965,\n        \"samples\": [\n          \"Evaluation of WC3 rotavirus vaccine and correlates of protection in healthy infants. The safety, immunogenicity, and efficacy of WC3 rotavirus vaccine was evaluated in a double-blind, placebo-controlled trial of healthy infants 2-12 months of age; 103 received one dose of vaccine and 103 received placebo. Vaccination appeared to be safe and induced an antibody response (WC3 neutralizing antibody) in 97% of vaccinees. Only 9 (9%) of these, however, produced antibody to human rotavirus serotypes; at least 7 of the 9 were naturally infected before vaccination. Neither the number of symptomatic episodes of rotavirus diarrhea (21 vs 25) nor the number of moderate to severe rotavirus illnesses (9 vs. 15) was significantly different in vaccine or placebo recipients, respectively, during a predominantly serotype 1 rotavirus season. A slight but significant decrease in mean symptom score was detected in vaccine recipients. Despite an overall lack of efficacy, protection could be correlated to previous rotavirus infection, high levels of WC3 neutralizing antibody, and preexisting (maternal) serotype 1 neutralizing antibody with a titer greater than or equal to 30. \",\n          \"Management of selected cystic adnexal masses in postmenopausal women by operative laparoscopy: a pilot study. Twenty-five postmenopausal patients were predicted to have benign masses by screening criteria that included ultrasonographic findings of a cystic adnexal mass less than 10 cm with distinct borders and no evidence of irregular solid parts, thick septa, ascites, or matted bowel, and a normal serum CA 125 value (less than 35 U/ml). All 25 masses were accurately predicted to be benign. The size of the cysts on ultrasonography ranged from 3 to 9 cm with a mean of 5 cm. Twenty-two patients (88%) were successfully managed by operative laparoscopy and adnexectomy. Mean operative time was 70 minutes and mean postoperative hospital stay was 12 hours. Mean time of return to normal activity was 5 days. Three patients required laparotomy. We conclude that removal of these cystic adnexal masses by operative laparoscopy is an acceptable alternative in carefully selected postmenopausal women. \"\n        ],\n        \"semantic_type\": \"\",\n        \"description\": \"\"\n      }\n    }\n  ]\n}"
            }
          },
          "metadata": {},
          "execution_count": 17
        }
      ]
    },
    {
      "cell_type": "markdown",
      "source": [
        "Let's see how one sample document looks like"
      ],
      "metadata": {
        "id": "5NqoWipXXXVo"
      }
    },
    {
      "cell_type": "code",
      "source": [
        "df_train.iloc[0].medical_abstract"
      ],
      "metadata": {
        "colab": {
          "base_uri": "https://localhost:8080/",
          "height": 139
        },
        "id": "hKYsE-QHXC8r",
        "outputId": "6f047f0b-2040-40fd-c0ac-9587c0aa5876"
      },
      "execution_count": 18,
      "outputs": [
        {
          "output_type": "execute_result",
          "data": {
            "text/plain": [
              "'Partial duplication of the face: case report and review. Complete or partial facial duplication is a rare congenital malformation. A spectrum of structural abnormalities varying in degrees of severity has been described in affected individuals. We present discordance for facial duplication between monozygotic twins in which maxillary and mandibular duplication was present in one. The involved twin showed the following findings: ocular hypertelorism, bifidity of the nose, duplication of the maxilla, macrostomia, cleft of the lower lip, hamartoma of the vomer, supernumerary teeth, duplication of the mandibular teeth, bifidity of the tongue, and hamartoma of the floor of the mouth. Surgical management of the facial anomalies is discussed. A review of the literature and discussion of this rare malformation are presented. '"
            ],
            "application/vnd.google.colaboratory.intrinsic+json": {
              "type": "string"
            }
          },
          "metadata": {},
          "execution_count": 18
        }
      ]
    },
    {
      "cell_type": "markdown",
      "source": [
        "Now let's calculate train and test statistics"
      ],
      "metadata": {
        "id": "XBfqz5__XkV6"
      }
    },
    {
      "cell_type": "code",
      "source": [
        "df_train['condition_label'].value_counts()"
      ],
      "metadata": {
        "id": "xz8rbmSzS7Mg",
        "colab": {
          "base_uri": "https://localhost:8080/"
        },
        "outputId": "713537e9-9702-45fd-c7b6-ddd9136d290b"
      },
      "execution_count": 19,
      "outputs": [
        {
          "output_type": "execute_result",
          "data": {
            "text/plain": [
              "condition_label\n",
              "1    1354\n",
              "0     646\n",
              "Name: count, dtype: int64"
            ]
          },
          "metadata": {},
          "execution_count": 19
        }
      ]
    },
    {
      "cell_type": "code",
      "source": [
        "df_test['condition_label'].value_counts()"
      ],
      "metadata": {
        "id": "FneH1NhxVp2n",
        "colab": {
          "base_uri": "https://localhost:8080/"
        },
        "outputId": "5cbddec2-c98b-42cc-bcaf-792705587a1f"
      },
      "execution_count": 20,
      "outputs": [
        {
          "output_type": "execute_result",
          "data": {
            "text/plain": [
              "condition_label\n",
              "1    69\n",
              "0    31\n",
              "Name: count, dtype: int64"
            ]
          },
          "metadata": {},
          "execution_count": 20
        }
      ]
    },
    {
      "cell_type": "code",
      "source": [
        "train_values = df_train.values\n",
        "train_local = np.array_split(train_values, 5)\n",
        "test_values = df_test.values"
      ],
      "metadata": {
        "id": "XLLKwlDG45yW"
      },
      "execution_count": 21,
      "outputs": []
    },
    {
      "cell_type": "markdown",
      "source": [
        "## Helper functions"
      ],
      "metadata": {
        "id": "AdmMkVRr7O_R"
      }
    },
    {
      "cell_type": "code",
      "source": [
        "def extract_features(text):\n",
        "    # The function takes text as an input and transforms it\n",
        "    # into dense feature vector by applying transformer model.\n",
        "    # It returns pooled output.\n",
        "    features = tokenizer.encode_plus(\n",
        "                                      text,\n",
        "                                      add_special_tokens=True,\n",
        "                                      max_length=512,\n",
        "                                      truncation=True,\n",
        "                                      return_tensors='pt',\n",
        "                                      return_attention_mask=True\n",
        "                                      )\n",
        "    with torch.no_grad():\n",
        "        outputs = model(features['input_ids'], features['attention_mask'])\n",
        "    pooler_output = outputs[1]\n",
        "    return pooler_output.detach().numpy()"
      ],
      "metadata": {
        "id": "sAEjynWu7JuU"
      },
      "execution_count": 22,
      "outputs": []
    },
    {
      "cell_type": "code",
      "source": [
        "def transform_data(dataset):\n",
        "    # The function transforms labels and features into needed format\n",
        "    labels = [i[0] for i in dataset]\n",
        "    features = [extract_features(i[1])[0] for i in dataset]\n",
        "    return np.array(features), np.array(labels).reshape((-1, 1))"
      ],
      "metadata": {
        "id": "ckrbpdbd8xDg"
      },
      "execution_count": 23,
      "outputs": []
    },
    {
      "cell_type": "markdown",
      "source": [
        "## FedSGD"
      ],
      "metadata": {
        "id": "BjeM8o3wu-xl"
      }
    },
    {
      "cell_type": "code",
      "source": [
        "def sigmoid(a):\n",
        "    return 1.0 / (1 + np.exp(-a))\n",
        "\n",
        "def train_FedSGD(max_iter = 1000, alpha = 0.5, l_rate = 0.01, batch_size = 10):\n",
        "    for i in range(max_iter):\n",
        "        # Iterate over all nodes.\n",
        "        for current_node in G_FMI.nodes:\n",
        "\n",
        "            # Extract the training data from the current node.\n",
        "            X_train = G_FMI.nodes[current_node]['X_train']\n",
        "            y_train = G_FMI.nodes[current_node]['y_train']\n",
        "            w_current = G_FMI.nodes[current_node]['weights']\n",
        "            training_size = len(y_train)\n",
        "\n",
        "            # Compute the first term of the Equation 5.11.\n",
        "\n",
        "            curr_batch_start = G_FMI.nodes[current_node]['curr_batch_start']\n",
        "\n",
        "            # Get the batched features and labels\n",
        "            X_train_batch = X_train[curr_batch_start:(curr_batch_start+batch_size)]\n",
        "            y_train_batch = y_train[curr_batch_start:(curr_batch_start+batch_size)]\n",
        "\n",
        "            # update batch start for the next iteration\n",
        "            curr_batch_start = curr_batch_start + batch_size\n",
        "            # check if batch start would be outside the training set\n",
        "            if curr_batch_start >= training_size:\n",
        "                curr_batch_start = 0  # if next batch exceeds training set size start over from first datapoint\n",
        "            G_FMI.nodes[current_node]['curr_batch_start']= curr_batch_start\n",
        "\n",
        "            # logistic regression step\n",
        "            term_1 = (1/batch_size) * X_train_batch.T.dot(y_train_batch - sigmoid(X_train_batch.dot(w_current)))\n",
        "\n",
        "\n",
        "            term_2 = 0\n",
        "            neighbors = list(G_FMI.neighbors(current_node))\n",
        "            for neighbor in neighbors:\n",
        "                w_neighbor = G_FMI.nodes[neighbor]['weights']\n",
        "                term_2 += w_neighbor - w_current\n",
        "            term_2 *= 2*alpha\n",
        "            # Equation 5.11\n",
        "            w_updated = w_current + l_rate * (term_1 + term_2)\n",
        "\n",
        "            # Update the current weight vector but do not overwrite the\n",
        "            # \"weights\" attribute as we need to do all updates synchronously, i.e.,\n",
        "            # using the previous local params\n",
        "\n",
        "            G_FMI.nodes[current_node]['newweights'] = w_updated\n",
        "\n",
        "        # after computing the new localparmas for each node, we now update\n",
        "        # the node attribute 'weights' for all nodes\n",
        "        for node_id in G_FMI.nodes:\n",
        "            G_FMI.nodes[node_id]['weights'] = G_FMI.nodes[node_id]['newweights']"
      ],
      "metadata": {
        "id": "ws_Y5oVZvA6M"
      },
      "execution_count": 24,
      "outputs": []
    },
    {
      "cell_type": "markdown",
      "source": [
        "## FedAvg"
      ],
      "metadata": {
        "id": "k0EwHriQWVkf"
      }
    },
    {
      "cell_type": "code",
      "source": [
        "def train_FedAVG(max_iter = 1000, l_rate = 0.01, batch_size = 10):\n",
        "    for i in range(max_iter):\n",
        "        # Iterate over all nodes.\n",
        "        for current_node in G_FMI.nodes:\n",
        "\n",
        "            # Extract the training data from the current node.\n",
        "            X_train = G_FMI.nodes[current_node]['X_train']\n",
        "            y_train = G_FMI.nodes[current_node]['y_train']\n",
        "            w_current = G_FMI.nodes[current_node]['weights']\n",
        "            training_size = len(y_train)\n",
        "\n",
        "            curr_batch_start = G_FMI.nodes[current_node]['curr_batch_start']\n",
        "\n",
        "            # Get the batched features and labels\n",
        "            X_train_batch = X_train[curr_batch_start:(curr_batch_start+batch_size)]\n",
        "            y_train_batch = y_train[curr_batch_start:(curr_batch_start+batch_size)]\n",
        "\n",
        "            # update batch start for the next iteration\n",
        "            curr_batch_start = curr_batch_start + batch_size\n",
        "            # check if batch start would be outside the training set\n",
        "            if curr_batch_start >= training_size:\n",
        "                curr_batch_start = 0  # if next batch exceeds training set size start over from first datapoint\n",
        "            G_FMI.nodes[current_node]['curr_batch_start']= curr_batch_start\n",
        "\n",
        "            term_1 = (1/batch_size) * X_train_batch.T.dot(y_train_batch - sigmoid(X_train_batch.dot(w_current)))\n",
        "            w_updated = w_current + l_rate * term_1\n",
        "\n",
        "            # Update the current weight vector but do not overwrite the\n",
        "            # \"weights\" attribute as we need to do all updates synchronously, i.e.,\n",
        "            # using the previous local params\n",
        "\n",
        "            G_FMI.nodes[current_node]['newweights'] = w_updated\n",
        "\n",
        "        # after computing the new localparmas for each node, we now update\n",
        "        # the node attribute 'weights' for all nodes as an averge\n",
        "        # of all weights of local models\n",
        "        main_model = np.zeros_like(G_FMI.nodes[current_node]['newweights'])\n",
        "        for node_id in G_FMI.nodes:\n",
        "            main_model += G_FMI.nodes[current_node]['newweights']\n",
        "        main_model /= 5\n",
        "        for node_id in G_FMI.nodes:\n",
        "            G_FMI.nodes[node_id]['weights'] = main_model.copy()"
      ],
      "metadata": {
        "id": "cNTEjlffWelH"
      },
      "execution_count": 25,
      "outputs": []
    },
    {
      "cell_type": "markdown",
      "source": [
        "## Evaluation Function"
      ],
      "metadata": {
        "id": "d7uJSP1-aha8"
      }
    },
    {
      "cell_type": "code",
      "source": [
        "def evaluate():\n",
        "    train_errors = np.zeros(5)\n",
        "    val_errors = np.zeros(5)\n",
        "    test_errors = np.zeros(5)\n",
        "\n",
        "    # Iterate over all nodes.\n",
        "    for station in G_FMI.nodes:\n",
        "        # Extract the data of the current node.\n",
        "        X_train = G_FMI.nodes[station]['X_train']\n",
        "        y_train = G_FMI.nodes[station]['y_train']\n",
        "        X_val = G_FMI.nodes[station]['X_val']\n",
        "        y_val = G_FMI.nodes[station]['y_val']\n",
        "        X_test = G_FMI.nodes[station]['X_test']\n",
        "        y_test = G_FMI.nodes[station]['y_test']\n",
        "        w = G_FMI.nodes[station]['weights']\n",
        "\n",
        "        # Compute and store the training and validation loss and test f-score.\n",
        "        train_errors[station] = log_loss(y_train, sigmoid(X_train.dot(w)))\n",
        "        val_errors[station] = log_loss(y_val, sigmoid(X_val.dot(w)))\n",
        "        test_errors[station] = f1_score(y_test, np.round(sigmoid(X_test.dot(w))))\n",
        "\n",
        "    # Output the average training and validation errors.\n",
        "    print(\"The average training log_loss:\", np.mean(train_errors))\n",
        "    print(\"The average validation log_loss:\", np.mean(val_errors))\n",
        "    print(\"The average test f1:\", np.mean(test_errors))\n",
        "    print(\"All models test f1:\", *test_errors)"
      ],
      "metadata": {
        "id": "u4Tk_oLeBjdI"
      },
      "execution_count": 26,
      "outputs": []
    },
    {
      "cell_type": "markdown",
      "source": [
        "## Experiments with feature extraction\n",
        "\n",
        "We will try out 3 methods of feature extraction:\n",
        "- BERT\n",
        "- BioBERT\n",
        "- Tf-Idf"
      ],
      "metadata": {
        "id": "hGWZ7CNMWu5C"
      }
    },
    {
      "cell_type": "markdown",
      "source": [
        "### BERT"
      ],
      "metadata": {
        "id": "tMHZHV95XA3k"
      }
    },
    {
      "cell_type": "code",
      "source": [
        "model = AutoModel.from_pretrained(\"prajjwal1/bert-tiny\")\n",
        "tokenizer = AutoTokenizer.from_pretrained(\"prajjwal1/bert-tiny\")"
      ],
      "metadata": {
        "id": "4St--mQaV6Ks",
        "colab": {
          "base_uri": "https://localhost:8080/"
        },
        "outputId": "a76ef768-6c13-49fe-c1d7-2753a259df85"
      },
      "execution_count": 27,
      "outputs": [
        {
          "output_type": "stream",
          "name": "stderr",
          "text": [
            "/usr/local/lib/python3.10/dist-packages/huggingface_hub/file_download.py:1132: FutureWarning: `resume_download` is deprecated and will be removed in version 1.0.0. Downloads always resume when possible. If you want to force a new download, use `force_download=True`.\n",
            "  warnings.warn(\n"
          ]
        }
      ]
    },
    {
      "cell_type": "code",
      "source": [
        "# Create a networkX graph\n",
        "G_FMI = nx.Graph()\n",
        "\n",
        "# Add a one node per station\n",
        "G_FMI.add_nodes_from(range(0, 5))\n",
        "\n",
        "X_test, y_test = transform_data(test_values)\n",
        "\n",
        "for i, train_local_data in tqdm(enumerate(train_local), total=5):\n",
        "    # Extract data of a certain station\n",
        "    # Extract features and labels, do train and validation split\n",
        "    train, val = train_test_split(train_local_data, test_size=0.3, random_state=42)\n",
        "    X_train, y_train = transform_data(train)\n",
        "    X_val, y_val = transform_data(val)\n",
        "\n",
        "    G_FMI.nodes[i]['id'] = i # The name of the i-th weather station\n",
        "    G_FMI.nodes[i]['X_train'] = X_train # The feature matrix for local dataset at node i\n",
        "    G_FMI.nodes[i]['y_train'] = y_train  # The label vector for local dataset at node i\n",
        "    G_FMI.nodes[i]['X_val'] = X_val # The feature matrix for local val dataset at node i\n",
        "    G_FMI.nodes[i]['y_val'] = y_val  # The label vector for local val dataset at node i\n",
        "    G_FMI.nodes[i]['X_test'] = X_test\n",
        "    G_FMI.nodes[i]['y_test'] = y_test"
      ],
      "metadata": {
        "colab": {
          "base_uri": "https://localhost:8080/",
          "height": 49,
          "referenced_widgets": [
            "c51ffbdf5a0543638e4ba39b684c4ec8",
            "3d1e4f2e772b42fd9baa15c84d9ac52c",
            "350f1cd3ecb44477b6e87cf96dd47123",
            "efab04760a784fc9b94eb74bc86b8f21",
            "43ca528461a04a039291bf57314c9ffc",
            "18e05a4eb1cf471788d3c3ce4befa34e",
            "5ad55d7b99ee406199e2adc6d1bd616d",
            "a91057be522f45eb98db61df95b6a781",
            "f79ba6e96afd436cbaa2de0dc257420e",
            "5b969a9f26cd45448c6a6dbf445a12da",
            "0cd0823d944a492ebd6ff43725b0bbfc"
          ]
        },
        "id": "f3qRBHj9amE9",
        "outputId": "3fa8476c-8285-4342-9ee8-d34433158261"
      },
      "execution_count": 28,
      "outputs": [
        {
          "output_type": "display_data",
          "data": {
            "text/plain": [
              "  0%|          | 0/5 [00:00<?, ?it/s]"
            ],
            "application/vnd.jupyter.widget-view+json": {
              "version_major": 2,
              "version_minor": 0,
              "model_id": "c51ffbdf5a0543638e4ba39b684c4ec8"
            }
          },
          "metadata": {}
        }
      ]
    },
    {
      "cell_type": "markdown",
      "source": [
        "**FedSGD**"
      ],
      "metadata": {
        "id": "ghV9adF4XEgD"
      }
    },
    {
      "cell_type": "code",
      "source": [
        "for a in [0.01, 0.1, 0.5, 0.7]:\n",
        "    for station in G_FMI.nodes:\n",
        "      G_FMI.nodes[station]['weights'] = np.zeros((G_FMI.nodes[station]['X_train'].shape[1], 1))   #\n",
        "      G_FMI.nodes[station]['curr_batch_start'] = 0\n",
        "    train_FedSGD(l_rate=a)\n",
        "    evaluate()"
      ],
      "metadata": {
        "id": "A4lOAm4esrhB",
        "colab": {
          "base_uri": "https://localhost:8080/"
        },
        "outputId": "38e39ee5-eb72-4f8f-9696-4dc66c02cfda"
      },
      "execution_count": 29,
      "outputs": [
        {
          "output_type": "stream",
          "name": "stdout",
          "text": [
            "The average training log_loss: 0.5189232043386116\n",
            "The average validation log_loss: 0.5528011467957029\n",
            "The average test f1: 0.8300834078306101\n",
            "All models test f1: 0.8214285714285715 0.8322981366459627 0.8271604938271604 0.8481012658227848 0.8214285714285715\n",
            "The average training log_loss: 0.40154644052332233\n",
            "The average validation log_loss: 0.48334551497450207\n",
            "The average test f1: 0.8243524634514596\n",
            "All models test f1: 0.8205128205128205 0.8211920529801324 0.8476821192052981 0.8104575163398693 0.821917808219178\n",
            "The average training log_loss: 0.4985683104117594\n",
            "The average validation log_loss: 0.7867600773096365\n",
            "The average test f1: 0.8075142538177941\n",
            "All models test f1: 0.7947019867549668 0.7916666666666667 0.8057553956834532 0.8235294117647057 0.821917808219178\n",
            "The average training log_loss: 0.6331275123772286\n",
            "The average validation log_loss: 1.0821700245738264\n",
            "The average test f1: 0.8193935391476652\n",
            "All models test f1: 0.7973856209150327 0.8079470198675496 0.8260869565217391 0.8322147651006713 0.8333333333333333\n"
          ]
        }
      ]
    },
    {
      "cell_type": "markdown",
      "source": [
        "**FedAvg**"
      ],
      "metadata": {
        "id": "7C8NXbwTvBHi"
      }
    },
    {
      "cell_type": "code",
      "source": [
        "for a in [0.01, 0.1, 0.5, 0.7]:\n",
        "    for station in G_FMI.nodes:\n",
        "      G_FMI.nodes[station]['weights'] = np.zeros((G_FMI.nodes[station]['X_train'].shape[1], 1))   #\n",
        "      G_FMI.nodes[station]['curr_batch_start'] = 0\n",
        "    train_FedAVG(l_rate=a)\n",
        "    evaluate()"
      ],
      "metadata": {
        "id": "ykJHLu3stMm9",
        "colab": {
          "base_uri": "https://localhost:8080/"
        },
        "outputId": "0c4ca314-a896-4424-cce3-1ccc4bb94fe4"
      },
      "execution_count": 30,
      "outputs": [
        {
          "output_type": "stream",
          "name": "stdout",
          "text": [
            "The average training log_loss: 0.5570955559295798\n",
            "The average validation log_loss: 0.5563740507637048\n",
            "The average test f1: 0.8214285714285715\n",
            "All models test f1: 0.8214285714285715 0.8214285714285715 0.8214285714285715 0.8214285714285715 0.8214285714285715\n",
            "The average training log_loss: 0.4932410892931703\n",
            "The average validation log_loss: 0.4880978733430254\n",
            "The average test f1: 0.821917808219178\n",
            "All models test f1: 0.821917808219178 0.821917808219178 0.821917808219178 0.821917808219178 0.821917808219178\n",
            "The average training log_loss: 0.740916540985347\n",
            "The average validation log_loss: 0.7416597209156517\n",
            "The average test f1: 0.821917808219178\n",
            "All models test f1: 0.821917808219178 0.821917808219178 0.821917808219178 0.821917808219178 0.821917808219178\n",
            "The average training log_loss: 0.9213592526097394\n",
            "The average validation log_loss: 0.9279445912836792\n",
            "The average test f1: 0.8333333333333333\n",
            "All models test f1: 0.8333333333333333 0.8333333333333333 0.8333333333333333 0.8333333333333333 0.8333333333333333\n"
          ]
        }
      ]
    },
    {
      "cell_type": "markdown",
      "source": [
        "FedAvg and FedSGD perform similarly for this method"
      ],
      "metadata": {
        "id": "zeKj7oMzXNxo"
      }
    },
    {
      "cell_type": "markdown",
      "source": [
        "### BioBERT"
      ],
      "metadata": {
        "id": "H4g_WKL1uOci"
      }
    },
    {
      "cell_type": "code",
      "source": [
        "model = AutoModel.from_pretrained(\"nlpie/tiny-biobert\")\n",
        "tokenizer = AutoTokenizer.from_pretrained(\"nlpie/tiny-biobert\")"
      ],
      "metadata": {
        "id": "ZUSHVCj4uVNU",
        "colab": {
          "base_uri": "https://localhost:8080/",
          "height": 264,
          "referenced_widgets": [
            "1819233db6f34a7d9245c0f7d2d6d67b",
            "328d2c9391a04fde882435755ea951eb",
            "1040f29e1c6841daa04dead95c66a739",
            "94830ab29f5a44f1927a4f11108e3d1f",
            "fca61c9647a846138f5968ced5c8559a",
            "41f9a13ad8c74845bb9a3bba51dfb311",
            "8fe72102b6614e0ea7fb622362a5be71",
            "b23d900bb8d1402f90903fdb8d5182a1",
            "4093da88e887421c89e6089b7d7ce456",
            "07da8eaf0ff4473596a456a6337ba2f9",
            "3a613f8a55ba4b519fbb06aa3d10d3e2",
            "247504952c154c75b5c660c1744a90d6",
            "f9f7381d223f431db077a6908ef29a6f",
            "aeb9b3a229e14813a9944f6f03dad33b",
            "5bbac15ed9b8421e9cca984845e76e69",
            "cfdfe0cf7371420d9709d898ecaad2fe",
            "222f287b8731455d9309b32c479c9b7c",
            "5c9d2c9b24934b5689ef6f62e703834e",
            "6dcbb8dffd6740e6a441ace0021790ca",
            "b0df105613ae432a8b9aca57c3341476",
            "13361fa3fa7d4023beb6afb4be5a7910",
            "f492082f43f14584951dd8b667d498a9",
            "27e28257c4ec40aa94d3957629b39d08",
            "067edb458d1547daaf6f39f736903e91",
            "2fd245dea67e4a4da18e5d065161d215",
            "e885ab31c01b4df6afd4a7fe667e76e6",
            "ff70e1e1f06146d080b93540a1510323",
            "718df14f982e44d8a670a4022cb1b9f2",
            "960a1bd947e34362b8e4d4fe791c175d",
            "802bb1a160024d4c863af05138e35ff2",
            "890b5e40e5464c878ea0d45642624c03",
            "00646a308d784bb3af3883a1cab2b7bd",
            "b2a10699be8a4361bed933366ca0c2cf",
            "f87b28c992114c66976c467df28a346f",
            "30a9588ef0504bd1b1aa991e2bc60c30",
            "f0c59860345247bfbbe6da19a1531443",
            "9d8a5f39732e4ebbb30c96d35bbb72d1",
            "1f9501165cc54025b264df1a78bf3e40",
            "9f13ff5038c4482b862486a6c859ff8b",
            "c0b4ea63e3294bcf936afc4808201d6e",
            "1e9067ef162e45499568f8e9706754c1",
            "ae06f5efd6d948e28faea15594027d20",
            "6c32c8028e5a4a66a4715d2aa865ed42",
            "460ae39fece1420e9839abd7975d984a",
            "4be619f2eb604630b4429ce333e59e9c",
            "b38decde5beb4cd99e5fcb41d455382a",
            "590277fa9cef4108bbeb1d757d513243",
            "a0190c7bb7964529bc4c5b489f8410e2",
            "7b8f5d0424ab4501970b137a6d31260e",
            "b7757b6cca2743c7978398978f572228",
            "9a884f425bb84b94a273275b8b0cf76c",
            "a280452277e8450683cbbfae8d553fef",
            "334d2a4c8d044db1bcac566362151127",
            "b62ac2321a354889965448edce2b4c5e",
            "e9779e30c1ff481cb17529064d1caeac",
            "0b0b25470c154ecfb42afacc8e182301",
            "e6687a0f648a435ebb809e16e74141ec",
            "02cbdce5ae7a4437b402566d2e5b95dd",
            "177ef13572484505a7b18186b5e2f23c",
            "5c9c9ed3d04a4b45a4df93fc7395c4b0",
            "883ab7869e004e8899b99437df93fa97",
            "cc87c261573741e6ac63d8e7753017b6",
            "1a556e950175433097ada97226bea950",
            "d0c1899ca67b494ab818891ca1e5c0a0",
            "565b60cf2bdf4ca58aa654f7a673af58",
            "46af28b03f6b43ef8f7f6e269dfdc53a"
          ]
        },
        "outputId": "ed21ccff-29d3-4bfb-bb61-a7b41215b5c8"
      },
      "execution_count": 31,
      "outputs": [
        {
          "output_type": "display_data",
          "data": {
            "text/plain": [
              "config.json:   0%|          | 0.00/840 [00:00<?, ?B/s]"
            ],
            "application/vnd.jupyter.widget-view+json": {
              "version_major": 2,
              "version_minor": 0,
              "model_id": "1819233db6f34a7d9245c0f7d2d6d67b"
            }
          },
          "metadata": {}
        },
        {
          "output_type": "display_data",
          "data": {
            "text/plain": [
              "pytorch_model.bin:   0%|          | 0.00/55.6M [00:00<?, ?B/s]"
            ],
            "application/vnd.jupyter.widget-view+json": {
              "version_major": 2,
              "version_minor": 0,
              "model_id": "247504952c154c75b5c660c1744a90d6"
            }
          },
          "metadata": {}
        },
        {
          "output_type": "stream",
          "name": "stderr",
          "text": [
            "Some weights of BertModel were not initialized from the model checkpoint at nlpie/tiny-biobert and are newly initialized: ['bert.pooler.dense.bias', 'bert.pooler.dense.weight']\n",
            "You should probably TRAIN this model on a down-stream task to be able to use it for predictions and inference.\n"
          ]
        },
        {
          "output_type": "display_data",
          "data": {
            "text/plain": [
              "tokenizer_config.json:   0%|          | 0.00/320 [00:00<?, ?B/s]"
            ],
            "application/vnd.jupyter.widget-view+json": {
              "version_major": 2,
              "version_minor": 0,
              "model_id": "27e28257c4ec40aa94d3957629b39d08"
            }
          },
          "metadata": {}
        },
        {
          "output_type": "display_data",
          "data": {
            "text/plain": [
              "vocab.txt:   0%|          | 0.00/213k [00:00<?, ?B/s]"
            ],
            "application/vnd.jupyter.widget-view+json": {
              "version_major": 2,
              "version_minor": 0,
              "model_id": "f87b28c992114c66976c467df28a346f"
            }
          },
          "metadata": {}
        },
        {
          "output_type": "display_data",
          "data": {
            "text/plain": [
              "tokenizer.json:   0%|          | 0.00/669k [00:00<?, ?B/s]"
            ],
            "application/vnd.jupyter.widget-view+json": {
              "version_major": 2,
              "version_minor": 0,
              "model_id": "4be619f2eb604630b4429ce333e59e9c"
            }
          },
          "metadata": {}
        },
        {
          "output_type": "display_data",
          "data": {
            "text/plain": [
              "special_tokens_map.json:   0%|          | 0.00/112 [00:00<?, ?B/s]"
            ],
            "application/vnd.jupyter.widget-view+json": {
              "version_major": 2,
              "version_minor": 0,
              "model_id": "0b0b25470c154ecfb42afacc8e182301"
            }
          },
          "metadata": {}
        }
      ]
    },
    {
      "cell_type": "code",
      "source": [
        "# Create a networkX graph\n",
        "G_FMI = nx.Graph()\n",
        "\n",
        "# Add a one node per station\n",
        "G_FMI.add_nodes_from(range(0, 5))\n",
        "X_test, y_test = transform_data(test_values)\n",
        "\n",
        "for i, train_local_data in tqdm(enumerate(train_local), total=5):\n",
        "    # Extract data of a certain station\n",
        "    # Extract features and labels, do train and validation split\n",
        "    train, val = train_test_split(train_local_data, test_size=0.3, random_state=42)\n",
        "    X_train, y_train = transform_data(train)\n",
        "    X_val, y_val = transform_data(val)\n",
        "\n",
        "    G_FMI.nodes[i]['id'] = i # The name of the i-th weather station\n",
        "    G_FMI.nodes[i]['X_train'] = X_train # The feature matrix for local dataset at node i\n",
        "    G_FMI.nodes[i]['y_train'] = y_train  # The  label vector for local dataset at node i\n",
        "    G_FMI.nodes[i]['X_val'] = X_val # The feature matrix for local val dataset at node i\n",
        "    G_FMI.nodes[i]['y_val'] = y_val  # The  label vector for local val dataset at node i\n",
        "    G_FMI.nodes[i]['X_test'] = X_test\n",
        "    G_FMI.nodes[i]['y_test'] = y_test"
      ],
      "metadata": {
        "id": "qtBykd9IuRtj",
        "colab": {
          "base_uri": "https://localhost:8080/",
          "height": 49,
          "referenced_widgets": [
            "2e0097c7311f4aa0bd7d2f51e88620c9",
            "aaf9e8b24efb4aae9fd84e7e2d0f2831",
            "c49f36cdf1524a47b6292ea767c7a2e8",
            "00047f44bd15481f9b0524eff29145b5",
            "3c418567521d4f9c95a5a1c63976ac15",
            "ef6d488561404de4b9b10b46f1d9cca0",
            "087953150dd84cf4ae782bbcb6fc71fc",
            "95657a7b279042ceb50550059ef77901",
            "7e222ffe98754afe85a15022b3df42ca",
            "1b6622abefbd48de9e0eacf12ea53576",
            "f15554c6a81141a59b43794839d60f71"
          ]
        },
        "outputId": "7dcf759e-53a0-4c4f-af38-3d5cff2b8c46"
      },
      "execution_count": 32,
      "outputs": [
        {
          "output_type": "display_data",
          "data": {
            "text/plain": [
              "  0%|          | 0/5 [00:00<?, ?it/s]"
            ],
            "application/vnd.jupyter.widget-view+json": {
              "version_major": 2,
              "version_minor": 0,
              "model_id": "2e0097c7311f4aa0bd7d2f51e88620c9"
            }
          },
          "metadata": {}
        }
      ]
    },
    {
      "cell_type": "markdown",
      "source": [
        "**FedSGD**"
      ],
      "metadata": {
        "id": "BWExd43eud1k"
      }
    },
    {
      "cell_type": "code",
      "source": [
        "for a in [0.01, 0.1, 0.5, 0.7]:\n",
        "    for station in G_FMI.nodes:\n",
        "      G_FMI.nodes[station]['weights'] = np.zeros((G_FMI.nodes[station]['X_train'].shape[1], 1))\n",
        "      G_FMI.nodes[station]['curr_batch_start'] = 0\n",
        "    train_FedSGD(max_iter = 1000, l_rate=a, batch_size = 10)\n",
        "    evaluate()"
      ],
      "metadata": {
        "id": "HemKlab0ukya",
        "colab": {
          "base_uri": "https://localhost:8080/"
        },
        "outputId": "56ddc3c5-61a6-4e65-9842-4733fb71f2c1"
      },
      "execution_count": 33,
      "outputs": [
        {
          "output_type": "stream",
          "name": "stdout",
          "text": [
            "The average training log_loss: 0.6141240127778451\n",
            "The average validation log_loss: 0.6194321020052513\n",
            "The average test f1: 0.8165680473372781\n",
            "All models test f1: 0.8165680473372781 0.8165680473372781 0.8165680473372781 0.8165680473372781 0.8165680473372781\n",
            "The average training log_loss: 0.5382220883279485\n",
            "The average validation log_loss: 0.5467087212218995\n",
            "The average test f1: 0.8166507851123235\n",
            "All models test f1: 0.8165680473372781 0.8214285714285715 0.8165680473372781 0.812121212121212 0.8165680473372781\n",
            "The average training log_loss: 0.41768237491075216\n",
            "The average validation log_loss: 0.4256205644714247\n",
            "The average test f1: 0.8329540637223658\n",
            "All models test f1: 0.8313253012048193 0.8211920529801324 0.8363636363636363 0.84472049689441 0.8311688311688311\n",
            "The average training log_loss: 0.3970823498092241\n",
            "The average validation log_loss: 0.4050463996450637\n",
            "The average test f1: 0.8346246495642191\n",
            "All models test f1: 0.8313253012048193 0.8266666666666668 0.8414634146341463 0.84472049689441 0.8289473684210527\n"
          ]
        }
      ]
    },
    {
      "cell_type": "markdown",
      "source": [
        "**FedAvg**"
      ],
      "metadata": {
        "id": "SdfMbEp-uf2j"
      }
    },
    {
      "cell_type": "code",
      "source": [
        "for a in [0.01, 0.1, 0.5, 0.7]:\n",
        "    for station in G_FMI.nodes:\n",
        "      G_FMI.nodes[station]['weights'] = np.zeros((G_FMI.nodes[station]['X_train'].shape[1], 1))   #\n",
        "      G_FMI.nodes[station]['curr_batch_start'] = 0\n",
        "    train_FedAVG(l_rate=a)\n",
        "    evaluate()"
      ],
      "metadata": {
        "id": "CkRSgGcruhiG",
        "colab": {
          "base_uri": "https://localhost:8080/"
        },
        "outputId": "0e440c2c-630b-4da6-c9b4-0a00c1e8ade6"
      },
      "execution_count": 34,
      "outputs": [
        {
          "output_type": "stream",
          "name": "stdout",
          "text": [
            "The average training log_loss: 0.623613638992327\n",
            "The average validation log_loss: 0.6198595989163145\n",
            "The average test f1: 0.8165680473372781\n",
            "All models test f1: 0.8165680473372781 0.8165680473372781 0.8165680473372781 0.8165680473372781 0.8165680473372781\n",
            "The average training log_loss: 0.5567010780250141\n",
            "The average validation log_loss: 0.5460844959640612\n",
            "The average test f1: 0.8165680473372781\n",
            "All models test f1: 0.8165680473372781 0.8165680473372781 0.8165680473372781 0.8165680473372781 0.8165680473372781\n",
            "The average training log_loss: 0.4324105284031633\n",
            "The average validation log_loss: 0.4151403584948626\n",
            "The average test f1: 0.8311688311688311\n",
            "All models test f1: 0.8311688311688311 0.8311688311688311 0.8311688311688311 0.8311688311688311 0.8311688311688311\n",
            "The average training log_loss: 0.40919749139030503\n",
            "The average validation log_loss: 0.38928127080053443\n",
            "The average test f1: 0.8289473684210528\n",
            "All models test f1: 0.8289473684210527 0.8289473684210527 0.8289473684210527 0.8289473684210527 0.8289473684210527\n"
          ]
        }
      ]
    },
    {
      "cell_type": "markdown",
      "source": [
        "Both algorithm give similar results"
      ],
      "metadata": {
        "id": "xmaLCDMrYH0v"
      }
    },
    {
      "cell_type": "markdown",
      "source": [
        "### Tf-Idf"
      ],
      "metadata": {
        "id": "2ghHLcSLvo0X"
      }
    },
    {
      "cell_type": "code",
      "source": [
        "from sklearn.feature_extraction.text import TfidfVectorizer"
      ],
      "metadata": {
        "id": "_hAsAhP2IonY"
      },
      "execution_count": 35,
      "outputs": []
    },
    {
      "cell_type": "code",
      "source": [
        "# Create a networkX graph\n",
        "G_FMI = nx.Graph()\n",
        "tfidfvectorizer = TfidfVectorizer(analyzer='word', stop_words= 'english', max_features=100000)\n",
        "\n",
        "# Add a one node per station\n",
        "G_FMI.add_nodes_from(range(0, 5))\n",
        "\n",
        "train_sets = []\n",
        "train_labels = []\n",
        "for i, train_local_data in tqdm(enumerate(train_local), total=5):\n",
        "    # Extract data of a certain station\n",
        "    # Extract features and labels\n",
        "    train, val = train_test_split(train_local_data, test_size=0.3, random_state=42)\n",
        "    X_train = [i[1] for i in train]\n",
        "    y_train = [i[0] for i in train]\n",
        "    train_sets.extend(X_train)\n",
        "    train_labels.extend(y_train)\n",
        "\n",
        "tfidfvectorizer.fit(train_sets)\n",
        "X_test = [i[1] for i in test_values]\n",
        "X_test = tfidfvectorizer.transform(X_test).toarray()\n",
        "y_test = [i[0] for i in test_values]\n",
        "\n",
        "\n",
        "for i, train_local_data in tqdm(enumerate(train_local), total=5):\n",
        "    # Extract data of a certain station\n",
        "    # Extract features and labels, do train and validation split\n",
        "    train, val = train_test_split(train_local_data, test_size=0.3, random_state=42)\n",
        "    X_train = [i[1] for i in train]\n",
        "    X_train = tfidfvectorizer.transform(X_train).toarray()\n",
        "    X_val = [i[1] for i in val]\n",
        "    X_val = tfidfvectorizer.transform(X_val).toarray()\n",
        "    y_train = [i[0] for i in train]\n",
        "    y_val = [i[0] for i in val]\n",
        "\n",
        "\n",
        "\n",
        "    G_FMI.nodes[i]['id'] = i # The name of the i-th weather station\n",
        "    G_FMI.nodes[i]['X_train'] = X_train # The feature matrix for local dataset at node i\n",
        "    G_FMI.nodes[i]['y_train'] = np.array(y_train).reshape((-1, 1))  # The  label vector for local dataset at node i\n",
        "    G_FMI.nodes[i]['X_val'] = X_val # The feature matrix for local val dataset at node i\n",
        "    G_FMI.nodes[i]['y_val'] = np.array(y_val).reshape((-1, 1))  # The  label vector for local val dataset at node i\n",
        "    G_FMI.nodes[i]['X_test'] = X_test\n",
        "    G_FMI.nodes[i]['y_test'] = np.array(y_test).reshape((-1, 1))"
      ],
      "metadata": {
        "id": "xEba-YsAwrrv",
        "colab": {
          "base_uri": "https://localhost:8080/",
          "height": 81,
          "referenced_widgets": [
            "73ec0906925749189e1b5deb5c84c604",
            "f12615d35a6146d6a2bcf624cb013907",
            "a3e9df614f1c4045bd461a79710230ba",
            "f5d9794376e8464f88bb59054c412fcb",
            "6e83cc4f8975482e86cecc3a0ec1cd8d",
            "a111bb0132864a3cba9865d52b5632fd",
            "52390fac08ef446bbc25d57370ef6c67",
            "c7d09c36feca4b40a8c07a3f6ec25603",
            "3cedc1835ee34c099d9f2c2b8ee44104",
            "9cf68d8b85e746df8546e9ea24870e5f",
            "6537f81281d848489b9ff783896fdd12",
            "965366d18f7744d88064b2aebdb678b9",
            "4d07965c5d43431ea141adf879425005",
            "1bc5be04948e411481d40f23b4ec8581",
            "386394c0147445e4ad0769c5c7346996",
            "f8e922937e6640c598cfa9e65ab0802e",
            "b54c7f4100de4a5ba9114d2ec9dd2476",
            "7992fa256f6741608037e7a56ceaf21b",
            "d5d85aa449cb427ba8274c699c5c41df",
            "030f8a3f4c0341879c47d312df314ed1",
            "76bc3a0634a14ac9a7a22f5864de19bd",
            "ba11c74f90ac4e2cbd42f9820de11ec1"
          ]
        },
        "outputId": "f1b49fe4-72a4-450f-9411-fa11f49e4466"
      },
      "execution_count": 36,
      "outputs": [
        {
          "output_type": "display_data",
          "data": {
            "text/plain": [
              "  0%|          | 0/5 [00:00<?, ?it/s]"
            ],
            "application/vnd.jupyter.widget-view+json": {
              "version_major": 2,
              "version_minor": 0,
              "model_id": "73ec0906925749189e1b5deb5c84c604"
            }
          },
          "metadata": {}
        },
        {
          "output_type": "display_data",
          "data": {
            "text/plain": [
              "  0%|          | 0/5 [00:00<?, ?it/s]"
            ],
            "application/vnd.jupyter.widget-view+json": {
              "version_major": 2,
              "version_minor": 0,
              "model_id": "965366d18f7744d88064b2aebdb678b9"
            }
          },
          "metadata": {}
        }
      ]
    },
    {
      "cell_type": "markdown",
      "source": [
        "**FedSGD**"
      ],
      "metadata": {
        "id": "yIjmfLAVZSCV"
      }
    },
    {
      "cell_type": "code",
      "source": [
        "for a in [0.01, 0.1, 0.5, 0.7]:\n",
        "    for station in G_FMI.nodes:\n",
        "      G_FMI.nodes[station]['weights'] = np.zeros((G_FMI.nodes[station]['X_train'].shape[1], 1))   #\n",
        "      G_FMI.nodes[station]['curr_batch_start'] = 0\n",
        "    train_FedSGD(max_iter=1000, l_rate=a, batch_size=10)\n",
        "    evaluate()"
      ],
      "metadata": {
        "id": "OTs19PN_LT1j",
        "colab": {
          "base_uri": "https://localhost:8080/"
        },
        "outputId": "7e9f0a19-c0c0-413f-fa18-01043b24a91d"
      },
      "execution_count": 37,
      "outputs": [
        {
          "output_type": "stream",
          "name": "stdout",
          "text": [
            "The average training log_loss: 0.672309878095527\n",
            "The average validation log_loss: 0.6801681225834562\n",
            "The average test f1: 0.8295277097872094\n",
            "All models test f1: 0.8165680473372781 0.8313253012048193 0.8313253012048193 0.8518518518518519 0.8165680473372781\n",
            "The average training log_loss: 0.5350986880800421\n",
            "The average validation log_loss: 0.598895916789099\n",
            "The average test f1: 0.8387009068463623\n",
            "All models test f1: 0.8165680473372781 0.8466257668711656 0.8414634146341463 0.8624999999999999 0.8263473053892215\n",
            "The average training log_loss: 0.28953912345995036\n",
            "The average validation log_loss: 0.47182272394802444\n",
            "The average test f1: 0.8803118730922483\n",
            "All models test f1: 0.8679245283018869 0.8734177215189874 0.8903225806451612 0.912751677852349 0.8571428571428571\n",
            "The average training log_loss: 0.23397255876580642\n",
            "The average validation log_loss: 0.444475773754916\n",
            "The average test f1: 0.8949597120425871\n",
            "All models test f1: 0.8789808917197451 0.8903225806451612 0.9019607843137255 0.918918918918919 0.8846153846153846\n"
          ]
        }
      ]
    },
    {
      "cell_type": "markdown",
      "source": [
        "**FedAvg**"
      ],
      "metadata": {
        "id": "cQ4ZKDzGZUl5"
      }
    },
    {
      "cell_type": "code",
      "source": [
        "for a in [0.01, 0.1, 0.5, 0.7]:\n",
        "    for station in G_FMI.nodes:\n",
        "      G_FMI.nodes[station]['weights'] = np.zeros((G_FMI.nodes[station]['X_train'].shape[1], 1))   #\n",
        "      G_FMI.nodes[station]['curr_batch_start'] = 0\n",
        "    train_FedAVG(l_rate=a)\n",
        "    evaluate()"
      ],
      "metadata": {
        "id": "74OB_pxhLXOI",
        "colab": {
          "base_uri": "https://localhost:8080/"
        },
        "outputId": "329592fa-77a9-4843-e150-e5cb4377e818"
      },
      "execution_count": 38,
      "outputs": [
        {
          "output_type": "stream",
          "name": "stdout",
          "text": [
            "The average training log_loss: 0.6775467431448041\n",
            "The average validation log_loss: 0.6784275798433336\n",
            "The average test f1: 0.8165680473372781\n",
            "All models test f1: 0.8165680473372781 0.8165680473372781 0.8165680473372781 0.8165680473372781 0.8165680473372781\n",
            "The average training log_loss: 0.584202156292927\n",
            "The average validation log_loss: 0.5920257390415211\n",
            "The average test f1: 0.8263473053892214\n",
            "All models test f1: 0.8263473053892215 0.8263473053892215 0.8263473053892215 0.8263473053892215 0.8263473053892215\n",
            "The average training log_loss: 0.445869561039174\n",
            "The average validation log_loss: 0.4721157404170987\n",
            "The average test f1: 0.8571428571428571\n",
            "All models test f1: 0.8571428571428571 0.8571428571428571 0.8571428571428571 0.8571428571428571 0.8571428571428571\n",
            "The average training log_loss: 0.4152282451752568\n",
            "The average validation log_loss: 0.44640911520471266\n",
            "The average test f1: 0.8846153846153847\n",
            "All models test f1: 0.8846153846153846 0.8846153846153846 0.8846153846153846 0.8846153846153846 0.8846153846153846\n"
          ]
        }
      ]
    },
    {
      "cell_type": "markdown",
      "source": [
        "FedSGD is slightly better compared to FedAvg"
      ],
      "metadata": {
        "id": "hwOz11wBYRk7"
      }
    },
    {
      "cell_type": "markdown",
      "source": [
        "## Comparison with models trained without federated learning\n",
        "\n",
        "Let's now train separate models on local train datasets and evaluate them on test data. For this part we will use the best learning rate found in the previous calculation"
      ],
      "metadata": {
        "id": "UX9r9jO2OdYC"
      }
    },
    {
      "cell_type": "markdown",
      "source": [
        "### Tf-Idf"
      ],
      "metadata": {
        "id": "Wcd5BYZojjyA"
      }
    },
    {
      "cell_type": "code",
      "source": [
        "def train_separate(max_iter = 1000, l_rate = 0.01, batch_size = 10):\n",
        "    # for each node train the model\n",
        "    for current_node in G_FMI.nodes:\n",
        "        for i in range(max_iter):\n",
        "\n",
        "            # Extract the training data from the current node.\n",
        "            X_train = G_FMI.nodes[current_node]['X_train']\n",
        "            y_train = G_FMI.nodes[current_node]['y_train']\n",
        "            w_current = G_FMI.nodes[current_node]['weights']\n",
        "            training_size = len(y_train)\n",
        "\n",
        "            # Compute the first term of the Equation 5.11.\n",
        "\n",
        "            curr_batch_start = G_FMI.nodes[current_node]['curr_batch_start']\n",
        "            # Get the batched features and labels\n",
        "            X_train_batch = X_train[curr_batch_start:(curr_batch_start+batch_size)]\n",
        "            y_train_batch = y_train[curr_batch_start:(curr_batch_start+batch_size)]\n",
        "\n",
        "            # update batch start for the next iteration\n",
        "            curr_batch_start = curr_batch_start + batch_size\n",
        "            # check if batch start would be outside the training set\n",
        "            if curr_batch_start >= training_size:\n",
        "                curr_batch_start = 0  # if next batch exceeds training set size start over from first datapoint\n",
        "            G_FMI.nodes[current_node]['curr_batch_start']= curr_batch_start\n",
        "\n",
        "            term_1 = (1/batch_size) * X_train_batch.T.dot(y_train_batch - sigmoid(X_train_batch.dot(w_current)))\n",
        "\n",
        "\n",
        "            w_updated = w_current + l_rate * term_1\n",
        "            G_FMI.nodes[current_node]['weights'] = w_updated"
      ],
      "metadata": {
        "id": "0XDykqm7Sn2k"
      },
      "execution_count": 39,
      "outputs": []
    },
    {
      "cell_type": "code",
      "source": [
        "for station in G_FMI.nodes:\n",
        "    G_FMI.nodes[station]['weights'] = np.zeros((G_FMI.nodes[station]['X_train'].shape[1], 1))   #\n",
        "    G_FMI.nodes[station]['curr_batch_start'] = 0"
      ],
      "metadata": {
        "id": "aD_jg56QTCYC"
      },
      "execution_count": 40,
      "outputs": []
    },
    {
      "cell_type": "code",
      "source": [
        "train_separate(l_rate=0.7)\n",
        "evaluate()"
      ],
      "metadata": {
        "id": "01IzUFCGTCYC",
        "colab": {
          "base_uri": "https://localhost:8080/"
        },
        "outputId": "0fb80d01-6659-49d4-cae2-401c82183602"
      },
      "execution_count": 41,
      "outputs": [
        {
          "output_type": "stream",
          "name": "stdout",
          "text": [
            "The average training log_loss: 0.23397255876580642\n",
            "The average validation log_loss: 0.444475773754916\n",
            "The average test f1: 0.8949597120425871\n",
            "All models test f1: 0.8789808917197451 0.8903225806451612 0.9019607843137255 0.918918918918919 0.8846153846153846\n"
          ]
        }
      ]
    },
    {
      "cell_type": "markdown",
      "source": [
        "As the best approach for Federated Learning is FedSGD with $lr = 0.7$ and TF-IDF as feature extraction method. Let's calculate validation and train errors for each local dataset."
      ],
      "metadata": {
        "id": "sGLFZzk4nkhB"
      }
    },
    {
      "cell_type": "code",
      "source": [
        "# Create a networkX graph\n",
        "G_FMI = nx.Graph()\n",
        "tfidfvectorizer = TfidfVectorizer(analyzer='word', stop_words= 'english', max_features=100000)\n",
        "\n",
        "# Add a one node per station\n",
        "G_FMI.add_nodes_from(range(0, 5))\n",
        "\n",
        "train_sets = []\n",
        "train_labels = []\n",
        "for i, train_local_data in tqdm(enumerate(train_local), total=5):\n",
        "    # Extract data of a certain station\n",
        "    # Extract features and labels\n",
        "    train, val = train_test_split(train_local_data, test_size=0.3, random_state=42)\n",
        "    X_train = [i[1] for i in train]\n",
        "    y_train = [i[0] for i in train]\n",
        "    train_sets.extend(X_train)\n",
        "    train_labels.extend(y_train)\n",
        "\n",
        "tfidfvectorizer.fit(train_sets)\n",
        "X_test = [i[1] for i in test_values]\n",
        "X_test = tfidfvectorizer.transform(X_test).toarray()\n",
        "y_test = [i[0] for i in test_values]\n",
        "\n",
        "\n",
        "for i, train_local_data in tqdm(enumerate(train_local), total=5):\n",
        "    # Extract data of a certain station\n",
        "    # Extract features and labels\n",
        "    train, val = train_test_split(train_local_data, test_size=0.3, random_state=42)\n",
        "    X_train = [i[1] for i in train]\n",
        "    X_train = tfidfvectorizer.transform(X_train).toarray()\n",
        "    X_val = [i[1] for i in val]\n",
        "    X_val = tfidfvectorizer.transform(X_val).toarray()\n",
        "    y_train = [i[0] for i in train]\n",
        "    y_val = [i[0] for i in val]\n",
        "\n",
        "\n",
        "\n",
        "    G_FMI.nodes[i]['id'] = i # The name of the i-th weather station\n",
        "    G_FMI.nodes[i]['X_train'] = X_train # The feature matrix for local dataset at node i\n",
        "    G_FMI.nodes[i]['y_train'] = np.array(y_train).reshape((-1, 1))  # The  label vector for local dataset at node i\n",
        "    G_FMI.nodes[i]['X_val'] = X_val # The feature matrix for local val dataset at node i\n",
        "    G_FMI.nodes[i]['y_val'] = np.array(y_val).reshape((-1, 1))  # The  label vector for local val dataset at node i\n",
        "    G_FMI.nodes[i]['X_test'] = X_test\n",
        "    G_FMI.nodes[i]['y_test'] = np.array(y_test).reshape((-1, 1))"
      ],
      "metadata": {
        "colab": {
          "base_uri": "https://localhost:8080/",
          "height": 81,
          "referenced_widgets": [
            "a8fffe158faa45b0af3be3196d3586ee",
            "3588987b19bb49beb5eca7d561847253",
            "0ffbe48a70bd4c06bcb81c286f77e2b0",
            "e05ebef9cc684a55b9f02d6daa038831",
            "8d126bfebdbc487db76410bec10d20bd",
            "b6bd2d7bc0474a448896b1069aa06225",
            "353fd6a409234ad3bfa76bc51ffd708a",
            "c1b7eb7fdbc24fabab7b715be077bad4",
            "1c5c0323c0b64be7ad3e8df47de41c86",
            "b2b08b892fdd4205a9bbacb86886f460",
            "9b58111abe024169baef85a7f3ff90dd",
            "e434cc69091d4878b9a9ad475c2ffdc1",
            "b2f51feeed4e4563b5f39f54747a0979",
            "2473f0511419415cb88484a31f92c4bf",
            "7a8e6d154c68491f912e241724244eaa",
            "bd3e62a7506843f8ad0573b12d39bbd7",
            "f897844b5de34186ad7bf2bdd5460179",
            "795fee9456a34beca74620543464baab",
            "5a482fbc4c574c9d9da80dbc0e53ed25",
            "dd7c0c99e2114e9abf5acb8fcf50d521",
            "dc2df9ba202c4b6a983b891309e250d6",
            "9917070916a64e1f806dcd24a4381eb3"
          ]
        },
        "id": "fO2Z045Hn6Aj",
        "outputId": "7bfbc4eb-1cef-43cd-f571-b4b7bb0c7534"
      },
      "execution_count": 42,
      "outputs": [
        {
          "output_type": "display_data",
          "data": {
            "text/plain": [
              "  0%|          | 0/5 [00:00<?, ?it/s]"
            ],
            "application/vnd.jupyter.widget-view+json": {
              "version_major": 2,
              "version_minor": 0,
              "model_id": "a8fffe158faa45b0af3be3196d3586ee"
            }
          },
          "metadata": {}
        },
        {
          "output_type": "display_data",
          "data": {
            "text/plain": [
              "  0%|          | 0/5 [00:00<?, ?it/s]"
            ],
            "application/vnd.jupyter.widget-view+json": {
              "version_major": 2,
              "version_minor": 0,
              "model_id": "e434cc69091d4878b9a9ad475c2ffdc1"
            }
          },
          "metadata": {}
        }
      ]
    },
    {
      "cell_type": "code",
      "source": [
        "for station in G_FMI.nodes:\n",
        "    G_FMI.nodes[station]['weights'] = np.zeros((G_FMI.nodes[station]['X_train'].shape[1], 1))   #\n",
        "    G_FMI.nodes[station]['curr_batch_start'] = 0"
      ],
      "metadata": {
        "id": "5A_XM9_VnssT"
      },
      "execution_count": 43,
      "outputs": []
    },
    {
      "cell_type": "code",
      "source": [
        "train_FedSGD(max_iter = 1000, l_rate = 0.7, batch_size = 10)"
      ],
      "metadata": {
        "id": "t2qByIavnssU"
      },
      "execution_count": 44,
      "outputs": []
    },
    {
      "cell_type": "code",
      "source": [
        "train_errors = np.zeros(5)\n",
        "val_errors = np.zeros(5)\n",
        "\n",
        "# Iterate over all nodes.\n",
        "for station in G_FMI.nodes:\n",
        "    # Extract the data of the current node.\n",
        "    X_train = G_FMI.nodes[station]['X_train']\n",
        "    y_train = G_FMI.nodes[station]['y_train']\n",
        "    X_val = G_FMI.nodes[station]['X_val']\n",
        "    y_val = G_FMI.nodes[station]['y_val']\n",
        "    w = G_FMI.nodes[station]['weights']\n",
        "\n",
        "    # Compute and store the training and validation loss and test f-score.\n",
        "    train_errors[station] = log_loss(y_train, sigmoid(X_train.dot(w)))\n",
        "    val_errors[station] = log_loss(y_val, sigmoid(X_val.dot(w)))\n",
        "\n",
        "# Output the average training and validation errors.\n",
        "print(\"All nodes training log_loss:\", *train_errors)\n",
        "print(\"All nodes validation log_loss:\", *val_errors)"
      ],
      "metadata": {
        "colab": {
          "base_uri": "https://localhost:8080/"
        },
        "outputId": "88398c98-2b9b-4322-df03-2399a265465a",
        "id": "syZMnKNLnssU"
      },
      "execution_count": 45,
      "outputs": [
        {
          "output_type": "stream",
          "name": "stdout",
          "text": [
            "All nodes training log_loss: 0.22733581534342356 0.23878460412495792 0.24692779172353013 0.23832148727810362 0.21849309535901668\n",
            "All nodes validation log_loss: 0.452834945189316 0.4216992667020362 0.4645727273166155 0.4572701086989526 0.42600182086765975\n"
          ]
        }
      ]
    },
    {
      "cell_type": "markdown",
      "source": [
        "### BioBERT"
      ],
      "metadata": {
        "id": "CsLCOOSdjqTN"
      }
    },
    {
      "cell_type": "code",
      "source": [
        "model = AutoModel.from_pretrained(\"nlpie/tiny-biobert\")\n",
        "tokenizer = AutoTokenizer.from_pretrained(\"nlpie/tiny-biobert\")"
      ],
      "metadata": {
        "colab": {
          "base_uri": "https://localhost:8080/"
        },
        "outputId": "187b4d53-9799-4c3c-e189-170b302327d8",
        "id": "pwqB_IbcjXvH"
      },
      "execution_count": 46,
      "outputs": [
        {
          "output_type": "stream",
          "name": "stderr",
          "text": [
            "Some weights of BertModel were not initialized from the model checkpoint at nlpie/tiny-biobert and are newly initialized: ['bert.pooler.dense.bias', 'bert.pooler.dense.weight']\n",
            "You should probably TRAIN this model on a down-stream task to be able to use it for predictions and inference.\n"
          ]
        }
      ]
    },
    {
      "cell_type": "code",
      "source": [
        "# Create a networkX graph\n",
        "G_FMI = nx.Graph()\n",
        "\n",
        "# Add a one node per station\n",
        "G_FMI.add_nodes_from(range(0, 5))\n",
        "X_test, y_test = transform_data(test_values)\n",
        "\n",
        "for i, train_local_data in tqdm(enumerate(train_local), total=5):\n",
        "    # Extract data of a certain station\n",
        "    # Extract features and labels\n",
        "    train, val = train_test_split(train_local_data, test_size=0.3, random_state=42)\n",
        "    X_train, y_train = transform_data(train)\n",
        "    X_val, y_val = transform_data(val)\n",
        "\n",
        "    G_FMI.nodes[i]['id'] = i # The name of the i-th weather station\n",
        "    G_FMI.nodes[i]['X_train'] = X_train # The feature matrix for local dataset at node i\n",
        "    G_FMI.nodes[i]['y_train'] = y_train  # The  label vector for local dataset at node i\n",
        "    G_FMI.nodes[i]['X_val'] = X_val # The feature matrix for local val dataset at node i\n",
        "    G_FMI.nodes[i]['y_val'] = y_val  # The  label vector for local val dataset at node i\n",
        "    G_FMI.nodes[i]['X_test'] = X_test\n",
        "    G_FMI.nodes[i]['y_test'] = y_test"
      ],
      "metadata": {
        "colab": {
          "base_uri": "https://localhost:8080/",
          "height": 49,
          "referenced_widgets": [
            "47aefa5aed9f4cbf9e4f21853a54c9a0",
            "e2ba9881efd44ad6a80ea2b050759559",
            "7774cd79629e44f5a619a309dbb8673e",
            "2880e56c379148a89cc4b908a047aef2",
            "e61bd321cf114bcfa40d1f0711b7df51",
            "4a522f8f6ea144acb57192a0c835f5bb",
            "d13d367c56834a2aaea5d6b241505bac",
            "574bf88ebf56400c8e1797f3cba98a61",
            "02ad2a9b92574f4bbfba8040f54324e1",
            "faf466bf2fa54934a2bb1e8cf10093bd",
            "30c8c90ee9cc4935a3f71cd0a72bb935"
          ]
        },
        "outputId": "9df62633-69e4-4da7-c76f-336d24d164f8",
        "id": "rEoiazaqjXvI"
      },
      "execution_count": 47,
      "outputs": [
        {
          "output_type": "display_data",
          "data": {
            "text/plain": [
              "  0%|          | 0/5 [00:00<?, ?it/s]"
            ],
            "application/vnd.jupyter.widget-view+json": {
              "version_major": 2,
              "version_minor": 0,
              "model_id": "47aefa5aed9f4cbf9e4f21853a54c9a0"
            }
          },
          "metadata": {}
        }
      ]
    },
    {
      "cell_type": "code",
      "source": [
        "for station in G_FMI.nodes:\n",
        "    G_FMI.nodes[station]['weights'] = np.zeros((G_FMI.nodes[station]['X_train'].shape[1], 1))   #\n",
        "    G_FMI.nodes[station]['curr_batch_start'] = 0"
      ],
      "metadata": {
        "id": "ZtWAnanhlo-i"
      },
      "execution_count": 48,
      "outputs": []
    },
    {
      "cell_type": "code",
      "source": [
        "train_separate(l_rate=0.7)\n",
        "evaluate()"
      ],
      "metadata": {
        "colab": {
          "base_uri": "https://localhost:8080/"
        },
        "id": "P3GF3Y_6jbXf",
        "outputId": "0aa7e23d-3bd6-4969-c3d7-41aa78f206d1"
      },
      "execution_count": 49,
      "outputs": [
        {
          "output_type": "stream",
          "name": "stdout",
          "text": [
            "The average training log_loss: 0.3990823463569332\n",
            "The average validation log_loss: 0.4035211423145646\n",
            "The average test f1: 0.8332825974606333\n",
            "All models test f1: 0.8313253012048193 0.8211920529801324 0.8414634146341463 0.8466257668711656 0.8258064516129032\n"
          ]
        }
      ]
    },
    {
      "cell_type": "markdown",
      "source": [
        "### BERT"
      ],
      "metadata": {
        "id": "TNVUm6nUjtnr"
      }
    },
    {
      "cell_type": "code",
      "source": [
        "model = AutoModel.from_pretrained(\"prajjwal1/bert-tiny\")\n",
        "tokenizer = AutoTokenizer.from_pretrained(\"prajjwal1/bert-tiny\")"
      ],
      "metadata": {
        "colab": {
          "base_uri": "https://localhost:8080/"
        },
        "outputId": "399fecef-c00d-4f59-dcea-2a1d65d15f4f",
        "id": "9modSqoFjgrk"
      },
      "execution_count": 50,
      "outputs": [
        {
          "output_type": "stream",
          "name": "stderr",
          "text": [
            "/usr/local/lib/python3.10/dist-packages/huggingface_hub/file_download.py:1132: FutureWarning: `resume_download` is deprecated and will be removed in version 1.0.0. Downloads always resume when possible. If you want to force a new download, use `force_download=True`.\n",
            "  warnings.warn(\n"
          ]
        }
      ]
    },
    {
      "cell_type": "code",
      "source": [
        "# Create a networkX graph\n",
        "G_FMI = nx.Graph()\n",
        "\n",
        "# Add a one node per station\n",
        "G_FMI.add_nodes_from(range(0, 5))\n",
        "\n",
        "X_test, y_test = transform_data(test_values)\n",
        "\n",
        "for i, train_local_data in tqdm(enumerate(train_local), total=5):\n",
        "    # Extract data of a certain station\n",
        "    # Extract features and labels\n",
        "    train, val = train_test_split(train_local_data, test_size=0.3, random_state=42)\n",
        "    X_train, y_train = transform_data(train)\n",
        "    X_val, y_val = transform_data(val)\n",
        "\n",
        "    G_FMI.nodes[i]['id'] = i # The name of the i-th weather station\n",
        "    G_FMI.nodes[i]['X_train'] = X_train # The feature matrix for local dataset at node i\n",
        "    G_FMI.nodes[i]['y_train'] = y_train  # The label vector for local dataset at node i\n",
        "    G_FMI.nodes[i]['X_val'] = X_val # The feature matrix for local val dataset at node i\n",
        "    G_FMI.nodes[i]['y_val'] = y_val  # The label vector for local val dataset at node i\n",
        "    G_FMI.nodes[i]['X_test'] = X_test\n",
        "    G_FMI.nodes[i]['y_test'] = y_test"
      ],
      "metadata": {
        "colab": {
          "base_uri": "https://localhost:8080/",
          "height": 49,
          "referenced_widgets": [
            "9c760b029ca44256b89224e407cd2b48",
            "b48f4223a749402d9c420063f8506d27",
            "4d5311fb517844d4a4171e6e32d3b7fb",
            "460a6ea098b84a889cbdfb72f92a076e",
            "5a71e0241dc640e681fd334d5ff6fa4a",
            "ddd4f31b6a6e45b0a02ada28a0a5d749",
            "16f77fb8d7bd48e383abf7a5f3d2c455",
            "5ee2f58cf9664258ae76a4f66a5b0866",
            "1508c60d2099416fa261cb0fe56f9966",
            "56dc258513ad4a2db4ac859764774bff",
            "887ecd7e6879429290476ee769506c31"
          ]
        },
        "outputId": "b0e76fa8-85c8-4aff-dd38-f0693e2015f3",
        "id": "jnMsdd-9jgrk"
      },
      "execution_count": 51,
      "outputs": [
        {
          "output_type": "display_data",
          "data": {
            "text/plain": [
              "  0%|          | 0/5 [00:00<?, ?it/s]"
            ],
            "application/vnd.jupyter.widget-view+json": {
              "version_major": 2,
              "version_minor": 0,
              "model_id": "9c760b029ca44256b89224e407cd2b48"
            }
          },
          "metadata": {}
        }
      ]
    },
    {
      "cell_type": "code",
      "source": [
        "for station in G_FMI.nodes:\n",
        "    G_FMI.nodes[station]['weights'] = np.zeros((G_FMI.nodes[station]['X_train'].shape[1], 1))   #\n",
        "    G_FMI.nodes[station]['curr_batch_start'] = 0"
      ],
      "metadata": {
        "id": "oa6xezgClzrJ"
      },
      "execution_count": 52,
      "outputs": []
    },
    {
      "cell_type": "code",
      "source": [
        "train_separate(l_rate=0.1)\n",
        "evaluate()"
      ],
      "metadata": {
        "colab": {
          "base_uri": "https://localhost:8080/"
        },
        "id": "VHVvXpHrl12s",
        "outputId": "4244ac1c-1d9e-40d8-a49c-d53ee2c6c864"
      },
      "execution_count": 53,
      "outputs": [
        {
          "output_type": "stream",
          "name": "stdout",
          "text": [
            "The average training log_loss: 0.40154644052332233\n",
            "The average validation log_loss: 0.48334551497450207\n",
            "The average test f1: 0.8243524634514596\n",
            "All models test f1: 0.8205128205128205 0.8211920529801324 0.8476821192052981 0.8104575163398693 0.821917808219178\n"
          ]
        }
      ]
    },
    {
      "cell_type": "code",
      "source": [
        "for station in G_FMI.nodes:\n",
        "    G_FMI.nodes[station]['weights'] = np.zeros((G_FMI.nodes[station]['X_train'].shape[1], 1))   #\n",
        "    G_FMI.nodes[station]['curr_batch_start'] = 0"
      ],
      "metadata": {
        "id": "lrbKakubQLVN"
      },
      "execution_count": 54,
      "outputs": []
    },
    {
      "cell_type": "code",
      "source": [
        "train_FedSGD(max_iter = 1000, l_rate = 0.7, batch_size = 10)"
      ],
      "metadata": {
        "id": "eeoWEnu8Qa03"
      },
      "execution_count": 55,
      "outputs": []
    },
    {
      "cell_type": "code",
      "source": [
        "train_errors = np.zeros(5)\n",
        "val_errors = np.zeros(5)\n",
        "\n",
        "# Iterate over all nodes.\n",
        "for station in G_FMI.nodes:\n",
        "    # Extract the data of the current node.\n",
        "    X_train = G_FMI.nodes[station]['X_train']\n",
        "    y_train = G_FMI.nodes[station]['y_train']\n",
        "    X_val = G_FMI.nodes[station]['X_val']\n",
        "    y_val = G_FMI.nodes[station]['y_val']\n",
        "    w = G_FMI.nodes[station]['weights']\n",
        "\n",
        "    # Compute and store the training and validation loss and test f-score.\n",
        "    train_errors[station] = log_loss(y_train, sigmoid(X_train.dot(w)))\n",
        "    val_errors[station] = log_loss(y_val, sigmoid(X_val.dot(w)))\n",
        "\n",
        "# Output the average training and validation errors.\n",
        "print(\"All nodes training log_loss:\", *train_errors)\n",
        "print(\"All nodes validation log_loss:\", *val_errors)"
      ],
      "metadata": {
        "colab": {
          "base_uri": "https://localhost:8080/"
        },
        "id": "bV13VicUQkeF",
        "outputId": "6beee656-c7e0-424f-a917-bdd68d9b7beb"
      },
      "execution_count": 56,
      "outputs": [
        {
          "output_type": "stream",
          "name": "stdout",
          "text": [
            "All nodes training log_loss: 0.7801165609247359 0.5320568264407814 0.5462522078909878 0.7696235987022259 0.5375883679274118\n",
            "All nodes validation log_loss: 1.4749313759654596 0.730882764683003 0.990659802181269 1.450482464096873 0.7638937159425265\n"
          ]
        }
      ]
    },
    {
      "cell_type": "markdown",
      "source": [
        "# Train and validation error plots"
      ],
      "metadata": {
        "id": "iRO24KbCPzLZ"
      }
    },
    {
      "cell_type": "code",
      "source": [
        "import matplotlib.pyplot as plt\n",
        "\n",
        "x = [0.01, 0.1, 0.5, 0.7]\n",
        "y_tfidf = [0.672, 0.535, 0.289, 0.233]\n",
        "y_bert = [0.518, 0.401, 0.498, 0.633]\n",
        "y_clinicalbert = [0.614, 0.540, 0.414, 0.391]\n",
        "\n",
        "y_val_tfidf = [0.680, 0.598, 0.471, 0.444]\n",
        "y_val_bert = [0.552, 0.483, 0.414, 1.082]\n",
        "y_val_clinicalbert = [0.620, 0.549, 0.421, 0.398]\n",
        "\n",
        "plt.plot(x, y_val_tfidf, ':', color='b', label='TF-IDF val')\n",
        "plt.plot(x, y_tfidf, color='b', label='TF-IDF train')\n",
        "\n",
        "plt.plot(x, y_val_bert, ':', color='r', label='BERT val')\n",
        "plt.plot(x, y_bert, '-', color='r', label='BERT train')\n",
        "\n",
        "plt.plot(x, y_val_clinicalbert, ':', color='g', label='BioBERT val')\n",
        "plt.plot(x, y_clinicalbert, '-', color='g', label='BioBERT train')\n",
        "\n",
        "\n",
        "plt.xlabel(\"Learning rate values\")\n",
        "plt.ylabel(\"Log-loss values\")\n",
        "plt.legend(loc='upper left')\n",
        "# plt.title('Average train and validation loss depending on learning rate for FedSGD')\n",
        "plt.show()"
      ],
      "metadata": {
        "colab": {
          "base_uri": "https://localhost:8080/",
          "height": 449
        },
        "collapsed": true,
        "id": "DXUSpu6gA8mY",
        "outputId": "54c9f27d-988e-42fe-cdd9-53b67507c8b1"
      },
      "execution_count": 57,
      "outputs": [
        {
          "output_type": "display_data",
          "data": {
            "text/plain": [
              "<Figure size 640x480 with 1 Axes>"
            ],
            "image/png": "[encoded data removed]"
          },
          "metadata": {}
        }
      ]
    },
    {
      "cell_type": "code",
      "source": [
        "x = [0.01, 0.1, 0.5, 0.7]\n",
        "y_tfidf = [0.677, 0.584, 0.445, 0.415]\n",
        "y_bert = [0.557, 0.493, 0.740, 0.921]\n",
        "y_clinicalbert = [0.624, 0.559, 0.430, 0.404]\n",
        "\n",
        "y_val_tfidf = [0.678, 0.592, 0.472, 0.446]\n",
        "y_val_bert = [0.556, 0.488, 0.741, 0.927]\n",
        "y_val_clinicalbert = [0.625, 0.560, 0.412, 0.382]\n",
        "\n",
        "plt.plot(x, y_val_tfidf, ':', color='b', label='TF-IDF val')\n",
        "plt.plot(x, y_tfidf, color='b', label='TF-IDF train')\n",
        "\n",
        "plt.plot(x, y_val_bert, ':', color='r', label='BERT val')\n",
        "plt.plot(x, y_bert, '-', color='r', label='BERT train')\n",
        "\n",
        "plt.plot(x, y_val_clinicalbert, ':', color='g', label='BioBERT val')\n",
        "plt.plot(x, y_clinicalbert, '-', color='g', label='BioBERT train')\n",
        "\n",
        "\n",
        "plt.xlabel(\"Learning rate values\")\n",
        "plt.ylabel(\"Log-loss values\")\n",
        "plt.legend(loc='upper left')\n",
        "# plt.title('Average train and validation loss depending on learning rate for FedAvg')\n",
        "plt.show()"
      ],
      "metadata": {
        "colab": {
          "base_uri": "https://localhost:8080/",
          "height": 449
        },
        "id": "8LCly5_eFTbn",
        "outputId": "92ae864d-11f0-4a4d-f2e8-b53d27c79ecc"
      },
      "execution_count": 58,
      "outputs": [
        {
          "output_type": "display_data",
          "data": {
            "text/plain": [
              "<Figure size 640x480 with 1 Axes>"
            ],
            "image/png": "[encoded data removed]"
          },
          "metadata": {}
        }
      ]
    }
  ]
}